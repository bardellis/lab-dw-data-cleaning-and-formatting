{
 "cells": [
  {
   "cell_type": "markdown",
   "id": "25d7736c-ba17-4aff-b6bb-66eba20fbf4e",
   "metadata": {
    "id": "25d7736c-ba17-4aff-b6bb-66eba20fbf4e"
   },
   "source": [
    "# Lab | Data Cleaning and Formatting"
   ]
  },
  {
   "cell_type": "markdown",
   "id": "d1973e9e-8be6-4039-b70e-d73ee0d94c99",
   "metadata": {
    "id": "d1973e9e-8be6-4039-b70e-d73ee0d94c99"
   },
   "source": [
    "In this lab, we will be working with the customer data from an insurance company, which can be found in the CSV file located at the following link: https://raw.githubusercontent.com/data-bootcamp-v4/data/main/file1.csv\n"
   ]
  },
  {
   "cell_type": "markdown",
   "id": "31b8a9e7-7db9-4604-991b-ef6771603e57",
   "metadata": {
    "id": "31b8a9e7-7db9-4604-991b-ef6771603e57"
   },
   "source": [
    "# Challenge 1 | Data Cleaning and Formatting"
   ]
  },
  {
   "cell_type": "code",
   "execution_count": 1,
   "id": "5810735c-8056-4442-bbf2-dda38d3e284a",
   "metadata": {
    "id": "5810735c-8056-4442-bbf2-dda38d3e284a"
   },
   "outputs": [],
   "source": [
    "# Your code here\n",
    "import pandas as pd"
   ]
  },
  {
   "cell_type": "markdown",
   "id": "81553f19-9f2c-484b-8940-520aff884022",
   "metadata": {
    "id": "81553f19-9f2c-484b-8940-520aff884022"
   },
   "source": [
    "## Lab | Exercise 1 |  Cleaning Column Names"
   ]
  },
  {
   "cell_type": "markdown",
   "id": "34a929f4-1be4-4fa8-adda-42ffd920be90",
   "metadata": {
    "id": "34a929f4-1be4-4fa8-adda-42ffd920be90"
   },
   "source": [
    "To ensure consistency and ease of use, standardize the column names of the dataframe. Start by taking a first look at the dataframe and identifying any column names that need to be modified. Use appropriate naming conventions and make sure that column names are descriptive and informative.\n",
    "\n",
    "*Hint*:\n",
    "- *Column names should be in lower case*\n",
    "- *White spaces in column names should be replaced by `_`*\n",
    "- *`st` could be replaced for `state`*"
   ]
  },
  {
   "cell_type": "code",
   "execution_count": 2,
   "id": "33b782d9",
   "metadata": {},
   "outputs": [
    {
     "data": {
      "text/plain": [
       "Index(['Customer', 'ST', 'GENDER', 'Education', 'Customer Lifetime Value',\n",
       "       'Income', 'Monthly Premium Auto', 'Number of Open Complaints',\n",
       "       'Policy Type', 'Vehicle Class', 'Total Claim Amount'],\n",
       "      dtype='object')"
      ]
     },
     "execution_count": 2,
     "metadata": {},
     "output_type": "execute_result"
    }
   ],
   "source": [
    "data = pd.read_csv('https://raw.githubusercontent.com/data-bootcamp-v4/data/main/file1.csv')\n",
    "data.columns"
   ]
  },
  {
   "cell_type": "code",
   "execution_count": 3,
   "id": "96cf9cc8",
   "metadata": {},
   "outputs": [
    {
     "data": {
      "text/plain": [
       "Index(['customer', 'st', 'gender', 'education', 'customer lifetime value',\n",
       "       'income', 'monthly premium auto', 'number of open complaints',\n",
       "       'policy type', 'vehicle class', 'total claim amount'],\n",
       "      dtype='object')"
      ]
     },
     "execution_count": 3,
     "metadata": {},
     "output_type": "execute_result"
    }
   ],
   "source": [
    "# Step 1: Convert column names to lowercase\n",
    "data.columns = data.columns.str.lower()\n",
    "data.columns"
   ]
  },
  {
   "cell_type": "code",
   "execution_count": 4,
   "id": "25a63b21",
   "metadata": {},
   "outputs": [
    {
     "data": {
      "text/plain": [
       "Index(['customer', 'st', 'gender', 'education', 'customer_lifetime_value',\n",
       "       'income', 'monthly_premium_auto', 'number_of_open_complaints',\n",
       "       'policy_type', 'vehicle_class', 'total_claim_amount'],\n",
       "      dtype='object')"
      ]
     },
     "execution_count": 4,
     "metadata": {},
     "output_type": "execute_result"
    }
   ],
   "source": [
    "# Step 2: Replace white spaces in column names with underscores\n",
    "data.columns = data.columns.str.replace(' ', '_')\n",
    "data.columns"
   ]
  },
  {
   "cell_type": "code",
   "execution_count": 5,
   "id": "03dfda78",
   "metadata": {},
   "outputs": [
    {
     "data": {
      "text/plain": [
       "Index(['customer', 'state', 'gender', 'education', 'customer_lifetime_value',\n",
       "       'income', 'monthly_premium_auto', 'number_of_open_complaints',\n",
       "       'policy_type', 'vehicle_class', 'total_claim_amount'],\n",
       "      dtype='object')"
      ]
     },
     "execution_count": 5,
     "metadata": {},
     "output_type": "execute_result"
    }
   ],
   "source": [
    "# Step 3: Replace \"st\" with \"state\" in column names\n",
    "data.rename(columns={'st': 'state'}, inplace=True)\n",
    "data.columns"
   ]
  },
  {
   "cell_type": "markdown",
   "id": "9cb501ec-36ff-4589-b872-6252bb150316",
   "metadata": {
    "id": "9cb501ec-36ff-4589-b872-6252bb150316"
   },
   "source": [
    "## Lab | Exercise 2 | Cleaning invalid Values"
   ]
  },
  {
   "cell_type": "markdown",
   "id": "771fdcf3-8e20-4b06-9c24-3a93ba2b0909",
   "metadata": {
    "id": "771fdcf3-8e20-4b06-9c24-3a93ba2b0909"
   },
   "source": [
    "The dataset contains columns with inconsistent and incorrect values that could affect the accuracy of our analysis. Therefore, we need to clean these columns to ensure that they only contain valid data.\n",
    "\n",
    "Note that this exercise will focus only on cleaning inconsistent values and will not involve handling null values (NaN or None).\n",
    "\n",
    "*Hint*:\n",
    "- *Gender column contains various inconsistent values such as \"F\", \"M\", \"Femal\", \"Male\", \"female\", which need to be standardized, for example, to \"M\" and \"F\".*\n",
    "- *State abbreviations be can replaced with its full name, for example \"AZ\": \"Arizona\", \"Cali\": \"California\", \"WA\": \"Washington\"*\n",
    "- *In education, \"Bachelors\" could be replaced by \"Bachelor\"*\n",
    "- *In Customer Lifetime Value, delete the `%` character*\n",
    "- *In vehicle class, \"Sports Car\", \"Luxury SUV\" and \"Luxury Car\" could be replaced by \"Luxury\"*"
   ]
  },
  {
   "cell_type": "code",
   "execution_count": 6,
   "id": "3f8ee5cb-50ab-48af-8a9f-9a389804033c",
   "metadata": {
    "id": "3f8ee5cb-50ab-48af-8a9f-9a389804033c"
   },
   "outputs": [
    {
     "name": "stdout",
     "output_type": "stream",
     "text": [
      "F    502\n",
      "M    452\n",
      "Name: gender, dtype: int64\n"
     ]
    }
   ],
   "source": [
    "# Step 1: Clean Gender Column\n",
    "# Your code here\n",
    "gender_mapping = {\n",
    "    \"F\": \"F\",\n",
    "    \"M\": \"M\",\n",
    "    \"Femal\": \"F\",\n",
    "    \"Male\": \"M\",\n",
    "    \"female\": \"F\"\n",
    "}\n",
    "\n",
    "# Replace the values in the \"Gender\" column using the mapping\n",
    "data['gender'] = data['gender'].replace(gender_mapping)\n",
    "\n",
    "# Verify the changes\n",
    "print(data['gender'].value_counts())"
   ]
  },
  {
   "cell_type": "code",
   "execution_count": 7,
   "id": "b612821c",
   "metadata": {},
   "outputs": [
    {
     "name": "stdout",
     "output_type": "stream",
     "text": [
      "California    331\n",
      "Oregon        320\n",
      "Arizona       211\n",
      "Washington    111\n",
      "Nevada         98\n",
      "Name: state, dtype: int64\n"
     ]
    }
   ],
   "source": [
    "# Step 2: Clean State Column\n",
    "state_mapping = {\n",
    "    'AZ': 'Arizona',\n",
    "    'Cali': 'California',\n",
    "    'WA': 'Washington'\n",
    "}\n",
    "data['state'] = data['state'].replace(state_mapping)\n",
    "\n",
    "# Verify the changes\n",
    "print(data['state'].value_counts())"
   ]
  },
  {
   "cell_type": "code",
   "execution_count": 8,
   "id": "65a41ae3",
   "metadata": {},
   "outputs": [
    {
     "name": "stdout",
     "output_type": "stream",
     "text": [
      "Bachelor                331\n",
      "College                 313\n",
      "High School or Below    296\n",
      "Master                   94\n",
      "Doctor                   37\n",
      "Name: education, dtype: int64\n"
     ]
    }
   ],
   "source": [
    "# Step 3: Clean Education Column\n",
    "data['education'] = data['education'].replace({'Bachelors': 'Bachelor'})\n",
    "\n",
    "# Verify the changes\n",
    "print(data['education'].value_counts())"
   ]
  },
  {
   "cell_type": "code",
   "execution_count": 9,
   "id": "86bb526c",
   "metadata": {},
   "outputs": [
    {
     "data": {
      "text/plain": [
       "dtype('float64')"
      ]
     },
     "execution_count": 9,
     "metadata": {},
     "output_type": "execute_result"
    }
   ],
   "source": [
    "# Step 4: Convert 'customer_lifetime_value' to string and remove '%' sign\n",
    "data['customer_lifetime_value'] = data['customer_lifetime_value'].astype(str).str.rstrip('%').astype(float)\n",
    "\n",
    "# Verify the changes\n",
    "data['customer_lifetime_value'].dtypes"
   ]
  },
  {
   "cell_type": "code",
   "execution_count": 10,
   "id": "ac3a86dc",
   "metadata": {},
   "outputs": [
    {
     "name": "stdout",
     "output_type": "stream",
     "text": [
      "NaN              2937\n",
      "Four-Door Car     576\n",
      "Two-Door Car      205\n",
      "SUV               199\n",
      "Luxury             91\n",
      "Name: vehicle_class, dtype: int64\n"
     ]
    }
   ],
   "source": [
    "# Step 5: Clean Vehicle Class Column\n",
    "vehicle_class_mapping = {\n",
    "    'Sports Car': 'Luxury',\n",
    "    'Luxury SUV': 'Luxury',\n",
    "    'Luxury Car': 'Luxury'\n",
    "}\n",
    "\n",
    "data['vehicle_class'] = data['vehicle_class'].replace(vehicle_class_mapping)\n",
    "'vehicle_class'\n",
    "\n",
    "#data['vehicle_class']\n",
    "print(data['vehicle_class'].value_counts(dropna=False))"
   ]
  },
  {
   "cell_type": "markdown",
   "id": "85ff78ce-0174-4890-9db3-8048b7d7d2d0",
   "metadata": {
    "id": "85ff78ce-0174-4890-9db3-8048b7d7d2d0"
   },
   "source": [
    "## Lab |  Exercise 3 | Formatting data types"
   ]
  },
  {
   "cell_type": "markdown",
   "id": "b91c2cf8-79a2-4baf-9f65-ff2fb22270bd",
   "metadata": {
    "id": "b91c2cf8-79a2-4baf-9f65-ff2fb22270bd"
   },
   "source": [
    "The data types of many columns in the dataset appear to be incorrect. This could impact the accuracy of our analysis. To ensure accurate analysis, we need to correct the data types of these columns. Please update the data types of the columns as appropriate."
   ]
  },
  {
   "cell_type": "markdown",
   "id": "43e5d853-ff9e-43b2-9d92-aef2f78764f3",
   "metadata": {
    "id": "43e5d853-ff9e-43b2-9d92-aef2f78764f3"
   },
   "source": [
    "It is important to note that this exercise does not involve handling null values (NaN or None)."
   ]
  },
  {
   "cell_type": "markdown",
   "id": "329ca691-9196-4419-8969-3596746237a1",
   "metadata": {
    "id": "329ca691-9196-4419-8969-3596746237a1"
   },
   "source": [
    "*Hint*:\n",
    "- *Customer lifetime value should be numeric*\n",
    "- *Number of open complaints has an incorrect format. Look at the different values it takes with `unique()` and take the middle value. As an example, 1/5/00 should be 5. Number of open complaints is a string - remember you can use `split()` to deal with it and take the number you need. Finally, since it should be numeric, cast the column to be in its proper type.*"
   ]
  },
  {
   "cell_type": "code",
   "execution_count": 11,
   "id": "eb8f5991-73e9-405f-bf1c-6b7c589379a9",
   "metadata": {
    "id": "eb8f5991-73e9-405f-bf1c-6b7c589379a9"
   },
   "outputs": [],
   "source": [
    "# Your code here\n",
    "# Correct the column name to 'Customer Lifetime Value' (assuming this is the actual column name)\n",
    "data['customer_lifetime_value'] = pd.to_numeric(data['customer_lifetime_value'], errors='coerce')"
   ]
  },
  {
   "cell_type": "code",
   "execution_count": 12,
   "id": "2fcf82f3",
   "metadata": {},
   "outputs": [
    {
     "data": {
      "text/plain": [
       "dtype('float64')"
      ]
     },
     "execution_count": 12,
     "metadata": {},
     "output_type": "execute_result"
    }
   ],
   "source": [
    "data['customer_lifetime_value'].dtypes"
   ]
  },
  {
   "cell_type": "code",
   "execution_count": 13,
   "id": "1991dac0",
   "metadata": {},
   "outputs": [
    {
     "data": {
      "text/plain": [
       "array(['1/0/00', '1/2/00', '1/1/00', '1/3/00', '1/5/00', '1/4/00', nan],\n",
       "      dtype=object)"
      ]
     },
     "execution_count": 13,
     "metadata": {},
     "output_type": "execute_result"
    }
   ],
   "source": [
    "#step 2 Number of open complaints has an incorrect format. \n",
    "# Look at the different values it takes with unique() and take the middle value.\n",
    "data['number_of_open_complaints'].unique()"
   ]
  },
  {
   "cell_type": "code",
   "execution_count": 14,
   "id": "c681f5fa",
   "metadata": {},
   "outputs": [
    {
     "data": {
      "text/plain": [
       "['1', '5', '00']"
      ]
     },
     "execution_count": 14,
     "metadata": {},
     "output_type": "execute_result"
    }
   ],
   "source": [
    "# As an example, 1/5/00 should be 5.\n",
    "string = '1/5/00'\n",
    "string.split('/')"
   ]
  },
  {
   "cell_type": "code",
   "execution_count": 15,
   "id": "d4baba40",
   "metadata": {},
   "outputs": [],
   "source": [
    "# Number of open complaints is a string - remember you can use split() to deal with it and take the number you need.\n",
    "# Finally, since it should be numeric, cast the column to be in its proper type\n",
    "# Split the 'number_of_open_complaints' column by '/'\n",
    "data['number_of_open_complaints'] = data['number_of_open_complaints'].str.split('/').str[1]\n",
    "\n",
    "# Convert the extracted portion to numeric (assuming it contains numeric values)\n",
    "data['number_of_open_complaints'] = pd.to_numeric(data['number_of_open_complaints'], errors='coerce')"
   ]
  },
  {
   "cell_type": "code",
   "execution_count": 16,
   "id": "2e80fc2c",
   "metadata": {},
   "outputs": [
    {
     "data": {
      "text/plain": [
       "array([ 0.,  2.,  1.,  3.,  5.,  4., nan])"
      ]
     },
     "execution_count": 16,
     "metadata": {},
     "output_type": "execute_result"
    }
   ],
   "source": [
    "data['number_of_open_complaints'].unique()"
   ]
  },
  {
   "cell_type": "code",
   "execution_count": 17,
   "id": "ed47ff3d",
   "metadata": {},
   "outputs": [],
   "source": [
    "# Convert 'number_of_open_complaints' column to float\n",
    "data['number_of_open_complaints'] = data['number_of_open_complaints'].astype(float)"
   ]
  },
  {
   "cell_type": "code",
   "execution_count": 18,
   "id": "787e2072",
   "metadata": {},
   "outputs": [
    {
     "data": {
      "text/plain": [
       "array([ 0.,  2.,  1.,  3.,  5.,  4., nan])"
      ]
     },
     "execution_count": 18,
     "metadata": {},
     "output_type": "execute_result"
    }
   ],
   "source": [
    "data['number_of_open_complaints'].unique()"
   ]
  },
  {
   "cell_type": "markdown",
   "id": "14c52e28-2d0c-4dd2-8bd5-3476e34fadc1",
   "metadata": {
    "id": "14c52e28-2d0c-4dd2-8bd5-3476e34fadc1"
   },
   "source": [
    "## Lab | Exercise 4 | Dealing with Null values"
   ]
  },
  {
   "cell_type": "markdown",
   "id": "34b9a20f-7d32-4417-975e-1b4dfb0e16cd",
   "metadata": {
    "id": "34b9a20f-7d32-4417-975e-1b4dfb0e16cd"
   },
   "source": [
    "Identify any columns with null or missing values. Identify how many null values each column has. You can use the `isnull()` function in pandas to find columns with null values.\n",
    "\n",
    "Decide on a strategy for handling the null values. There are several options, including:\n",
    "\n",
    "- Drop the rows or columns with null values\n",
    "- Fill the null values with a specific value (such as the column mean or median for numerical variables, and mode for categorical variables)\n",
    "- Fill the null values with the previous or next value in the column\n",
    "- Fill the null values based on a more complex algorithm or model (note: we haven't covered this yet)\n",
    "\n",
    "Implement your chosen strategy to handle the null values. You can use the `fillna()` function in pandas to fill null values or `dropna()` function to drop null values.\n",
    "\n",
    "Verify that your strategy has successfully handled the null values. You can use the `isnull()` function again to check if there are still null values in the dataset.\n",
    "\n",
    "Remember to document your process and explain your reasoning for choosing a particular strategy for handling null values.\n",
    "\n",
    "After formatting data types, as a last step, convert all the numeric variables to integers using `applymap()`."
   ]
  },
  {
   "cell_type": "code",
   "execution_count": 19,
   "id": "f49da79d",
   "metadata": {},
   "outputs": [
    {
     "name": "stdout",
     "output_type": "stream",
     "text": [
      "Columns with null values:\n",
      "['customer', 'state', 'gender', 'education', 'customer_lifetime_value', 'income', 'monthly_premium_auto', 'number_of_open_complaints', 'policy_type', 'vehicle_class', 'total_claim_amount']\n"
     ]
    }
   ],
   "source": [
    "# Identify any columns with null or missing values.\n",
    "# Identify how many null values each column has.\n",
    "# You can use the isnull() function in pandas to find columns with null values.\n",
    "\n",
    "columns_with_null_values = data.columns[data.isna().any()].tolist()\n",
    "print(\"Columns with null values:\")\n",
    "print(columns_with_null_values)"
   ]
  },
  {
   "cell_type": "code",
   "execution_count": 20,
   "id": "d0cb5f16",
   "metadata": {},
   "outputs": [
    {
     "name": "stdout",
     "output_type": "stream",
     "text": [
      "customer                     2937\n",
      "state                        2937\n",
      "gender                       3054\n",
      "education                    2937\n",
      "customer_lifetime_value      2940\n",
      "income                       2937\n",
      "monthly_premium_auto         2937\n",
      "number_of_open_complaints    2937\n",
      "policy_type                  2937\n",
      "vehicle_class                2937\n",
      "total_claim_amount           2937\n",
      "dtype: int64\n"
     ]
    }
   ],
   "source": [
    "null_mask = data.isna()  # Creates a DataFrame of boolean values\n",
    "null_count = null_mask.sum()  # Counts null values in each column\n",
    "print(null_count)"
   ]
  },
  {
   "cell_type": "code",
   "execution_count": 21,
   "id": "f6f62abd",
   "metadata": {},
   "outputs": [],
   "source": [
    "# customer\n",
    "data.dropna(subset=['customer'], inplace=True)"
   ]
  },
  {
   "cell_type": "code",
   "execution_count": 22,
   "id": "e408daaa",
   "metadata": {},
   "outputs": [
    {
     "data": {
      "text/plain": [
       "F      502\n",
       "M      452\n",
       "NaN    117\n",
       "Name: gender, dtype: int64"
      ]
     },
     "execution_count": 22,
     "metadata": {},
     "output_type": "execute_result"
    }
   ],
   "source": [
    "# gender\n",
    "data['gender'].value_counts(dropna=False)"
   ]
  },
  {
   "cell_type": "code",
   "execution_count": 23,
   "id": "8d3a574b",
   "metadata": {},
   "outputs": [
    {
     "data": {
      "text/plain": [
       "0    F\n",
       "Name: gender, dtype: object"
      ]
     },
     "execution_count": 23,
     "metadata": {},
     "output_type": "execute_result"
    }
   ],
   "source": [
    "mode_value = data['gender'].mode()\n",
    "mode_value"
   ]
  },
  {
   "cell_type": "code",
   "execution_count": 24,
   "id": "0eac2b6b",
   "metadata": {},
   "outputs": [],
   "source": [
    "data['gender'].fillna(data['gender'].mode()[0], inplace=True)"
   ]
  },
  {
   "cell_type": "code",
   "execution_count": 25,
   "id": "4d33ef2e",
   "metadata": {},
   "outputs": [
    {
     "data": {
      "text/plain": [
       "445811.34     4\n",
       "251459.20     4\n",
       "NaN           3\n",
       "2412750.40    3\n",
       "684615.03     3\n",
       "             ..\n",
       "1210120.88    1\n",
       "245357.08     1\n",
       "507566.27     1\n",
       "321497.94     1\n",
       "899704.02     1\n",
       "Name: customer_lifetime_value, Length: 1028, dtype: int64"
      ]
     },
     "execution_count": 25,
     "metadata": {},
     "output_type": "execute_result"
    }
   ],
   "source": [
    "# customer_lifetime_value\n",
    "data['customer_lifetime_value'].value_counts(dropna=False)"
   ]
  },
  {
   "cell_type": "code",
   "execution_count": 26,
   "id": "62473d12",
   "metadata": {},
   "outputs": [
    {
     "data": {
      "text/plain": [
       "0    251459.20\n",
       "1    445811.34\n",
       "Name: customer_lifetime_value, dtype: float64"
      ]
     },
     "execution_count": 26,
     "metadata": {},
     "output_type": "execute_result"
    }
   ],
   "source": [
    "mode_value = data['customer_lifetime_value'].mode()\n",
    "mode_value"
   ]
  },
  {
   "cell_type": "code",
   "execution_count": 27,
   "id": "e15f5a8a",
   "metadata": {},
   "outputs": [],
   "source": [
    "data['customer_lifetime_value'].fillna(data['customer_lifetime_value'].mode()[0], inplace=True)"
   ]
  },
  {
   "cell_type": "code",
   "execution_count": 28,
   "id": "ceb2688e",
   "metadata": {},
   "outputs": [
    {
     "data": {
      "text/plain": [
       "customer                     object\n",
       "state                        object\n",
       "gender                       object\n",
       "education                    object\n",
       "customer_lifetime_value       int64\n",
       "income                        int64\n",
       "monthly_premium_auto          int64\n",
       "number_of_open_complaints     int64\n",
       "policy_type                  object\n",
       "vehicle_class                object\n",
       "total_claim_amount            int64\n",
       "dtype: object"
      ]
     },
     "execution_count": 28,
     "metadata": {},
     "output_type": "execute_result"
    }
   ],
   "source": [
    "# After formatting data types, as a last step, convert all the numeric variables to integers using applymap()\n",
    "def convert_to_integer(x):\n",
    "    try:\n",
    "        return int(x)\n",
    "    except (ValueError, TypeError):\n",
    "        return x\n",
    "data = data.applymap(convert_to_integer)\n",
    "data.dtypes"
   ]
  },
  {
   "cell_type": "markdown",
   "id": "98416351-e999-4156-9834-9b00a311adfa",
   "metadata": {
    "id": "98416351-e999-4156-9834-9b00a311adfa"
   },
   "source": [
    "## Lab |  Exercise 5 | Dealing with duplicates"
   ]
  },
  {
   "cell_type": "markdown",
   "id": "ea0816a7-a18e-4d4c-b667-a8452a800bd1",
   "metadata": {
    "id": "ea0816a7-a18e-4d4c-b667-a8452a800bd1"
   },
   "source": [
    "Use the `.duplicated()` method to identify any duplicate rows in the dataframe.\n",
    "\n",
    "Decide on a strategy for handling the duplicates. Options include:\n",
    "- Dropping all duplicate rows\n",
    "- Keeping only the first occurrence of each duplicated row\n",
    "- Keeping only the last occurrence of each duplicated row\n",
    "- Dropping duplicates based on a subset of columns\n",
    "- Dropping duplicates based on a specific column\n",
    "\n",
    "Implement your chosen strategy using the `drop_duplicates()` function.\n",
    "\n",
    "Verify that your strategy has successfully handled the duplicates by checking for duplicates again using `.duplicated()`.\n",
    "\n",
    "Remember to document your process and explain your reasoning for choosing a particular strategy for handling duplicates.\n",
    "\n",
    "Save the cleaned dataset to a new CSV file.\n",
    "\n",
    "*Hint*: *after dropping duplicates, reset the index to ensure consistency*."
   ]
  },
  {
   "cell_type": "code",
   "execution_count": 29,
   "id": "aa822754",
   "metadata": {},
   "outputs": [
    {
     "name": "stdout",
     "output_type": "stream",
     "text": [
      "(1071, 11)\n"
     ]
    }
   ],
   "source": [
    "# Drop all duplicate rows and keep the first occurrence\n",
    "data = data.drop_duplicates()\n",
    "print(data.shape)"
   ]
  },
  {
   "cell_type": "code",
   "execution_count": 30,
   "id": "39a674ae",
   "metadata": {},
   "outputs": [],
   "source": [
    "data.to_csv('cleaned_data.csv', index=False)"
   ]
  },
  {
   "cell_type": "markdown",
   "id": "b6d9b044",
   "metadata": {},
   "source": [
    "Show DataFrame info.\n",
    "Describe DataFrame.\n",
    "Show a plot of the Gender breakdown.\n",
    "Show a plot of Income by State.\n",
    "Show a plot of the Policy Type by the Total Claim Amount.\n",
    "Show a plot of the Education by Vehicle Class.\n",
    "What insights can you establish from these plots?\n",
    "What other plots do you feel would be beneficial?"
   ]
  },
  {
   "cell_type": "code",
   "execution_count": 31,
   "id": "5c050a90",
   "metadata": {},
   "outputs": [],
   "source": [
    "# Show a plot of the Gender breakdown.\n",
    "import matplotlib.pyplot as plt\n",
    "import seaborn as sns\n",
    "from scipy import stats"
   ]
  },
  {
   "cell_type": "markdown",
   "id": "6600ab61",
   "metadata": {},
   "source": [
    "## Lab | customer-analysis-round | 3"
   ]
  },
  {
   "cell_type": "markdown",
   "id": "ee9da622",
   "metadata": {},
   "source": [
    "* Show DataFrame info. Describe DataFrame. \n",
    "* Show a plot of the Gender breakdown. \n",
    "* Show a plot of Income by State. \n",
    "* Show a plot of the Policy Type by the Total Claim Amount.\n",
    "* Show a plot of the Education by Vehicle Class.\n",
    "\n",
    "What insights can you establish from these plots? What other plots do you feel would be beneficial?"
   ]
  },
  {
   "cell_type": "code",
   "execution_count": 32,
   "id": "82a7d365",
   "metadata": {},
   "outputs": [
    {
     "name": "stdout",
     "output_type": "stream",
     "text": [
      "<class 'pandas.core.frame.DataFrame'>\n",
      "Int64Index: 1071 entries, 0 to 1070\n",
      "Data columns (total 11 columns):\n",
      " #   Column                     Non-Null Count  Dtype \n",
      "---  ------                     --------------  ----- \n",
      " 0   customer                   1071 non-null   object\n",
      " 1   state                      1071 non-null   object\n",
      " 2   gender                     1071 non-null   object\n",
      " 3   education                  1071 non-null   object\n",
      " 4   customer_lifetime_value    1071 non-null   int64 \n",
      " 5   income                     1071 non-null   int64 \n",
      " 6   monthly_premium_auto       1071 non-null   int64 \n",
      " 7   number_of_open_complaints  1071 non-null   int64 \n",
      " 8   policy_type                1071 non-null   object\n",
      " 9   vehicle_class              1071 non-null   object\n",
      " 10  total_claim_amount         1071 non-null   int64 \n",
      "dtypes: int64(5), object(6)\n",
      "memory usage: 100.4+ KB\n"
     ]
    }
   ],
   "source": [
    "data.info()"
   ]
  },
  {
   "cell_type": "code",
   "execution_count": 33,
   "id": "ea760725",
   "metadata": {},
   "outputs": [
    {
     "data": {
      "image/png": "[encoded data removed]",
      "text/plain": [
       "<Figure size 432x288 with 1 Axes>"
      ]
     },
     "metadata": {
      "needs_background": "light"
     },
     "output_type": "display_data"
    }
   ],
   "source": [
    "gender_counts = data['gender'].value_counts()\n",
    "gender_counts.plot(kind='bar')\n",
    "plt.title('gender Distribution')\n",
    "plt.xlabel('gender')\n",
    "plt.ylabel('Count')\n",
    "plt.show()"
   ]
  },
  {
   "cell_type": "code",
   "execution_count": 34,
   "id": "6300413e",
   "metadata": {},
   "outputs": [
    {
     "name": "stdout",
     "output_type": "stream",
     "text": [
      "F    619\n",
      "M    452\n",
      "Name: gender, dtype: int64\n"
     ]
    }
   ],
   "source": [
    "gender_counts = data['gender'].value_counts()\n",
    "print(gender_counts)"
   ]
  },
  {
   "cell_type": "code",
   "execution_count": 35,
   "id": "fa311e39",
   "metadata": {},
   "outputs": [
    {
     "data": {
      "image/png": "[encoded data removed]",
      "text/plain": [
       "<Figure size 432x288 with 1 Axes>"
      ]
     },
     "metadata": {
      "needs_background": "light"
     },
     "output_type": "display_data"
    }
   ],
   "source": [
    "# Show a plot of Income by State.\n",
    "sns.barplot(x=\"state\", y=\"income\", data=data)\n",
    "plt.show()"
   ]
  },
  {
   "cell_type": "code",
   "execution_count": 36,
   "id": "0e1ed016",
   "metadata": {},
   "outputs": [
    {
     "data": {
      "image/png": "[encoded data removed]",
      "text/plain": [
       "<Figure size 432x288 with 1 Axes>"
      ]
     },
     "metadata": {
      "needs_background": "light"
     },
     "output_type": "display_data"
    }
   ],
   "source": [
    "# Show a plot of the Policy Type by the Total Claim Amount.\n",
    "sns.barplot(x=\"policy_type\", y=\"total_claim_amount\", data=data)\n",
    "plt.show()"
   ]
  },
  {
   "cell_type": "code",
   "execution_count": 37,
   "id": "6f1906ed",
   "metadata": {},
   "outputs": [
    {
     "name": "stdout",
     "output_type": "stream",
     "text": [
      "Index(['customer', 'state', 'gender', 'education', 'customer_lifetime_value',\n",
      "       'income', 'monthly_premium_auto', 'number_of_open_complaints',\n",
      "       'policy_type', 'vehicle_class', 'total_claim_amount'],\n",
      "      dtype='object')\n"
     ]
    }
   ],
   "source": [
    "print(data.columns)"
   ]
  },
  {
   "cell_type": "code",
   "execution_count": 38,
   "id": "0e805d48",
   "metadata": {},
   "outputs": [
    {
     "data": {
      "text/plain": [
       "array(['Master', 'Bachelor', 'High School or Below', 'College', 'Doctor'],\n",
       "      dtype=object)"
      ]
     },
     "execution_count": 38,
     "metadata": {},
     "output_type": "execute_result"
    }
   ],
   "source": [
    "data['education'].unique()"
   ]
  },
  {
   "cell_type": "code",
   "execution_count": 39,
   "id": "994cd884",
   "metadata": {},
   "outputs": [
    {
     "data": {
      "text/plain": [
       "array(['Four-Door Car', 'Two-Door Car', 'SUV', 'Luxury'], dtype=object)"
      ]
     },
     "execution_count": 39,
     "metadata": {},
     "output_type": "execute_result"
    }
   ],
   "source": [
    "data['vehicle_class'].unique()"
   ]
  },
  {
   "cell_type": "code",
   "execution_count": 40,
   "id": "168a82fc",
   "metadata": {},
   "outputs": [
    {
     "data": {
      "image/png": "[encoded data removed]",
      "text/plain": [
       "<Figure size 432x288 with 1 Axes>"
      ]
     },
     "metadata": {
      "needs_background": "light"
     },
     "output_type": "display_data"
    }
   ],
   "source": [
    "# Show a plot of the Education by Vehicle Class. \n",
    "sns.countplot(x='education', hue='vehicle_class', data=data)\n",
    "\n",
    "# Set labels and title\n",
    "plt.xlabel(\"Education\")\n",
    "plt.ylabel(\"Count\")\n",
    "plt.title(\"Education by Vehicle Class\")\n",
    "\n",
    "# Rotate x-axis labels for better readability (optional)\n",
    "plt.xticks(rotation=45)\n",
    "\n",
    "# Show the plot\n",
    "plt.show()"
   ]
  },
  {
   "cell_type": "markdown",
   "id": "c2f67836",
   "metadata": {},
   "source": [
    "### What insights can you establish from these plots? What other plots do you feel would be beneficial?\n",
    "* Clients are more female than male\n",
    "* Washington customers have the highest incomes \n",
    "* Personal and corporate auto policies have more claims than specialty auto policies.\n",
    "* Education does not seem to affect the vehicle class of customers."
   ]
  },
  {
   "cell_type": "markdown",
   "id": "60840701-4783-40e2-b4d8-55303f9100c9",
   "metadata": {
    "id": "60840701-4783-40e2-b4d8-55303f9100c9"
   },
   "source": [
    "# Bonus: Challenge 2: creating functions on a separate `py` file"
   ]
  },
  {
   "cell_type": "markdown",
   "id": "9d1adb3a-17cf-4899-8041-da21a4337fb4",
   "metadata": {
    "id": "9d1adb3a-17cf-4899-8041-da21a4337fb4"
   },
   "source": [
    "Put all the data cleaning and formatting steps into functions, and create a main function that performs all the cleaning and formatting.\n",
    "\n",
    "Write these functions in separate .py file(s). By putting these steps into functions, we can make the code more modular and easier to maintain."
   ]
  },
  {
   "cell_type": "markdown",
   "id": "0e170dc2-b62c-417a-8248-e63ed18a70c4",
   "metadata": {
    "id": "0e170dc2-b62c-417a-8248-e63ed18a70c4"
   },
   "source": [
    "*Hint: autoreload module is a utility module in Python that allows you to automatically reload modules in the current session when changes are made to the source code. This can be useful in situations where you are actively developing code and want to see the effects of changes you make without having to constantly restart the Python interpreter or Jupyter Notebook kernel.*"
   ]
  },
  {
   "cell_type": "markdown",
   "id": "80f846bb-3f5e-4ca2-96c0-900728daca5a",
   "metadata": {
    "id": "80f846bb-3f5e-4ca2-96c0-900728daca5a",
    "tags": []
   },
   "source": [
    "# Bonus: Challenge 3: Analyzing Clean and Formated Data"
   ]
  },
  {
   "cell_type": "markdown",
   "id": "9021630e-cc90-446c-b5bd-264d6c864207",
   "metadata": {
    "id": "9021630e-cc90-446c-b5bd-264d6c864207"
   },
   "source": [
    "You have been tasked with analyzing the data to identify potential areas for improving customer retention and profitability. Your goal is to identify customers with a high policy claim amount and a low customer lifetime value.\n",
    "\n",
    "In the Pandas Lab, we only looked at high policy claim amounts because we couldn't look into low customer lifetime values. If we had tried to work with that column, we wouldn't have been able to because customer lifetime value wasn't clean and in its proper format. So after cleaning and formatting the data, let's get some more interesting insights!\n",
    "\n",
    "Instructions:\n",
    "\n",
    "- Review the statistics again for total claim amount and customer lifetime value to gain an understanding of the data.\n",
    "- To identify potential areas for improving customer retention and profitability, we want to focus on customers with a high policy claim amount and a low customer lifetime value. Consider customers with a high policy claim amount to be those in the top 25% of the total claim amount, and clients with a low customer lifetime value to be those in the bottom 25% of the customer lifetime value. Create a pandas DataFrame object that contains information about customers with a policy claim amount greater than the 75th percentile and a customer lifetime value in the bottom 25th percentile.\n",
    "- Use DataFrame methods to calculate summary statistics about the high policy claim amount and low customer lifetime value data. To do so, select both columns of the dataframe simultaneously and pass it to the `.describe()` method. This will give you descriptive statistics, such as mean, median, standard deviation, minimum and maximum values for both columns at the same time, allowing you to compare and analyze their characteristics."
   ]
  },
  {
   "cell_type": "markdown",
   "id": "865f6dd0",
   "metadata": {},
   "source": [
    "# lab | customer-analysis-round-4"
   ]
  },
  {
   "cell_type": "markdown",
   "id": "62f02cd5",
   "metadata": {},
   "source": [
    "* Check the data types of the columns. Get the numeric data into a dataframe called numerical and categorical columns in a dataframe called categorical. (You can use np.number and object to select the numerical data types and categorical data types respectively)\n",
    "\n",
    "* Now we will try to check the normality of the numerical variables visually\n",
    "    * Use seaborn library to construct distribution plots for the numerical variables\n",
    "    * Use Matplotlib to construct histograms\n",
    "    * Do the distributions for different numerical variables look like a normal distribution?\n",
    "* For the numerical variables, check the multicollinearity between the features. Please note that we will use the column total_claim_amount later as the target variable.\n",
    "* Drop one of the two features that show a high correlation between them (greater than 0.9). Write code for both the correlation matrix and for seaborn heatmap. If there is no pair of features that have a high correlation, then do not drop any features"
   ]
  },
  {
   "cell_type": "markdown",
   "id": "b880e2aa",
   "metadata": {},
   "source": [
    "## lab | customer-analysis-round-4 | Data types"
   ]
  },
  {
   "cell_type": "code",
   "execution_count": 41,
   "id": "bc205b62",
   "metadata": {},
   "outputs": [
    {
     "data": {
      "text/plain": [
       "Index(['customer', 'state', 'gender', 'education', 'customer_lifetime_value',\n",
       "       'income', 'monthly_premium_auto', 'number_of_open_complaints',\n",
       "       'policy_type', 'vehicle_class', 'total_claim_amount'],\n",
       "      dtype='object')"
      ]
     },
     "execution_count": 41,
     "metadata": {},
     "output_type": "execute_result"
    }
   ],
   "source": [
    "# Your code here\n",
    "from scipy.stats import shapiro\n",
    "from sklearn.preprocessing import MinMaxScaler # do not use the function Normalise() - it does something entirely different\n",
    "from sklearn.preprocessing import StandardScaler\n",
    "\n",
    "# Check the data types of the columns. \n",
    "# Get the numeric data into a dataframe called numerical and categorical columns in a dataframe called categorical.\n",
    "# (You can use np.number and object to select the numerical data types and categorical data types respectively)\n",
    "data.columns"
   ]
  },
  {
   "cell_type": "code",
   "execution_count": 42,
   "id": "5d80dfc2",
   "metadata": {},
   "outputs": [
    {
     "data": {
      "text/plain": [
       "Index(['customer_lifetime_value', 'income', 'monthly_premium_auto',\n",
       "       'number_of_open_complaints', 'total_claim_amount'],\n",
       "      dtype='object')"
      ]
     },
     "execution_count": 42,
     "metadata": {},
     "output_type": "execute_result"
    }
   ],
   "source": [
    "numerical=data.select_dtypes('number')#.columns\n",
    "numerical.columns"
   ]
  },
  {
   "cell_type": "code",
   "execution_count": 43,
   "id": "107ad249",
   "metadata": {},
   "outputs": [
    {
     "data": {
      "text/plain": [
       "customer_lifetime_value      int64\n",
       "income                       int64\n",
       "monthly_premium_auto         int64\n",
       "number_of_open_complaints    int64\n",
       "total_claim_amount           int64\n",
       "dtype: object"
      ]
     },
     "execution_count": 43,
     "metadata": {},
     "output_type": "execute_result"
    }
   ],
   "source": [
    "numerical.dtypes"
   ]
  },
  {
   "cell_type": "markdown",
   "id": "2456b088",
   "metadata": {},
   "source": [
    "## lab | customer-analysis-round-4 | Normality"
   ]
  },
  {
   "cell_type": "code",
   "execution_count": 44,
   "id": "19288dac",
   "metadata": {
    "scrolled": false
   },
   "outputs": [],
   "source": [
    "# Now we will try to check the normality of the numerical variables visually\n",
    "# Use seaborn library to construct distribution plots for the numerical variables\n",
    "# Use Matplotlib to construct histograms"
   ]
  },
  {
   "cell_type": "code",
   "execution_count": 45,
   "id": "f53edcdb",
   "metadata": {},
   "outputs": [
    {
     "data": {
      "image/png": "[encoded data removed]",
      "text/plain": [
       "<Figure size 432x288 with 1 Axes>"
      ]
     },
     "metadata": {
      "needs_background": "light"
     },
     "output_type": "display_data"
    }
   ],
   "source": [
    "sns.histplot(data['customer_lifetime_value'], kde=True)\n",
    "plt.show()"
   ]
  },
  {
   "cell_type": "code",
   "execution_count": 46,
   "id": "6f9bf4ba",
   "metadata": {},
   "outputs": [
    {
     "data": {
      "image/png": "[encoded data removed]",
      "text/plain": [
       "<Figure size 432x288 with 1 Axes>"
      ]
     },
     "metadata": {
      "needs_background": "light"
     },
     "output_type": "display_data"
    }
   ],
   "source": [
    "# histogram\n",
    "plt.hist(data['customer_lifetime_value'], bins=10, color='grey', edgecolor='black')\n",
    "\n",
    "plt.xlabel('Values')\n",
    "plt.ylabel('Frequency')\n",
    "plt.title('customer_lifetime_value')\n",
    "\n",
    "# Show the histogram\n",
    "plt.show()"
   ]
  },
  {
   "cell_type": "code",
   "execution_count": 47,
   "id": "d97e1bfc",
   "metadata": {},
   "outputs": [
    {
     "name": "stdout",
     "output_type": "stream",
     "text": [
      "The data does not appear to be normally distributed (p=0.0000)\n",
      "shapiro p_value = 4.749792509488841e-38\n"
     ]
    }
   ],
   "source": [
    "column_data = data['customer_lifetime_value']\n",
    "stat, p = shapiro(column_data)\n",
    "\n",
    "alpha = 0.05  # significance level\n",
    "if p > alpha:\n",
    "    print(f\"The data appears to be normally distributed (p={p:.4f})\")\n",
    "else:\n",
    "    print(f\"The data does not appear to be normally distributed (p={p:.4f})\")\n",
    "print(\"shapiro p_value =\",p)"
   ]
  },
  {
   "cell_type": "code",
   "execution_count": 48,
   "id": "5838b526",
   "metadata": {},
   "outputs": [
    {
     "data": {
      "image/png": "[encoded data removed]",
      "text/plain": [
       "<Figure size 432x288 with 1 Axes>"
      ]
     },
     "metadata": {
      "needs_background": "light"
     },
     "output_type": "display_data"
    }
   ],
   "source": [
    "sns.histplot(data['income'], kde=True)\n",
    "plt.show()"
   ]
  },
  {
   "cell_type": "code",
   "execution_count": 49,
   "id": "2f189a81",
   "metadata": {},
   "outputs": [
    {
     "data": {
      "image/png": "[encoded data removed]",
      "text/plain": [
       "<Figure size 432x288 with 1 Axes>"
      ]
     },
     "metadata": {
      "needs_background": "light"
     },
     "output_type": "display_data"
    }
   ],
   "source": [
    "# histogram\n",
    "plt.hist(data['income'], bins=10, color='grey', edgecolor='black')\n",
    "\n",
    "plt.xlabel('Values')\n",
    "plt.ylabel('Frequency')\n",
    "plt.title('income')\n",
    "\n",
    "# Show the histogram\n",
    "plt.show()"
   ]
  },
  {
   "cell_type": "code",
   "execution_count": 50,
   "id": "ef2709a1",
   "metadata": {},
   "outputs": [
    {
     "name": "stdout",
     "output_type": "stream",
     "text": [
      "The data does not appear to be normally distributed (p=0.0000)\n",
      "shapiro p_value = 2.4146999492201514e-22\n"
     ]
    }
   ],
   "source": [
    "column_data = data['income']\n",
    "stat, p = shapiro(column_data)\n",
    "\n",
    "alpha = 0.05  # significance level\n",
    "if p > alpha:\n",
    "    print(f\"The data appears to be normally distributed (p={p:.4f})\")\n",
    "else:\n",
    "    print(f\"The data does not appear to be normally distributed (p={p:.4f})\")\n",
    "print(\"shapiro p_value =\",p)"
   ]
  },
  {
   "cell_type": "code",
   "execution_count": 51,
   "id": "af72d61a",
   "metadata": {},
   "outputs": [
    {
     "data": {
      "image/png": "[encoded data removed]",
      "text/plain": [
       "<Figure size 432x288 with 1 Axes>"
      ]
     },
     "metadata": {
      "needs_background": "light"
     },
     "output_type": "display_data"
    }
   ],
   "source": [
    "sns.histplot(data['monthly_premium_auto'], kde=True)\n",
    "plt.show()"
   ]
  },
  {
   "cell_type": "code",
   "execution_count": 52,
   "id": "5731bd9e",
   "metadata": {},
   "outputs": [
    {
     "data": {
      "image/png": "[encoded data removed]",
      "text/plain": [
       "<Figure size 432x288 with 1 Axes>"
      ]
     },
     "metadata": {
      "needs_background": "light"
     },
     "output_type": "display_data"
    }
   ],
   "source": [
    "# histogram\n",
    "plt.hist(data['monthly_premium_auto'], bins=10, color='grey', edgecolor='black')\n",
    "\n",
    "plt.xlabel('Values')\n",
    "plt.ylabel('Frequency')\n",
    "plt.title('monthly_premium_auto')\n",
    "\n",
    "# Show the histogram\n",
    "plt.show()"
   ]
  },
  {
   "cell_type": "code",
   "execution_count": 53,
   "id": "e03d002b",
   "metadata": {},
   "outputs": [
    {
     "name": "stdout",
     "output_type": "stream",
     "text": [
      "count     1071.000000\n",
      "mean       193.234360\n",
      "std       1601.190369\n",
      "min         61.000000\n",
      "25%         68.000000\n",
      "50%         83.000000\n",
      "75%        109.500000\n",
      "max      35354.000000\n",
      "Name: monthly_premium_auto, dtype: float64\n"
     ]
    }
   ],
   "source": [
    "values_series = data['monthly_premium_auto'].describe()\n",
    "print(values_series)"
   ]
  },
  {
   "cell_type": "code",
   "execution_count": 54,
   "id": "5069e70d",
   "metadata": {},
   "outputs": [
    {
     "data": {
      "text/plain": [
       "pandas.core.series.Series"
      ]
     },
     "execution_count": 54,
     "metadata": {},
     "output_type": "execute_result"
    }
   ],
   "source": [
    "type(values_series)"
   ]
  },
  {
   "cell_type": "code",
   "execution_count": 55,
   "id": "aa9275d1",
   "metadata": {},
   "outputs": [
    {
     "data": {
      "text/plain": [
       "array([   61,    62,    63,    64,    65,    66,    67,    68,    69,\n",
       "          70,    71,    72,    73,    74,    76,    77,    78,    79,\n",
       "          80,    81,    82,    83,    84,    85,    86,    87,    88,\n",
       "          89,    90,    91,    92,    93,    94,    95,    96,    97,\n",
       "          98,    99,   100,   101,   102,   103,   104,   105,   106,\n",
       "         107,   108,   109,   110,   111,   112,   113,   114,   115,\n",
       "         116,   117,   118,   119,   121,   123,   124,   125,   126,\n",
       "         127,   128,   129,   130,   131,   132,   133,   134,   135,\n",
       "         136,   137,   138,   139,   140,   141,   142,   147,   148,\n",
       "         150,   152,   153,   154,   156,   159,   160,   161,   165,\n",
       "         171,   172,   173,   176,   177,   180,   181,   182,   183,\n",
       "         186,   188,   189,   190,   192,   193,   196,   197,   198,\n",
       "         199,   203,   206,   210,   217,   225,   230,   237,   239,\n",
       "         244,   245,   253,   255,   256,   271,   276,   285,   295,\n",
       "        1000,  1005,  6464, 10202, 35353, 35354], dtype=int64)"
      ]
     },
     "execution_count": 55,
     "metadata": {},
     "output_type": "execute_result"
    }
   ],
   "source": [
    "data1 = data.sort_values(by='monthly_premium_auto', ascending=True)\n",
    "data1['monthly_premium_auto'].unique()"
   ]
  },
  {
   "cell_type": "code",
   "execution_count": 56,
   "id": "dd34df0d",
   "metadata": {},
   "outputs": [
    {
     "data": {
      "text/plain": [
       "65       47\n",
       "63       39\n",
       "67       37\n",
       "71       37\n",
       "73       37\n",
       "         ..\n",
       "190       1\n",
       "141       1\n",
       "140       1\n",
       "197       1\n",
       "35354     1\n",
       "Name: monthly_premium_auto, Length: 132, dtype: int64"
      ]
     },
     "execution_count": 56,
     "metadata": {},
     "output_type": "execute_result"
    }
   ],
   "source": [
    "data1['monthly_premium_auto'].value_counts(dropna=False)"
   ]
  },
  {
   "cell_type": "code",
   "execution_count": 57,
   "id": "693443fc",
   "metadata": {},
   "outputs": [
    {
     "name": "stdout",
     "output_type": "stream",
     "text": [
      "The data does not appear to be normally distributed (p=0.0000)\n",
      "shapiro p_value = 0.0\n"
     ]
    }
   ],
   "source": [
    "column_data = data['monthly_premium_auto']\n",
    "stat, p = shapiro(column_data)\n",
    "\n",
    "alpha = 0.05  # significance level\n",
    "if p > alpha:\n",
    "    print(f\"The data appears to be normally distributed (p={p:.4f})\")\n",
    "else:\n",
    "    print(f\"The data does not appear to be normally distributed (p={p:.4f})\")\n",
    "print(\"shapiro p_value =\",p)"
   ]
  },
  {
   "cell_type": "code",
   "execution_count": 58,
   "id": "8fb6261d",
   "metadata": {},
   "outputs": [
    {
     "data": {
      "image/png": "[encoded data removed]",
      "text/plain": [
       "<Figure size 432x288 with 1 Axes>"
      ]
     },
     "metadata": {
      "needs_background": "light"
     },
     "output_type": "display_data"
    }
   ],
   "source": [
    "sns.histplot(data['number_of_open_complaints'], kde=True)\n",
    "plt.show()"
   ]
  },
  {
   "cell_type": "code",
   "execution_count": 59,
   "id": "a179209e",
   "metadata": {},
   "outputs": [
    {
     "data": {
      "image/png": "[encoded data removed]",
      "text/plain": [
       "<Figure size 432x288 with 1 Axes>"
      ]
     },
     "metadata": {
      "needs_background": "light"
     },
     "output_type": "display_data"
    }
   ],
   "source": [
    "# histogram\n",
    "plt.hist(data['number_of_open_complaints'], bins=10, color='grey', edgecolor='black')\n",
    "\n",
    "plt.xlabel('Values')\n",
    "plt.ylabel('Frequency')\n",
    "plt.title('number_of_open_complaints')\n",
    "\n",
    "# Show the histogram\n",
    "plt.show()"
   ]
  },
  {
   "cell_type": "code",
   "execution_count": 60,
   "id": "0b4eac22",
   "metadata": {},
   "outputs": [
    {
     "name": "stdout",
     "output_type": "stream",
     "text": [
      "The data does not appear to be normally distributed (p=0.0000)\n",
      "shapiro p_value = 0.0\n"
     ]
    }
   ],
   "source": [
    "column_data = data['number_of_open_complaints']\n",
    "stat, p = shapiro(column_data)\n",
    "\n",
    "alpha = 0.05  # significance level\n",
    "if p > alpha:\n",
    "    print(f\"The data appears to be normally distributed (p={p:.4f})\")\n",
    "else:\n",
    "    print(f\"The data does not appear to be normally distributed (p={p:.4f})\")\n",
    "print(\"shapiro p_value =\",p)"
   ]
  },
  {
   "cell_type": "code",
   "execution_count": 61,
   "id": "04e85ef2",
   "metadata": {},
   "outputs": [
    {
     "data": {
      "image/png": "[encoded data removed]",
      "text/plain": [
       "<Figure size 432x288 with 1 Axes>"
      ]
     },
     "metadata": {
      "needs_background": "light"
     },
     "output_type": "display_data"
    }
   ],
   "source": [
    "sns.histplot(data['total_claim_amount'], kde=True)\n",
    "plt.show()"
   ]
  },
  {
   "cell_type": "code",
   "execution_count": 62,
   "id": "2612d61f",
   "metadata": {},
   "outputs": [
    {
     "data": {
      "image/png": "[encoded data removed]",
      "text/plain": [
       "<Figure size 432x288 with 1 Axes>"
      ]
     },
     "metadata": {
      "needs_background": "light"
     },
     "output_type": "display_data"
    }
   ],
   "source": [
    "# histogram\n",
    "plt.hist(data['total_claim_amount'], bins=10, color='grey', edgecolor='black')\n",
    "\n",
    "plt.xlabel('Values')\n",
    "plt.ylabel('Frequency')\n",
    "plt.title('total_claim_amount')\n",
    "\n",
    "# Show the histogram\n",
    "plt.show()"
   ]
  },
  {
   "cell_type": "code",
   "execution_count": 63,
   "id": "3c18e9ad",
   "metadata": {},
   "outputs": [
    {
     "name": "stdout",
     "output_type": "stream",
     "text": [
      "The data does not appear to be normally distributed (p=0.0000)\n",
      "shapiro p_value = 1.0983529361626824e-27\n"
     ]
    }
   ],
   "source": [
    "column_data = data['total_claim_amount']\n",
    "stat, p = shapiro(column_data)\n",
    "\n",
    "alpha = 0.05  # significance level\n",
    "if p > alpha:\n",
    "    print(f\"The data appears to be normally distributed (p={p:.4f})\")\n",
    "else:\n",
    "    print(f\"The data does not appear to be normally distributed (p={p:.4f})\")\n",
    "print(\"shapiro p_value =\",p)"
   ]
  },
  {
   "cell_type": "code",
   "execution_count": 64,
   "id": "10ffb37a",
   "metadata": {},
   "outputs": [
    {
     "data": {
      "text/plain": [
       "404.5284780578898"
      ]
     },
     "execution_count": 64,
     "metadata": {},
     "output_type": "execute_result"
    }
   ],
   "source": [
    "mea=data['total_claim_amount'].mean()\n",
    "mea"
   ]
  },
  {
   "cell_type": "code",
   "execution_count": 65,
   "id": "48da1872",
   "metadata": {},
   "outputs": [],
   "source": [
    "# Do the distributions for different numerical variables look like a normal distribution?\n",
    "# No, for all of the columns the data does not appear to be normally distributed (p=0.0000)"
   ]
  },
  {
   "cell_type": "markdown",
   "id": "53b301cb",
   "metadata": {},
   "source": [
    "## lab | customer-analysis-round-4 | Multicolinearity"
   ]
  },
  {
   "cell_type": "code",
   "execution_count": 66,
   "id": "3864d8a0",
   "metadata": {},
   "outputs": [
    {
     "data": {
      "image/png": "[encoded data removed]",
      "text/plain": [
       "<Figure size 432x288 with 2 Axes>"
      ]
     },
     "metadata": {
      "needs_background": "light"
     },
     "output_type": "display_data"
    }
   ],
   "source": [
    "# For the numerical variables, check the multicollinearity between the features. \n",
    "# Please note that we will use the column total_claim_amount later as the target variable.\n",
    "\n",
    "# Drop one of the two features that show a high correlation between them (greater than 0.9). \n",
    "# Write code for both the correlation matrix and for seaborn heatmap. \n",
    "# If there is no pair of features that have a high correlation, then do not drop any features\n",
    "\n",
    "correlations_matrix = numerical.corr()\n",
    "sns.heatmap(correlations_matrix, annot=True)\n",
    "plt.show()\n",
    "\n",
    "# We can see that there is a very weak positive/negative correlation"
   ]
  },
  {
   "cell_type": "markdown",
   "id": "a21de9a8",
   "metadata": {},
   "source": [
    "# Lab | Customer-analysis-round | 5"
   ]
  },
  {
   "cell_type": "markdown",
   "id": "9ebac519",
   "metadata": {},
   "source": [
    "#### Dealing with the data\n",
    "Already done in the round 2.\n",
    "\n",
    "#### Explore the data\n",
    "Done in the round 3.\n",
    "\n",
    "#### Processing Data\n",
    "(Further processing...)\n",
    "\n",
    "* X-y split.\n",
    "* Scaling (numerical)."
   ]
  },
  {
   "cell_type": "markdown",
   "id": "d37795cb",
   "metadata": {},
   "source": [
    "## Lab | Customer-analysis-round | X-y split"
   ]
  },
  {
   "cell_type": "code",
   "execution_count": 67,
   "id": "11807c86",
   "metadata": {},
   "outputs": [],
   "source": [
    "from sklearn import linear_model\n",
    "import time\n",
    "from sklearn.metrics import mean_squared_error, r2_score\n",
    "import pandas as pd\n",
    "import numpy as np\n",
    "import math"
   ]
  },
  {
   "cell_type": "code",
   "execution_count": 68,
   "id": "0125c539",
   "metadata": {},
   "outputs": [],
   "source": [
    "# separate the features from the labels\n",
    "y = data['total_claim_amount']\n",
    "X = data.drop(['total_claim_amount'], axis=1)"
   ]
  },
  {
   "cell_type": "code",
   "execution_count": 69,
   "id": "4e354967",
   "metadata": {},
   "outputs": [],
   "source": [
    "#categorical features and numerical ones are going to be treated differently\n",
    "X_num = X.select_dtypes(include=['number'])\n",
    "X_cat = X.select_dtypes(include = ['object'])"
   ]
  },
  {
   "cell_type": "markdown",
   "id": "f54acbcd",
   "metadata": {},
   "source": [
    "## Lab | Customer-analysis-round | Scaling (numerical)"
   ]
  },
  {
   "cell_type": "code",
   "execution_count": 70,
   "id": "31458e9a",
   "metadata": {},
   "outputs": [
    {
     "data": {
      "text/plain": [
       "Index(['customer_lifetime_value', 'income', 'monthly_premium_auto',\n",
       "       'number_of_open_complaints'],\n",
       "      dtype='object')"
      ]
     },
     "execution_count": 70,
     "metadata": {},
     "output_type": "execute_result"
    }
   ],
   "source": [
    "X_num.columns"
   ]
  },
  {
   "cell_type": "code",
   "execution_count": 71,
   "id": "54b5f35d",
   "metadata": {},
   "outputs": [
    {
     "name": "stdout",
     "output_type": "stream",
     "text": [
      "<class 'numpy.ndarray'>\n"
     ]
    },
    {
     "data": {
      "text/html": [
       "<div>\n",
       "<style scoped>\n",
       "    .dataframe tbody tr th:only-of-type {\n",
       "        vertical-align: middle;\n",
       "    }\n",
       "\n",
       "    .dataframe tbody tr th {\n",
       "        vertical-align: top;\n",
       "    }\n",
       "\n",
       "    .dataframe thead th {\n",
       "        text-align: right;\n",
       "    }\n",
       "</style>\n",
       "<table border=\"1\" class=\"dataframe\">\n",
       "  <thead>\n",
       "    <tr style=\"text-align: right;\">\n",
       "      <th></th>\n",
       "      <th>customer_lifetime_value</th>\n",
       "      <th>income</th>\n",
       "      <th>monthly_premium_auto</th>\n",
       "      <th>number_of_open_complaints</th>\n",
       "    </tr>\n",
       "  </thead>\n",
       "  <tbody>\n",
       "    <tr>\n",
       "      <th>0</th>\n",
       "      <td>0.009085</td>\n",
       "      <td>0.000000</td>\n",
       "      <td>0.026606</td>\n",
       "      <td>0.0</td>\n",
       "    </tr>\n",
       "    <tr>\n",
       "      <th>1</th>\n",
       "      <td>0.088586</td>\n",
       "      <td>0.000000</td>\n",
       "      <td>0.000935</td>\n",
       "      <td>0.0</td>\n",
       "    </tr>\n",
       "    <tr>\n",
       "      <th>2</th>\n",
       "      <td>0.193779</td>\n",
       "      <td>0.487865</td>\n",
       "      <td>0.001332</td>\n",
       "      <td>0.0</td>\n",
       "    </tr>\n",
       "    <tr>\n",
       "      <th>3</th>\n",
       "      <td>0.100450</td>\n",
       "      <td>0.000000</td>\n",
       "      <td>0.001275</td>\n",
       "      <td>0.0</td>\n",
       "    </tr>\n",
       "    <tr>\n",
       "      <th>4</th>\n",
       "      <td>0.059804</td>\n",
       "      <td>0.363715</td>\n",
       "      <td>0.000198</td>\n",
       "      <td>0.0</td>\n",
       "    </tr>\n",
       "  </tbody>\n",
       "</table>\n",
       "</div>"
      ],
      "text/plain": [
       "   customer_lifetime_value    income  monthly_premium_auto  \\\n",
       "0                 0.009085  0.000000              0.026606   \n",
       "1                 0.088586  0.000000              0.000935   \n",
       "2                 0.193779  0.487865              0.001332   \n",
       "3                 0.100450  0.000000              0.001275   \n",
       "4                 0.059804  0.363715              0.000198   \n",
       "\n",
       "   number_of_open_complaints  \n",
       "0                        0.0  \n",
       "1                        0.0  \n",
       "2                        0.0  \n",
       "3                        0.0  \n",
       "4                        0.0  "
      ]
     },
     "metadata": {},
     "output_type": "display_data"
    },
    {
     "name": "stdout",
     "output_type": "stream",
     "text": [
      "<class 'pandas.core.frame.DataFrame'>\n"
     ]
    }
   ],
   "source": [
    "from sklearn.preprocessing import MinMaxScaler\n",
    "MinMaxtransformer = MinMaxScaler().fit(X_num)\n",
    "X_normalized = MinMaxtransformer.transform(X_num)\n",
    "print(type(X_normalized))\n",
    "X_normalized = pd.DataFrame(X_normalized,columns=X_num.columns)\n",
    "display(X_normalized.head())\n",
    "print(type(X_normalized))"
   ]
  },
  {
   "cell_type": "markdown",
   "id": "72079a61",
   "metadata": {},
   "source": [
    "# Lab | Customer Analysis Round 6\n",
    "### Round 6\n",
    "* One Hot/Label Encoding (categorical).\n",
    "* Concat DataFrames\n",
    "\n",
    "### Linear Regression\n",
    "* Train-test split.\n",
    "* Apply linear regression.\n",
    "\n",
    "### Model Validation\n",
    "* Description:\n",
    "    * R2.\n",
    "    * MSE.\n",
    "    * RMSE.\n",
    "    * MAE."
   ]
  },
  {
   "cell_type": "markdown",
   "id": "282c63b6",
   "metadata": {},
   "source": [
    "### Lab | Customer Analysis Round 6 | One Hot/Label Encoding (categorical)"
   ]
  },
  {
   "cell_type": "code",
   "execution_count": 72,
   "id": "4d354387",
   "metadata": {},
   "outputs": [
    {
     "data": {
      "text/plain": [
       "Index(['state', 'gender', 'education', 'policy_type', 'vehicle_class'], dtype='object')"
      ]
     },
     "execution_count": 72,
     "metadata": {},
     "output_type": "execute_result"
    }
   ],
   "source": [
    "X_cat = X_cat.drop(['customer'], axis=1)\n",
    "X_cat.columns"
   ]
  },
  {
   "cell_type": "code",
   "execution_count": 73,
   "id": "d9708e2e",
   "metadata": {},
   "outputs": [
    {
     "data": {
      "text/html": [
       "<div>\n",
       "<style scoped>\n",
       "    .dataframe tbody tr th:only-of-type {\n",
       "        vertical-align: middle;\n",
       "    }\n",
       "\n",
       "    .dataframe tbody tr th {\n",
       "        vertical-align: top;\n",
       "    }\n",
       "\n",
       "    .dataframe thead th {\n",
       "        text-align: right;\n",
       "    }\n",
       "</style>\n",
       "<table border=\"1\" class=\"dataframe\">\n",
       "  <thead>\n",
       "    <tr style=\"text-align: right;\">\n",
       "      <th></th>\n",
       "      <th>state_California</th>\n",
       "      <th>state_Nevada</th>\n",
       "      <th>state_Oregon</th>\n",
       "      <th>state_Washington</th>\n",
       "      <th>gender_M</th>\n",
       "      <th>education_College</th>\n",
       "      <th>education_Doctor</th>\n",
       "      <th>education_High School or Below</th>\n",
       "      <th>education_Master</th>\n",
       "      <th>policy_type_Personal Auto</th>\n",
       "      <th>policy_type_Special Auto</th>\n",
       "      <th>vehicle_class_Luxury</th>\n",
       "      <th>vehicle_class_SUV</th>\n",
       "      <th>vehicle_class_Two-Door Car</th>\n",
       "    </tr>\n",
       "  </thead>\n",
       "  <tbody>\n",
       "    <tr>\n",
       "      <th>0</th>\n",
       "      <td>0.0</td>\n",
       "      <td>0.0</td>\n",
       "      <td>0.0</td>\n",
       "      <td>1.0</td>\n",
       "      <td>0.0</td>\n",
       "      <td>0.0</td>\n",
       "      <td>0.0</td>\n",
       "      <td>0.0</td>\n",
       "      <td>1.0</td>\n",
       "      <td>1.0</td>\n",
       "      <td>0.0</td>\n",
       "      <td>0.0</td>\n",
       "      <td>0.0</td>\n",
       "      <td>0.0</td>\n",
       "    </tr>\n",
       "    <tr>\n",
       "      <th>1</th>\n",
       "      <td>0.0</td>\n",
       "      <td>0.0</td>\n",
       "      <td>0.0</td>\n",
       "      <td>0.0</td>\n",
       "      <td>0.0</td>\n",
       "      <td>0.0</td>\n",
       "      <td>0.0</td>\n",
       "      <td>0.0</td>\n",
       "      <td>0.0</td>\n",
       "      <td>1.0</td>\n",
       "      <td>0.0</td>\n",
       "      <td>0.0</td>\n",
       "      <td>0.0</td>\n",
       "      <td>0.0</td>\n",
       "    </tr>\n",
       "    <tr>\n",
       "      <th>2</th>\n",
       "      <td>0.0</td>\n",
       "      <td>1.0</td>\n",
       "      <td>0.0</td>\n",
       "      <td>0.0</td>\n",
       "      <td>0.0</td>\n",
       "      <td>0.0</td>\n",
       "      <td>0.0</td>\n",
       "      <td>0.0</td>\n",
       "      <td>0.0</td>\n",
       "      <td>1.0</td>\n",
       "      <td>0.0</td>\n",
       "      <td>0.0</td>\n",
       "      <td>0.0</td>\n",
       "      <td>1.0</td>\n",
       "    </tr>\n",
       "    <tr>\n",
       "      <th>3</th>\n",
       "      <td>1.0</td>\n",
       "      <td>0.0</td>\n",
       "      <td>0.0</td>\n",
       "      <td>0.0</td>\n",
       "      <td>1.0</td>\n",
       "      <td>0.0</td>\n",
       "      <td>0.0</td>\n",
       "      <td>0.0</td>\n",
       "      <td>0.0</td>\n",
       "      <td>0.0</td>\n",
       "      <td>0.0</td>\n",
       "      <td>0.0</td>\n",
       "      <td>1.0</td>\n",
       "      <td>0.0</td>\n",
       "    </tr>\n",
       "    <tr>\n",
       "      <th>4</th>\n",
       "      <td>0.0</td>\n",
       "      <td>0.0</td>\n",
       "      <td>0.0</td>\n",
       "      <td>1.0</td>\n",
       "      <td>1.0</td>\n",
       "      <td>0.0</td>\n",
       "      <td>0.0</td>\n",
       "      <td>1.0</td>\n",
       "      <td>0.0</td>\n",
       "      <td>1.0</td>\n",
       "      <td>0.0</td>\n",
       "      <td>0.0</td>\n",
       "      <td>0.0</td>\n",
       "      <td>0.0</td>\n",
       "    </tr>\n",
       "  </tbody>\n",
       "</table>\n",
       "</div>"
      ],
      "text/plain": [
       "   state_California  state_Nevada  state_Oregon  state_Washington  gender_M  \\\n",
       "0               0.0           0.0           0.0               1.0       0.0   \n",
       "1               0.0           0.0           0.0               0.0       0.0   \n",
       "2               0.0           1.0           0.0               0.0       0.0   \n",
       "3               1.0           0.0           0.0               0.0       1.0   \n",
       "4               0.0           0.0           0.0               1.0       1.0   \n",
       "\n",
       "   education_College  education_Doctor  education_High School or Below  \\\n",
       "0                0.0               0.0                             0.0   \n",
       "1                0.0               0.0                             0.0   \n",
       "2                0.0               0.0                             0.0   \n",
       "3                0.0               0.0                             0.0   \n",
       "4                0.0               0.0                             1.0   \n",
       "\n",
       "   education_Master  policy_type_Personal Auto  policy_type_Special Auto  \\\n",
       "0               1.0                        1.0                       0.0   \n",
       "1               0.0                        1.0                       0.0   \n",
       "2               0.0                        1.0                       0.0   \n",
       "3               0.0                        0.0                       0.0   \n",
       "4               0.0                        1.0                       0.0   \n",
       "\n",
       "   vehicle_class_Luxury  vehicle_class_SUV  vehicle_class_Two-Door Car  \n",
       "0                   0.0                0.0                         0.0  \n",
       "1                   0.0                0.0                         0.0  \n",
       "2                   0.0                0.0                         1.0  \n",
       "3                   0.0                1.0                         0.0  \n",
       "4                   0.0                0.0                         0.0  "
      ]
     },
     "execution_count": 73,
     "metadata": {},
     "output_type": "execute_result"
    }
   ],
   "source": [
    "from sklearn.preprocessing import OneHotEncoder\n",
    "encoder = OneHotEncoder(drop='first').fit(X_cat)  # Dropping the first varaible of each column\n",
    "encoded = encoder.transform(X_cat).toarray()\n",
    "column_names = encoder.get_feature_names_out(input_features=X_cat.columns) # assigning column names\n",
    "onehot_encoded = pd.DataFrame(encoded, columns=column_names)\n",
    "onehot_encoded.head()"
   ]
  },
  {
   "cell_type": "markdown",
   "id": "469ed9d3",
   "metadata": {},
   "source": [
    "### Lab | Customer Analysis Round 6 | Concat DataFrames"
   ]
  },
  {
   "cell_type": "code",
   "execution_count": 74,
   "id": "5f78722e",
   "metadata": {},
   "outputs": [
    {
     "data": {
      "text/html": [
       "<div>\n",
       "<style scoped>\n",
       "    .dataframe tbody tr th:only-of-type {\n",
       "        vertical-align: middle;\n",
       "    }\n",
       "\n",
       "    .dataframe tbody tr th {\n",
       "        vertical-align: top;\n",
       "    }\n",
       "\n",
       "    .dataframe thead th {\n",
       "        text-align: right;\n",
       "    }\n",
       "</style>\n",
       "<table border=\"1\" class=\"dataframe\">\n",
       "  <thead>\n",
       "    <tr style=\"text-align: right;\">\n",
       "      <th></th>\n",
       "      <th>customer_lifetime_value</th>\n",
       "      <th>income</th>\n",
       "      <th>monthly_premium_auto</th>\n",
       "      <th>number_of_open_complaints</th>\n",
       "      <th>state_California</th>\n",
       "      <th>state_Nevada</th>\n",
       "      <th>state_Oregon</th>\n",
       "      <th>state_Washington</th>\n",
       "      <th>gender_M</th>\n",
       "      <th>education_College</th>\n",
       "      <th>education_Doctor</th>\n",
       "      <th>education_High School or Below</th>\n",
       "      <th>education_Master</th>\n",
       "      <th>policy_type_Personal Auto</th>\n",
       "      <th>policy_type_Special Auto</th>\n",
       "      <th>vehicle_class_Luxury</th>\n",
       "      <th>vehicle_class_SUV</th>\n",
       "      <th>vehicle_class_Two-Door Car</th>\n",
       "    </tr>\n",
       "  </thead>\n",
       "  <tbody>\n",
       "    <tr>\n",
       "      <th>0</th>\n",
       "      <td>0.009085</td>\n",
       "      <td>0.000000</td>\n",
       "      <td>0.026606</td>\n",
       "      <td>0.0</td>\n",
       "      <td>0.0</td>\n",
       "      <td>0.0</td>\n",
       "      <td>0.0</td>\n",
       "      <td>1.0</td>\n",
       "      <td>0.0</td>\n",
       "      <td>0.0</td>\n",
       "      <td>0.0</td>\n",
       "      <td>0.0</td>\n",
       "      <td>1.0</td>\n",
       "      <td>1.0</td>\n",
       "      <td>0.0</td>\n",
       "      <td>0.0</td>\n",
       "      <td>0.0</td>\n",
       "      <td>0.0</td>\n",
       "    </tr>\n",
       "    <tr>\n",
       "      <th>1</th>\n",
       "      <td>0.088586</td>\n",
       "      <td>0.000000</td>\n",
       "      <td>0.000935</td>\n",
       "      <td>0.0</td>\n",
       "      <td>0.0</td>\n",
       "      <td>0.0</td>\n",
       "      <td>0.0</td>\n",
       "      <td>0.0</td>\n",
       "      <td>0.0</td>\n",
       "      <td>0.0</td>\n",
       "      <td>0.0</td>\n",
       "      <td>0.0</td>\n",
       "      <td>0.0</td>\n",
       "      <td>1.0</td>\n",
       "      <td>0.0</td>\n",
       "      <td>0.0</td>\n",
       "      <td>0.0</td>\n",
       "      <td>0.0</td>\n",
       "    </tr>\n",
       "    <tr>\n",
       "      <th>2</th>\n",
       "      <td>0.193779</td>\n",
       "      <td>0.487865</td>\n",
       "      <td>0.001332</td>\n",
       "      <td>0.0</td>\n",
       "      <td>0.0</td>\n",
       "      <td>1.0</td>\n",
       "      <td>0.0</td>\n",
       "      <td>0.0</td>\n",
       "      <td>0.0</td>\n",
       "      <td>0.0</td>\n",
       "      <td>0.0</td>\n",
       "      <td>0.0</td>\n",
       "      <td>0.0</td>\n",
       "      <td>1.0</td>\n",
       "      <td>0.0</td>\n",
       "      <td>0.0</td>\n",
       "      <td>0.0</td>\n",
       "      <td>1.0</td>\n",
       "    </tr>\n",
       "    <tr>\n",
       "      <th>3</th>\n",
       "      <td>0.100450</td>\n",
       "      <td>0.000000</td>\n",
       "      <td>0.001275</td>\n",
       "      <td>0.0</td>\n",
       "      <td>1.0</td>\n",
       "      <td>0.0</td>\n",
       "      <td>0.0</td>\n",
       "      <td>0.0</td>\n",
       "      <td>1.0</td>\n",
       "      <td>0.0</td>\n",
       "      <td>0.0</td>\n",
       "      <td>0.0</td>\n",
       "      <td>0.0</td>\n",
       "      <td>0.0</td>\n",
       "      <td>0.0</td>\n",
       "      <td>0.0</td>\n",
       "      <td>1.0</td>\n",
       "      <td>0.0</td>\n",
       "    </tr>\n",
       "    <tr>\n",
       "      <th>4</th>\n",
       "      <td>0.059804</td>\n",
       "      <td>0.363715</td>\n",
       "      <td>0.000198</td>\n",
       "      <td>0.0</td>\n",
       "      <td>0.0</td>\n",
       "      <td>0.0</td>\n",
       "      <td>0.0</td>\n",
       "      <td>1.0</td>\n",
       "      <td>1.0</td>\n",
       "      <td>0.0</td>\n",
       "      <td>0.0</td>\n",
       "      <td>1.0</td>\n",
       "      <td>0.0</td>\n",
       "      <td>1.0</td>\n",
       "      <td>0.0</td>\n",
       "      <td>0.0</td>\n",
       "      <td>0.0</td>\n",
       "      <td>0.0</td>\n",
       "    </tr>\n",
       "    <tr>\n",
       "      <th>5</th>\n",
       "      <td>0.111319</td>\n",
       "      <td>0.629272</td>\n",
       "      <td>0.000227</td>\n",
       "      <td>0.0</td>\n",
       "      <td>0.0</td>\n",
       "      <td>0.0</td>\n",
       "      <td>1.0</td>\n",
       "      <td>0.0</td>\n",
       "      <td>0.0</td>\n",
       "      <td>0.0</td>\n",
       "      <td>0.0</td>\n",
       "      <td>0.0</td>\n",
       "      <td>0.0</td>\n",
       "      <td>1.0</td>\n",
       "      <td>0.0</td>\n",
       "      <td>0.0</td>\n",
       "      <td>0.0</td>\n",
       "      <td>1.0</td>\n",
       "    </tr>\n",
       "    <tr>\n",
       "      <th>6</th>\n",
       "      <td>0.060121</td>\n",
       "      <td>0.553721</td>\n",
       "      <td>0.000170</td>\n",
       "      <td>0.0</td>\n",
       "      <td>0.0</td>\n",
       "      <td>0.0</td>\n",
       "      <td>1.0</td>\n",
       "      <td>0.0</td>\n",
       "      <td>0.0</td>\n",
       "      <td>1.0</td>\n",
       "      <td>0.0</td>\n",
       "      <td>0.0</td>\n",
       "      <td>0.0</td>\n",
       "      <td>0.0</td>\n",
       "      <td>0.0</td>\n",
       "      <td>0.0</td>\n",
       "      <td>0.0</td>\n",
       "      <td>0.0</td>\n",
       "    </tr>\n",
       "    <tr>\n",
       "      <th>7</th>\n",
       "      <td>0.092798</td>\n",
       "      <td>0.000000</td>\n",
       "      <td>0.001133</td>\n",
       "      <td>0.0</td>\n",
       "      <td>0.0</td>\n",
       "      <td>0.0</td>\n",
       "      <td>0.0</td>\n",
       "      <td>0.0</td>\n",
       "      <td>1.0</td>\n",
       "      <td>0.0</td>\n",
       "      <td>0.0</td>\n",
       "      <td>0.0</td>\n",
       "      <td>1.0</td>\n",
       "      <td>0.0</td>\n",
       "      <td>0.0</td>\n",
       "      <td>0.0</td>\n",
       "      <td>0.0</td>\n",
       "      <td>0.0</td>\n",
       "    </tr>\n",
       "    <tr>\n",
       "      <th>8</th>\n",
       "      <td>0.393915</td>\n",
       "      <td>0.140776</td>\n",
       "      <td>0.000283</td>\n",
       "      <td>0.0</td>\n",
       "      <td>0.0</td>\n",
       "      <td>0.0</td>\n",
       "      <td>1.0</td>\n",
       "      <td>0.0</td>\n",
       "      <td>1.0</td>\n",
       "      <td>0.0</td>\n",
       "      <td>0.0</td>\n",
       "      <td>0.0</td>\n",
       "      <td>0.0</td>\n",
       "      <td>0.0</td>\n",
       "      <td>0.0</td>\n",
       "      <td>0.0</td>\n",
       "      <td>0.0</td>\n",
       "      <td>0.0</td>\n",
       "    </tr>\n",
       "    <tr>\n",
       "      <th>9</th>\n",
       "      <td>0.095862</td>\n",
       "      <td>0.288235</td>\n",
       "      <td>0.000907</td>\n",
       "      <td>0.0</td>\n",
       "      <td>0.0</td>\n",
       "      <td>0.0</td>\n",
       "      <td>1.0</td>\n",
       "      <td>0.0</td>\n",
       "      <td>0.0</td>\n",
       "      <td>1.0</td>\n",
       "      <td>0.0</td>\n",
       "      <td>0.0</td>\n",
       "      <td>0.0</td>\n",
       "      <td>0.0</td>\n",
       "      <td>1.0</td>\n",
       "      <td>0.0</td>\n",
       "      <td>0.0</td>\n",
       "      <td>0.0</td>\n",
       "    </tr>\n",
       "  </tbody>\n",
       "</table>\n",
       "</div>"
      ],
      "text/plain": [
       "   customer_lifetime_value    income  monthly_premium_auto  \\\n",
       "0                 0.009085  0.000000              0.026606   \n",
       "1                 0.088586  0.000000              0.000935   \n",
       "2                 0.193779  0.487865              0.001332   \n",
       "3                 0.100450  0.000000              0.001275   \n",
       "4                 0.059804  0.363715              0.000198   \n",
       "5                 0.111319  0.629272              0.000227   \n",
       "6                 0.060121  0.553721              0.000170   \n",
       "7                 0.092798  0.000000              0.001133   \n",
       "8                 0.393915  0.140776              0.000283   \n",
       "9                 0.095862  0.288235              0.000907   \n",
       "\n",
       "   number_of_open_complaints  state_California  state_Nevada  state_Oregon  \\\n",
       "0                        0.0               0.0           0.0           0.0   \n",
       "1                        0.0               0.0           0.0           0.0   \n",
       "2                        0.0               0.0           1.0           0.0   \n",
       "3                        0.0               1.0           0.0           0.0   \n",
       "4                        0.0               0.0           0.0           0.0   \n",
       "5                        0.0               0.0           0.0           1.0   \n",
       "6                        0.0               0.0           0.0           1.0   \n",
       "7                        0.0               0.0           0.0           0.0   \n",
       "8                        0.0               0.0           0.0           1.0   \n",
       "9                        0.0               0.0           0.0           1.0   \n",
       "\n",
       "   state_Washington  gender_M  education_College  education_Doctor  \\\n",
       "0               1.0       0.0                0.0               0.0   \n",
       "1               0.0       0.0                0.0               0.0   \n",
       "2               0.0       0.0                0.0               0.0   \n",
       "3               0.0       1.0                0.0               0.0   \n",
       "4               1.0       1.0                0.0               0.0   \n",
       "5               0.0       0.0                0.0               0.0   \n",
       "6               0.0       0.0                1.0               0.0   \n",
       "7               0.0       1.0                0.0               0.0   \n",
       "8               0.0       1.0                0.0               0.0   \n",
       "9               0.0       0.0                1.0               0.0   \n",
       "\n",
       "   education_High School or Below  education_Master  \\\n",
       "0                             0.0               1.0   \n",
       "1                             0.0               0.0   \n",
       "2                             0.0               0.0   \n",
       "3                             0.0               0.0   \n",
       "4                             1.0               0.0   \n",
       "5                             0.0               0.0   \n",
       "6                             0.0               0.0   \n",
       "7                             0.0               1.0   \n",
       "8                             0.0               0.0   \n",
       "9                             0.0               0.0   \n",
       "\n",
       "   policy_type_Personal Auto  policy_type_Special Auto  vehicle_class_Luxury  \\\n",
       "0                        1.0                       0.0                   0.0   \n",
       "1                        1.0                       0.0                   0.0   \n",
       "2                        1.0                       0.0                   0.0   \n",
       "3                        0.0                       0.0                   0.0   \n",
       "4                        1.0                       0.0                   0.0   \n",
       "5                        1.0                       0.0                   0.0   \n",
       "6                        0.0                       0.0                   0.0   \n",
       "7                        0.0                       0.0                   0.0   \n",
       "8                        0.0                       0.0                   0.0   \n",
       "9                        0.0                       1.0                   0.0   \n",
       "\n",
       "   vehicle_class_SUV  vehicle_class_Two-Door Car  \n",
       "0                0.0                         0.0  \n",
       "1                0.0                         0.0  \n",
       "2                0.0                         1.0  \n",
       "3                1.0                         0.0  \n",
       "4                0.0                         0.0  \n",
       "5                0.0                         1.0  \n",
       "6                0.0                         0.0  \n",
       "7                0.0                         0.0  \n",
       "8                0.0                         0.0  \n",
       "9                0.0                         0.0  "
      ]
     },
     "execution_count": 74,
     "metadata": {},
     "output_type": "execute_result"
    }
   ],
   "source": [
    "# let's merge all this information together into a single dataset with all features, now numerical\n",
    "X = pd.concat([X_normalized, onehot_encoded], axis=1)  # np.concatenate()\n",
    "X.head(10)"
   ]
  },
  {
   "cell_type": "markdown",
   "id": "b5f11ab9",
   "metadata": {},
   "source": [
    "### Lab | Customer Analysis Round 6 | train-test split"
   ]
  },
  {
   "cell_type": "code",
   "execution_count": 75,
   "id": "fc823ee5",
   "metadata": {},
   "outputs": [
    {
     "name": "stdout",
     "output_type": "stream",
     "text": [
      "(1071, 18)\n",
      "(1071,)\n"
     ]
    }
   ],
   "source": [
    "print(X.shape)\n",
    "print(y.shape)"
   ]
  },
  {
   "cell_type": "code",
   "execution_count": 76,
   "id": "b7abdce2",
   "metadata": {},
   "outputs": [],
   "source": [
    "from sklearn.model_selection import train_test_split\n",
    "X_train, X_test, y_train, y_test = train_test_split(X, y, test_size=0.2, random_state=42)"
   ]
  },
  {
   "cell_type": "code",
   "execution_count": 77,
   "id": "c889d9fc",
   "metadata": {},
   "outputs": [
    {
     "name": "stdout",
     "output_type": "stream",
     "text": [
      "(856, 18)\n",
      "(215, 18)\n",
      "(856,)\n",
      "(215,)\n"
     ]
    }
   ],
   "source": [
    "print(X_train.shape)\n",
    "print(X_test.shape)\n",
    "print(y_train.shape)\n",
    "print(y_test.shape)"
   ]
  },
  {
   "cell_type": "markdown",
   "id": "fdb3b6f9",
   "metadata": {},
   "source": [
    "### Lab | Customer Analysis Round 6 | Apply linear regression"
   ]
  },
  {
   "cell_type": "code",
   "execution_count": 78,
   "id": "d1e1c5ed",
   "metadata": {},
   "outputs": [
    {
     "data": {
      "text/plain": [
       "LinearRegression()"
      ]
     },
     "execution_count": 78,
     "metadata": {},
     "output_type": "execute_result"
    }
   ],
   "source": [
    "#we train/fit our model\n",
    "lm = linear_model.LinearRegression()\n",
    "lm.fit(X_train,y_train)"
   ]
  },
  {
   "cell_type": "markdown",
   "id": "e4018bf1",
   "metadata": {},
   "source": [
    "### Lab | Customer Analysis Round 6 | Description"
   ]
  },
  {
   "cell_type": "code",
   "execution_count": 79,
   "id": "89466348",
   "metadata": {},
   "outputs": [
    {
     "data": {
      "text/plain": [
       "0.3837572816262732"
      ]
     },
     "execution_count": 79,
     "metadata": {},
     "output_type": "execute_result"
    }
   ],
   "source": [
    "from sklearn.metrics import r2_score\n",
    "predictions = lm.predict(X_train)\n",
    "r2_score(y_train, predictions)"
   ]
  },
  {
   "cell_type": "code",
   "execution_count": 80,
   "id": "67614d9d",
   "metadata": {},
   "outputs": [
    {
     "data": {
      "text/plain": [
       "0.31315607604586315"
      ]
     },
     "execution_count": 80,
     "metadata": {},
     "output_type": "execute_result"
    }
   ],
   "source": [
    "# But now we evaluate it in the TEST portion of the data, that we did not use for training.\n",
    "# This way we know our model is genuinely guessing our donations, not just repeating the values it has seen in the training data\n",
    "predictions_test = lm.predict(X_test)\n",
    "r2_score(y_test, predictions_test) # R-squared(Coefficient of determination) good value > 0.95"
   ]
  },
  {
   "cell_type": "code",
   "execution_count": 81,
   "id": "75cfe645",
   "metadata": {},
   "outputs": [
    {
     "data": {
      "text/plain": [
       "43328.367957424016"
      ]
     },
     "execution_count": 81,
     "metadata": {},
     "output_type": "execute_result"
    }
   ],
   "source": [
    "from sklearn.metrics import mean_squared_error\n",
    "mse=mean_squared_error(y_test,predictions_test)\n",
    "mse # MSE(Mean Squared Error) Lower (close to 0) the MSE, the closer is forecast to actual"
   ]
  },
  {
   "cell_type": "code",
   "execution_count": 82,
   "id": "41327410",
   "metadata": {},
   "outputs": [
    {
     "data": {
      "text/plain": [
       "208.15467315778432"
      ]
     },
     "execution_count": 82,
     "metadata": {},
     "output_type": "execute_result"
    }
   ],
   "source": [
    "rmse = np.sqrt(mean_squared_error(y_test,predictions_test))\n",
    "rmse # RMSE(Root Mean Squared Error) values between 0.2 and 0.5"
   ]
  },
  {
   "cell_type": "code",
   "execution_count": 83,
   "id": "f91436f4",
   "metadata": {},
   "outputs": [
    {
     "data": {
      "text/plain": [
       "390.0883720930233"
      ]
     },
     "execution_count": 83,
     "metadata": {},
     "output_type": "execute_result"
    }
   ],
   "source": [
    "y_test.mean()"
   ]
  },
  {
   "cell_type": "markdown",
   "id": "ca68886d",
   "metadata": {},
   "source": [
    "# Lab | customer-analysis-round-7"
   ]
  },
  {
   "cell_type": "markdown",
   "id": "41d4612b",
   "metadata": {},
   "source": [
    "## Lab | customer-analysis-round-7 | Modeling"
   ]
  },
  {
   "cell_type": "markdown",
   "id": "f5b3b728",
   "metadata": {},
   "source": [
    "Try to improve the linear regression model."
   ]
  },
  {
   "cell_type": "markdown",
   "id": "8b7baefc",
   "metadata": {},
   "source": [
    "## Lab | Modeling | Change numerical | Strategy 1 Drop numerical columns"
   ]
  },
  {
   "cell_type": "code",
   "execution_count": 84,
   "id": "99f46da7",
   "metadata": {},
   "outputs": [
    {
     "data": {
      "image/png": "[encoded data removed]",
      "text/plain": [
       "<Figure size 432x288 with 2 Axes>"
      ]
     },
     "metadata": {
      "needs_background": "light"
     },
     "output_type": "display_data"
    }
   ],
   "source": [
    "#1.1 Change numerical\n",
    "numerical=data.select_dtypes('number')#.columns\n",
    "numerical.columns\n",
    "correlations_matrix = numerical.corr()\n",
    "sns.heatmap(correlations_matrix, annot=True)\n",
    "plt.show()"
   ]
  },
  {
   "cell_type": "code",
   "execution_count": 85,
   "id": "b88f868a",
   "metadata": {},
   "outputs": [
    {
     "data": {
      "text/plain": [
       "Index(['customer_lifetime_value', 'income', 'number_of_open_complaints'], dtype='object')"
      ]
     },
     "execution_count": 85,
     "metadata": {},
     "output_type": "execute_result"
    }
   ],
   "source": [
    "# Drop numerical columns with low correlation with target column\n",
    "X_num_i = X_num.drop(['monthly_premium_auto'], axis=1)\n",
    "X_num_i.columns"
   ]
  },
  {
   "cell_type": "code",
   "execution_count": 86,
   "id": "26cfa718",
   "metadata": {},
   "outputs": [
    {
     "name": "stdout",
     "output_type": "stream",
     "text": [
      "<class 'numpy.ndarray'>\n"
     ]
    },
    {
     "data": {
      "text/html": [
       "<div>\n",
       "<style scoped>\n",
       "    .dataframe tbody tr th:only-of-type {\n",
       "        vertical-align: middle;\n",
       "    }\n",
       "\n",
       "    .dataframe tbody tr th {\n",
       "        vertical-align: top;\n",
       "    }\n",
       "\n",
       "    .dataframe thead th {\n",
       "        text-align: right;\n",
       "    }\n",
       "</style>\n",
       "<table border=\"1\" class=\"dataframe\">\n",
       "  <thead>\n",
       "    <tr style=\"text-align: right;\">\n",
       "      <th></th>\n",
       "      <th>customer_lifetime_value</th>\n",
       "      <th>income</th>\n",
       "      <th>number_of_open_complaints</th>\n",
       "    </tr>\n",
       "  </thead>\n",
       "  <tbody>\n",
       "    <tr>\n",
       "      <th>0</th>\n",
       "      <td>0.009085</td>\n",
       "      <td>0.000000</td>\n",
       "      <td>0.0</td>\n",
       "    </tr>\n",
       "    <tr>\n",
       "      <th>1</th>\n",
       "      <td>0.088586</td>\n",
       "      <td>0.000000</td>\n",
       "      <td>0.0</td>\n",
       "    </tr>\n",
       "    <tr>\n",
       "      <th>2</th>\n",
       "      <td>0.193779</td>\n",
       "      <td>0.487865</td>\n",
       "      <td>0.0</td>\n",
       "    </tr>\n",
       "    <tr>\n",
       "      <th>3</th>\n",
       "      <td>0.100450</td>\n",
       "      <td>0.000000</td>\n",
       "      <td>0.0</td>\n",
       "    </tr>\n",
       "    <tr>\n",
       "      <th>4</th>\n",
       "      <td>0.059804</td>\n",
       "      <td>0.363715</td>\n",
       "      <td>0.0</td>\n",
       "    </tr>\n",
       "  </tbody>\n",
       "</table>\n",
       "</div>"
      ],
      "text/plain": [
       "   customer_lifetime_value    income  number_of_open_complaints\n",
       "0                 0.009085  0.000000                        0.0\n",
       "1                 0.088586  0.000000                        0.0\n",
       "2                 0.193779  0.487865                        0.0\n",
       "3                 0.100450  0.000000                        0.0\n",
       "4                 0.059804  0.363715                        0.0"
      ]
     },
     "metadata": {},
     "output_type": "display_data"
    },
    {
     "name": "stdout",
     "output_type": "stream",
     "text": [
      "<class 'pandas.core.frame.DataFrame'>\n"
     ]
    }
   ],
   "source": [
    "#1.2 Normalizing New numerical\n",
    "MinMaxtransformer = MinMaxScaler().fit(X_num_i)\n",
    "X_normalized_i = MinMaxtransformer.transform(X_num_i)\n",
    "print(type(X_normalized_i))\n",
    "X_normalized_i = pd.DataFrame(X_normalized_i,columns=X_num_i.columns)\n",
    "display(X_normalized_i.head())\n",
    "print(type(X_normalized_i))"
   ]
  },
  {
   "cell_type": "markdown",
   "id": "a091d536",
   "metadata": {},
   "source": [
    "## Lab | Modeling | Change numerical | Strategy 2 Drop categorical columns"
   ]
  },
  {
   "cell_type": "code",
   "execution_count": 87,
   "id": "157c19ff",
   "metadata": {},
   "outputs": [
    {
     "data": {
      "text/plain": [
       "Index(['state', 'education', 'vehicle_class'], dtype='object')"
      ]
     },
     "execution_count": 87,
     "metadata": {},
     "output_type": "execute_result"
    }
   ],
   "source": [
    "#2.1 Drop Categorical columns\n",
    "X_cat_i = X_cat.drop(['gender','policy_type'], axis=1)\n",
    "X_cat_i.columns"
   ]
  },
  {
   "cell_type": "code",
   "execution_count": 88,
   "id": "27666e3d",
   "metadata": {},
   "outputs": [
    {
     "data": {
      "text/html": [
       "<div>\n",
       "<style scoped>\n",
       "    .dataframe tbody tr th:only-of-type {\n",
       "        vertical-align: middle;\n",
       "    }\n",
       "\n",
       "    .dataframe tbody tr th {\n",
       "        vertical-align: top;\n",
       "    }\n",
       "\n",
       "    .dataframe thead th {\n",
       "        text-align: right;\n",
       "    }\n",
       "</style>\n",
       "<table border=\"1\" class=\"dataframe\">\n",
       "  <thead>\n",
       "    <tr style=\"text-align: right;\">\n",
       "      <th></th>\n",
       "      <th>state_California</th>\n",
       "      <th>state_Nevada</th>\n",
       "      <th>state_Oregon</th>\n",
       "      <th>state_Washington</th>\n",
       "      <th>education_College</th>\n",
       "      <th>education_Doctor</th>\n",
       "      <th>education_High School or Below</th>\n",
       "      <th>education_Master</th>\n",
       "      <th>vehicle_class_Luxury</th>\n",
       "      <th>vehicle_class_SUV</th>\n",
       "      <th>vehicle_class_Two-Door Car</th>\n",
       "    </tr>\n",
       "  </thead>\n",
       "  <tbody>\n",
       "    <tr>\n",
       "      <th>0</th>\n",
       "      <td>0.0</td>\n",
       "      <td>0.0</td>\n",
       "      <td>0.0</td>\n",
       "      <td>1.0</td>\n",
       "      <td>0.0</td>\n",
       "      <td>0.0</td>\n",
       "      <td>0.0</td>\n",
       "      <td>1.0</td>\n",
       "      <td>0.0</td>\n",
       "      <td>0.0</td>\n",
       "      <td>0.0</td>\n",
       "    </tr>\n",
       "    <tr>\n",
       "      <th>1</th>\n",
       "      <td>0.0</td>\n",
       "      <td>0.0</td>\n",
       "      <td>0.0</td>\n",
       "      <td>0.0</td>\n",
       "      <td>0.0</td>\n",
       "      <td>0.0</td>\n",
       "      <td>0.0</td>\n",
       "      <td>0.0</td>\n",
       "      <td>0.0</td>\n",
       "      <td>0.0</td>\n",
       "      <td>0.0</td>\n",
       "    </tr>\n",
       "    <tr>\n",
       "      <th>2</th>\n",
       "      <td>0.0</td>\n",
       "      <td>1.0</td>\n",
       "      <td>0.0</td>\n",
       "      <td>0.0</td>\n",
       "      <td>0.0</td>\n",
       "      <td>0.0</td>\n",
       "      <td>0.0</td>\n",
       "      <td>0.0</td>\n",
       "      <td>0.0</td>\n",
       "      <td>0.0</td>\n",
       "      <td>1.0</td>\n",
       "    </tr>\n",
       "    <tr>\n",
       "      <th>3</th>\n",
       "      <td>1.0</td>\n",
       "      <td>0.0</td>\n",
       "      <td>0.0</td>\n",
       "      <td>0.0</td>\n",
       "      <td>0.0</td>\n",
       "      <td>0.0</td>\n",
       "      <td>0.0</td>\n",
       "      <td>0.0</td>\n",
       "      <td>0.0</td>\n",
       "      <td>1.0</td>\n",
       "      <td>0.0</td>\n",
       "    </tr>\n",
       "    <tr>\n",
       "      <th>4</th>\n",
       "      <td>0.0</td>\n",
       "      <td>0.0</td>\n",
       "      <td>0.0</td>\n",
       "      <td>1.0</td>\n",
       "      <td>0.0</td>\n",
       "      <td>0.0</td>\n",
       "      <td>1.0</td>\n",
       "      <td>0.0</td>\n",
       "      <td>0.0</td>\n",
       "      <td>0.0</td>\n",
       "      <td>0.0</td>\n",
       "    </tr>\n",
       "  </tbody>\n",
       "</table>\n",
       "</div>"
      ],
      "text/plain": [
       "   state_California  state_Nevada  state_Oregon  state_Washington  \\\n",
       "0               0.0           0.0           0.0               1.0   \n",
       "1               0.0           0.0           0.0               0.0   \n",
       "2               0.0           1.0           0.0               0.0   \n",
       "3               1.0           0.0           0.0               0.0   \n",
       "4               0.0           0.0           0.0               1.0   \n",
       "\n",
       "   education_College  education_Doctor  education_High School or Below  \\\n",
       "0                0.0               0.0                             0.0   \n",
       "1                0.0               0.0                             0.0   \n",
       "2                0.0               0.0                             0.0   \n",
       "3                0.0               0.0                             0.0   \n",
       "4                0.0               0.0                             1.0   \n",
       "\n",
       "   education_Master  vehicle_class_Luxury  vehicle_class_SUV  \\\n",
       "0               1.0                   0.0                0.0   \n",
       "1               0.0                   0.0                0.0   \n",
       "2               0.0                   0.0                0.0   \n",
       "3               0.0                   0.0                1.0   \n",
       "4               0.0                   0.0                0.0   \n",
       "\n",
       "   vehicle_class_Two-Door Car  \n",
       "0                         0.0  \n",
       "1                         0.0  \n",
       "2                         1.0  \n",
       "3                         0.0  \n",
       "4                         0.0  "
      ]
     },
     "execution_count": 88,
     "metadata": {},
     "output_type": "execute_result"
    }
   ],
   "source": [
    "#2.2 Encoding categorical\n",
    "encoder = OneHotEncoder(drop='first').fit(X_cat_i)  # Dropping the first varaible of each column\n",
    "encoded = encoder.transform(X_cat_i).toarray()\n",
    "column_names = encoder.get_feature_names_out(input_features=X_cat_i.columns) # assigning column names\n",
    "onehot_encoded = pd.DataFrame(encoded, columns=column_names)\n",
    "onehot_encoded.head()"
   ]
  },
  {
   "cell_type": "code",
   "execution_count": 89,
   "id": "5c4b1f01",
   "metadata": {},
   "outputs": [
    {
     "data": {
      "text/html": [
       "<div>\n",
       "<style scoped>\n",
       "    .dataframe tbody tr th:only-of-type {\n",
       "        vertical-align: middle;\n",
       "    }\n",
       "\n",
       "    .dataframe tbody tr th {\n",
       "        vertical-align: top;\n",
       "    }\n",
       "\n",
       "    .dataframe thead th {\n",
       "        text-align: right;\n",
       "    }\n",
       "</style>\n",
       "<table border=\"1\" class=\"dataframe\">\n",
       "  <thead>\n",
       "    <tr style=\"text-align: right;\">\n",
       "      <th></th>\n",
       "      <th>customer_lifetime_value</th>\n",
       "      <th>income</th>\n",
       "      <th>number_of_open_complaints</th>\n",
       "      <th>state_California</th>\n",
       "      <th>state_Nevada</th>\n",
       "      <th>state_Oregon</th>\n",
       "      <th>state_Washington</th>\n",
       "      <th>education_College</th>\n",
       "      <th>education_Doctor</th>\n",
       "      <th>education_High School or Below</th>\n",
       "      <th>education_Master</th>\n",
       "      <th>vehicle_class_Luxury</th>\n",
       "      <th>vehicle_class_SUV</th>\n",
       "      <th>vehicle_class_Two-Door Car</th>\n",
       "    </tr>\n",
       "  </thead>\n",
       "  <tbody>\n",
       "    <tr>\n",
       "      <th>0</th>\n",
       "      <td>0.009085</td>\n",
       "      <td>0.000000</td>\n",
       "      <td>0.0</td>\n",
       "      <td>0.0</td>\n",
       "      <td>0.0</td>\n",
       "      <td>0.0</td>\n",
       "      <td>1.0</td>\n",
       "      <td>0.0</td>\n",
       "      <td>0.0</td>\n",
       "      <td>0.0</td>\n",
       "      <td>1.0</td>\n",
       "      <td>0.0</td>\n",
       "      <td>0.0</td>\n",
       "      <td>0.0</td>\n",
       "    </tr>\n",
       "    <tr>\n",
       "      <th>1</th>\n",
       "      <td>0.088586</td>\n",
       "      <td>0.000000</td>\n",
       "      <td>0.0</td>\n",
       "      <td>0.0</td>\n",
       "      <td>0.0</td>\n",
       "      <td>0.0</td>\n",
       "      <td>0.0</td>\n",
       "      <td>0.0</td>\n",
       "      <td>0.0</td>\n",
       "      <td>0.0</td>\n",
       "      <td>0.0</td>\n",
       "      <td>0.0</td>\n",
       "      <td>0.0</td>\n",
       "      <td>0.0</td>\n",
       "    </tr>\n",
       "    <tr>\n",
       "      <th>2</th>\n",
       "      <td>0.193779</td>\n",
       "      <td>0.487865</td>\n",
       "      <td>0.0</td>\n",
       "      <td>0.0</td>\n",
       "      <td>1.0</td>\n",
       "      <td>0.0</td>\n",
       "      <td>0.0</td>\n",
       "      <td>0.0</td>\n",
       "      <td>0.0</td>\n",
       "      <td>0.0</td>\n",
       "      <td>0.0</td>\n",
       "      <td>0.0</td>\n",
       "      <td>0.0</td>\n",
       "      <td>1.0</td>\n",
       "    </tr>\n",
       "    <tr>\n",
       "      <th>3</th>\n",
       "      <td>0.100450</td>\n",
       "      <td>0.000000</td>\n",
       "      <td>0.0</td>\n",
       "      <td>1.0</td>\n",
       "      <td>0.0</td>\n",
       "      <td>0.0</td>\n",
       "      <td>0.0</td>\n",
       "      <td>0.0</td>\n",
       "      <td>0.0</td>\n",
       "      <td>0.0</td>\n",
       "      <td>0.0</td>\n",
       "      <td>0.0</td>\n",
       "      <td>1.0</td>\n",
       "      <td>0.0</td>\n",
       "    </tr>\n",
       "    <tr>\n",
       "      <th>4</th>\n",
       "      <td>0.059804</td>\n",
       "      <td>0.363715</td>\n",
       "      <td>0.0</td>\n",
       "      <td>0.0</td>\n",
       "      <td>0.0</td>\n",
       "      <td>0.0</td>\n",
       "      <td>1.0</td>\n",
       "      <td>0.0</td>\n",
       "      <td>0.0</td>\n",
       "      <td>1.0</td>\n",
       "      <td>0.0</td>\n",
       "      <td>0.0</td>\n",
       "      <td>0.0</td>\n",
       "      <td>0.0</td>\n",
       "    </tr>\n",
       "  </tbody>\n",
       "</table>\n",
       "</div>"
      ],
      "text/plain": [
       "   customer_lifetime_value    income  number_of_open_complaints  \\\n",
       "0                 0.009085  0.000000                        0.0   \n",
       "1                 0.088586  0.000000                        0.0   \n",
       "2                 0.193779  0.487865                        0.0   \n",
       "3                 0.100450  0.000000                        0.0   \n",
       "4                 0.059804  0.363715                        0.0   \n",
       "\n",
       "   state_California  state_Nevada  state_Oregon  state_Washington  \\\n",
       "0               0.0           0.0           0.0               1.0   \n",
       "1               0.0           0.0           0.0               0.0   \n",
       "2               0.0           1.0           0.0               0.0   \n",
       "3               1.0           0.0           0.0               0.0   \n",
       "4               0.0           0.0           0.0               1.0   \n",
       "\n",
       "   education_College  education_Doctor  education_High School or Below  \\\n",
       "0                0.0               0.0                             0.0   \n",
       "1                0.0               0.0                             0.0   \n",
       "2                0.0               0.0                             0.0   \n",
       "3                0.0               0.0                             0.0   \n",
       "4                0.0               0.0                             1.0   \n",
       "\n",
       "   education_Master  vehicle_class_Luxury  vehicle_class_SUV  \\\n",
       "0               1.0                   0.0                0.0   \n",
       "1               0.0                   0.0                0.0   \n",
       "2               0.0                   0.0                0.0   \n",
       "3               0.0                   0.0                1.0   \n",
       "4               0.0                   0.0                0.0   \n",
       "\n",
       "   vehicle_class_Two-Door Car  \n",
       "0                         0.0  \n",
       "1                         0.0  \n",
       "2                         1.0  \n",
       "3                         0.0  \n",
       "4                         0.0  "
      ]
     },
     "execution_count": 89,
     "metadata": {},
     "output_type": "execute_result"
    }
   ],
   "source": [
    "#2.3 Concatenate numerical-categorical\n",
    "X = pd.concat([X_normalized_i, onehot_encoded], axis=1)  # np.concatenate()\n",
    "X.head()"
   ]
  },
  {
   "cell_type": "markdown",
   "id": "da15ef28",
   "metadata": {},
   "source": [
    "## Lab | Modeling | Change numerical | Strategy 3 Change model"
   ]
  },
  {
   "cell_type": "code",
   "execution_count": 90,
   "id": "9646a7e9",
   "metadata": {},
   "outputs": [],
   "source": [
    "#3.2 Train test split\n",
    "from sklearn.model_selection import train_test_split\n",
    "X_train, X_test, y_train, y_test = train_test_split(X, y, test_size=0.15, random_state=42)"
   ]
  },
  {
   "cell_type": "code",
   "execution_count": 91,
   "id": "eaba49d4",
   "metadata": {},
   "outputs": [
    {
     "data": {
      "text/plain": [
       "LinearRegression()"
      ]
     },
     "execution_count": 91,
     "metadata": {},
     "output_type": "execute_result"
    }
   ],
   "source": [
    "#3.3 Train/fit model\n",
    "lm = linear_model.LinearRegression()\n",
    "lm.fit(X_train,y_train)"
   ]
  },
  {
   "cell_type": "code",
   "execution_count": 92,
   "id": "8c4e0411",
   "metadata": {},
   "outputs": [
    {
     "data": {
      "text/plain": [
       "0.3634425480292476"
      ]
     },
     "execution_count": 92,
     "metadata": {},
     "output_type": "execute_result"
    }
   ],
   "source": [
    "#4.1. R_square\n",
    "predictions = lm.predict(X_train)\n",
    "r2_score(y_train, predictions)"
   ]
  },
  {
   "cell_type": "code",
   "execution_count": 93,
   "id": "33a8cd82",
   "metadata": {},
   "outputs": [
    {
     "data": {
      "text/plain": [
       "0.4062262189122794"
      ]
     },
     "execution_count": 93,
     "metadata": {},
     "output_type": "execute_result"
    }
   ],
   "source": [
    "predictions_test = lm.predict(X_test)\n",
    "r2_score(y_test, predictions_test) # R-squared(Coefficient of determination) good value > 0.95"
   ]
  },
  {
   "cell_type": "code",
   "execution_count": 94,
   "id": "3a792bae",
   "metadata": {},
   "outputs": [
    {
     "data": {
      "text/plain": [
       "40854.24305335942"
      ]
     },
     "execution_count": 94,
     "metadata": {},
     "output_type": "execute_result"
    }
   ],
   "source": [
    "#4.2 MSE\n",
    "mse=mean_squared_error(y_test,predictions_test)\n",
    "mse # MSE(Mean Squared Error) Lower (close to 0) the MSE, the closer is forecast to actual"
   ]
  },
  {
   "cell_type": "code",
   "execution_count": 95,
   "id": "7c3120a9",
   "metadata": {},
   "outputs": [
    {
     "data": {
      "text/plain": [
       "202.12432573383992"
      ]
     },
     "execution_count": 95,
     "metadata": {},
     "output_type": "execute_result"
    }
   ],
   "source": [
    "#4.3 RMSE\n",
    "rmse = np.sqrt(mean_squared_error(y_test,predictions_test))\n",
    "rmse # RMSE(Root Mean Squared Error) values between 0.2 and 0.5"
   ]
  }
 ],
 "metadata": {
  "colab": {
   "provenance": []
  },
  "kernelspec": {
   "display_name": "Python 3 (ipykernel)",
   "language": "python",
   "name": "python3"
  },
  "language_info": {
   "codemirror_mode": {
    "name": "ipython",
    "version": 3
   },
   "file_extension": ".py",
   "mimetype": "text/x-python",
   "name": "python",
   "nbconvert_exporter": "python",
   "pygments_lexer": "ipython3",
   "version": "3.9.12"
  }
 },
 "nbformat": 4,
 "nbformat_minor": 5
}
