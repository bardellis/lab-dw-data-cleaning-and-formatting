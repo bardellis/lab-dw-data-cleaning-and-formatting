{
 "cells": [
  {
   "cell_type": "markdown",
   "id": "25d7736c-ba17-4aff-b6bb-66eba20fbf4e",
   "metadata": {
    "id": "25d7736c-ba17-4aff-b6bb-66eba20fbf4e"
   },
   "source": [
    "# Lab | Data Cleaning and Formatting"
   ]
  },
  {
   "cell_type": "markdown",
   "id": "d1973e9e-8be6-4039-b70e-d73ee0d94c99",
   "metadata": {
    "id": "d1973e9e-8be6-4039-b70e-d73ee0d94c99"
   },
   "source": [
    "In this lab, we will be working with the customer data from an insurance company, which can be found in the CSV file located at the following link: https://raw.githubusercontent.com/data-bootcamp-v4/data/main/file1.csv\n"
   ]
  },
  {
   "cell_type": "markdown",
   "id": "31b8a9e7-7db9-4604-991b-ef6771603e57",
   "metadata": {
    "id": "31b8a9e7-7db9-4604-991b-ef6771603e57"
   },
   "source": [
    "# Challenge 1: Data Cleaning and Formatting"
   ]
  },
  {
   "cell_type": "markdown",
   "id": "81553f19-9f2c-484b-8940-520aff884022",
   "metadata": {
    "id": "81553f19-9f2c-484b-8940-520aff884022"
   },
   "source": [
    "## Exercise 1: Cleaning Column Names"
   ]
  },
  {
   "cell_type": "markdown",
   "id": "34a929f4-1be4-4fa8-adda-42ffd920be90",
   "metadata": {
    "id": "34a929f4-1be4-4fa8-adda-42ffd920be90"
   },
   "source": [
    "To ensure consistency and ease of use, standardize the column names of the dataframe. Start by taking a first look at the dataframe and identifying any column names that need to be modified. Use appropriate naming conventions and make sure that column names are descriptive and informative.\n",
    "\n",
    "*Hint*:\n",
    "- *Column names should be in lower case*\n",
    "- *White spaces in column names should be replaced by `_`*\n",
    "- *`st` could be replaced for `state`*"
   ]
  },
  {
   "cell_type": "code",
   "execution_count": 1,
   "id": "5810735c-8056-4442-bbf2-dda38d3e284a",
   "metadata": {
    "id": "5810735c-8056-4442-bbf2-dda38d3e284a"
   },
   "outputs": [],
   "source": [
    "# Your code here\n",
    "import pandas as pd"
   ]
  },
  {
   "cell_type": "code",
   "execution_count": 2,
   "id": "33b782d9",
   "metadata": {},
   "outputs": [
    {
     "data": {
      "text/plain": [
       "Index(['Customer', 'ST', 'GENDER', 'Education', 'Customer Lifetime Value',\n",
       "       'Income', 'Monthly Premium Auto', 'Number of Open Complaints',\n",
       "       'Policy Type', 'Vehicle Class', 'Total Claim Amount'],\n",
       "      dtype='object')"
      ]
     },
     "execution_count": 2,
     "metadata": {},
     "output_type": "execute_result"
    }
   ],
   "source": [
    "data = pd.read_csv('https://raw.githubusercontent.com/data-bootcamp-v4/data/main/file1.csv')\n",
    "data.columns"
   ]
  },
  {
   "cell_type": "code",
   "execution_count": 3,
   "id": "03dfda78",
   "metadata": {},
   "outputs": [
    {
     "name": "stdout",
     "output_type": "stream",
     "text": [
      "Index(['custateomer', 'state', 'gender', 'education',\n",
      "       'custateomer_lifetime_value', 'income', 'monthly_premium_auto',\n",
      "       'number_of_open_complaints', 'policy_type', 'vehicle_class',\n",
      "       'total_claim_amount'],\n",
      "      dtype='object')\n"
     ]
    }
   ],
   "source": [
    "# Step 1: Convert column names to lowercase\n",
    "data.columns = data.columns.str.lower()\n",
    "\n",
    "# Step 2: Replace white spaces in column names with underscores\n",
    "data.columns = data.columns.str.replace(' ', '_')\n",
    "\n",
    "# Step 3: Replace \"st\" with \"state\" in column names\n",
    "data.columns = data.columns.str.replace('st', 'state')\n",
    "\n",
    "# Display the modified column names\n",
    "print(data.columns)"
   ]
  },
  {
   "cell_type": "markdown",
   "id": "9cb501ec-36ff-4589-b872-6252bb150316",
   "metadata": {
    "id": "9cb501ec-36ff-4589-b872-6252bb150316"
   },
   "source": [
    "## Exercise 2: Cleaning invalid Values"
   ]
  },
  {
   "cell_type": "markdown",
   "id": "771fdcf3-8e20-4b06-9c24-3a93ba2b0909",
   "metadata": {
    "id": "771fdcf3-8e20-4b06-9c24-3a93ba2b0909"
   },
   "source": [
    "The dataset contains columns with inconsistent and incorrect values that could affect the accuracy of our analysis. Therefore, we need to clean these columns to ensure that they only contain valid data.\n",
    "\n",
    "Note that this exercise will focus only on cleaning inconsistent values and will not involve handling null values (NaN or None).\n",
    "\n",
    "*Hint*:\n",
    "- *Gender column contains various inconsistent values such as \"F\", \"M\", \"Femal\", \"Male\", \"female\", which need to be standardized, for example, to \"M\" and \"F\".*\n",
    "- *State abbreviations be can replaced with its full name, for example \"AZ\": \"Arizona\", \"Cali\": \"California\", \"WA\": \"Washington\"*\n",
    "- *In education, \"Bachelors\" could be replaced by \"Bachelor\"*\n",
    "- *In Customer Lifetime Value, delete the `%` character*\n",
    "- *In vehicle class, \"Sports Car\", \"Luxury SUV\" and \"Luxury Car\" could be replaced by \"Luxury\"*"
   ]
  },
  {
   "cell_type": "code",
   "execution_count": 4,
   "id": "3f8ee5cb-50ab-48af-8a9f-9a389804033c",
   "metadata": {
    "id": "3f8ee5cb-50ab-48af-8a9f-9a389804033c"
   },
   "outputs": [
    {
     "name": "stdout",
     "output_type": "stream",
     "text": [
      "F    502\n",
      "M    452\n",
      "Name: gender, dtype: int64\n"
     ]
    }
   ],
   "source": [
    "# Your code here\n",
    "gender_mapping = {\n",
    "    \"F\": \"F\",\n",
    "    \"M\": \"M\",\n",
    "    \"Femal\": \"F\",\n",
    "    \"Male\": \"M\",\n",
    "    \"female\": \"F\"\n",
    "}\n",
    "\n",
    "# Replace the values in the \"Gender\" column using the mapping\n",
    "data['gender'] = data['gender'].replace(gender_mapping)\n",
    "\n",
    "# Verify the changes\n",
    "print(data['gender'].value_counts())"
   ]
  },
  {
   "cell_type": "code",
   "execution_count": 5,
   "id": "b612821c",
   "metadata": {},
   "outputs": [
    {
     "name": "stdout",
     "output_type": "stream",
     "text": [
      "California    331\n",
      "Oregon        320\n",
      "Arizona       211\n",
      "Washington    111\n",
      "Nevada         98\n",
      "Name: state, dtype: int64\n"
     ]
    }
   ],
   "source": [
    "# Step 2: Clean State Column\n",
    "state_mapping = {\n",
    "    'AZ': 'Arizona',\n",
    "    'Cali': 'California',\n",
    "    'WA': 'Washington'\n",
    "}\n",
    "data['state'] = data['state'].replace(state_mapping)\n",
    "\n",
    "# Verify the changes\n",
    "print(data['state'].value_counts())"
   ]
  },
  {
   "cell_type": "code",
   "execution_count": 6,
   "id": "65a41ae3",
   "metadata": {},
   "outputs": [
    {
     "name": "stdout",
     "output_type": "stream",
     "text": [
      "Bachelor                331\n",
      "College                 313\n",
      "High School or Below    296\n",
      "Master                   94\n",
      "Doctor                   37\n",
      "Name: education, dtype: int64\n"
     ]
    }
   ],
   "source": [
    "# Step 3: Clean Education Column\n",
    "data['education'] = data['education'].replace({'Bachelors': 'Bachelor'})\n",
    "\n",
    "# Verify the changes\n",
    "print(data['education'].value_counts())"
   ]
  },
  {
   "cell_type": "code",
   "execution_count": 7,
   "id": "22ee36df",
   "metadata": {},
   "outputs": [
    {
     "data": {
      "text/html": [
       "<div>\n",
       "<style scoped>\n",
       "    .dataframe tbody tr th:only-of-type {\n",
       "        vertical-align: middle;\n",
       "    }\n",
       "\n",
       "    .dataframe tbody tr th {\n",
       "        vertical-align: top;\n",
       "    }\n",
       "\n",
       "    .dataframe thead th {\n",
       "        text-align: right;\n",
       "    }\n",
       "</style>\n",
       "<table border=\"1\" class=\"dataframe\">\n",
       "  <thead>\n",
       "    <tr style=\"text-align: right;\">\n",
       "      <th></th>\n",
       "      <th>custateomer</th>\n",
       "      <th>state</th>\n",
       "      <th>gender</th>\n",
       "      <th>education</th>\n",
       "      <th>custateomer_lifetime_value</th>\n",
       "      <th>income</th>\n",
       "      <th>monthly_premium_auto</th>\n",
       "      <th>number_of_open_complaints</th>\n",
       "      <th>policy_type</th>\n",
       "      <th>vehicle_class</th>\n",
       "      <th>total_claim_amount</th>\n",
       "    </tr>\n",
       "  </thead>\n",
       "  <tbody>\n",
       "    <tr>\n",
       "      <th>0</th>\n",
       "      <td>RB50392</td>\n",
       "      <td>Washington</td>\n",
       "      <td>NaN</td>\n",
       "      <td>Master</td>\n",
       "      <td>NaN</td>\n",
       "      <td>0.0</td>\n",
       "      <td>1000.0</td>\n",
       "      <td>1/0/00</td>\n",
       "      <td>Personal Auto</td>\n",
       "      <td>Four-Door Car</td>\n",
       "      <td>2.704934</td>\n",
       "    </tr>\n",
       "    <tr>\n",
       "      <th>1</th>\n",
       "      <td>QZ44356</td>\n",
       "      <td>Arizona</td>\n",
       "      <td>F</td>\n",
       "      <td>Bachelor</td>\n",
       "      <td>697953.59%</td>\n",
       "      <td>0.0</td>\n",
       "      <td>94.0</td>\n",
       "      <td>1/0/00</td>\n",
       "      <td>Personal Auto</td>\n",
       "      <td>Four-Door Car</td>\n",
       "      <td>1131.464935</td>\n",
       "    </tr>\n",
       "    <tr>\n",
       "      <th>2</th>\n",
       "      <td>AI49188</td>\n",
       "      <td>Nevada</td>\n",
       "      <td>F</td>\n",
       "      <td>Bachelor</td>\n",
       "      <td>1288743.17%</td>\n",
       "      <td>48767.0</td>\n",
       "      <td>108.0</td>\n",
       "      <td>1/0/00</td>\n",
       "      <td>Personal Auto</td>\n",
       "      <td>Two-Door Car</td>\n",
       "      <td>566.472247</td>\n",
       "    </tr>\n",
       "    <tr>\n",
       "      <th>3</th>\n",
       "      <td>WW63253</td>\n",
       "      <td>California</td>\n",
       "      <td>M</td>\n",
       "      <td>Bachelor</td>\n",
       "      <td>764586.18%</td>\n",
       "      <td>0.0</td>\n",
       "      <td>106.0</td>\n",
       "      <td>1/0/00</td>\n",
       "      <td>Corporate Auto</td>\n",
       "      <td>SUV</td>\n",
       "      <td>529.881344</td>\n",
       "    </tr>\n",
       "    <tr>\n",
       "      <th>4</th>\n",
       "      <td>GA49547</td>\n",
       "      <td>Washington</td>\n",
       "      <td>M</td>\n",
       "      <td>High School or Below</td>\n",
       "      <td>536307.65%</td>\n",
       "      <td>36357.0</td>\n",
       "      <td>68.0</td>\n",
       "      <td>1/0/00</td>\n",
       "      <td>Personal Auto</td>\n",
       "      <td>Four-Door Car</td>\n",
       "      <td>17.269323</td>\n",
       "    </tr>\n",
       "  </tbody>\n",
       "</table>\n",
       "</div>"
      ],
      "text/plain": [
       "  custateomer       state gender             education  \\\n",
       "0     RB50392  Washington    NaN                Master   \n",
       "1     QZ44356     Arizona      F              Bachelor   \n",
       "2     AI49188      Nevada      F              Bachelor   \n",
       "3     WW63253  California      M              Bachelor   \n",
       "4     GA49547  Washington      M  High School or Below   \n",
       "\n",
       "  custateomer_lifetime_value   income  monthly_premium_auto  \\\n",
       "0                        NaN      0.0                1000.0   \n",
       "1                 697953.59%      0.0                  94.0   \n",
       "2                1288743.17%  48767.0                 108.0   \n",
       "3                 764586.18%      0.0                 106.0   \n",
       "4                 536307.65%  36357.0                  68.0   \n",
       "\n",
       "  number_of_open_complaints     policy_type  vehicle_class  total_claim_amount  \n",
       "0                    1/0/00   Personal Auto  Four-Door Car            2.704934  \n",
       "1                    1/0/00   Personal Auto  Four-Door Car         1131.464935  \n",
       "2                    1/0/00   Personal Auto   Two-Door Car          566.472247  \n",
       "3                    1/0/00  Corporate Auto            SUV          529.881344  \n",
       "4                    1/0/00   Personal Auto  Four-Door Car           17.269323  "
      ]
     },
     "execution_count": 7,
     "metadata": {},
     "output_type": "execute_result"
    }
   ],
   "source": [
    "data.head()"
   ]
  },
  {
   "cell_type": "code",
   "execution_count": 8,
   "id": "d18b2c3b",
   "metadata": {},
   "outputs": [
    {
     "data": {
      "text/plain": [
       "0              NaN\n",
       "1        697953.59\n",
       "2       1288743.17\n",
       "3        764586.18\n",
       "4        536307.65\n",
       "           ...    \n",
       "4003           NaN\n",
       "4004           NaN\n",
       "4005           NaN\n",
       "4006           NaN\n",
       "4007           NaN\n",
       "Name: custateomer_lifetime_value, Length: 4008, dtype: float64"
      ]
     },
     "execution_count": 8,
     "metadata": {},
     "output_type": "execute_result"
    }
   ],
   "source": [
    "# Step 4: Clean Customer Lifetime Value Column\n",
    "data['custateomer_lifetime_value'] = data['custateomer_lifetime_value'].str.rstrip('%').astype(float)\n",
    "\n",
    "# Verify the changes\n",
    "data['custateomer_lifetime_value']"
   ]
  },
  {
   "cell_type": "code",
   "execution_count": 9,
   "id": "0b78c7f1",
   "metadata": {},
   "outputs": [
    {
     "name": "stdout",
     "output_type": "stream",
     "text": [
      "California    331\n",
      "Oregon        320\n",
      "Arizona       211\n",
      "Washington    111\n",
      "Nevada         98\n",
      "Name: state, dtype: int64\n"
     ]
    }
   ],
   "source": [
    "state_mapping = {\n",
    "    'AZ': 'Arizona',\n",
    "    'Cali': 'California',\n",
    "    'WA': 'Washington'\n",
    "}\n",
    "data['state'] = data['state'].replace(state_mapping)\n",
    "\n",
    "# Verify the changes\n",
    "print(data['state'].value_counts())"
   ]
  },
  {
   "cell_type": "code",
   "execution_count": 10,
   "id": "ac3a86dc",
   "metadata": {},
   "outputs": [
    {
     "name": "stdout",
     "output_type": "stream",
     "text": [
      "NaN              2937\n",
      "Four-Door Car     576\n",
      "Two-Door Car      205\n",
      "SUV               199\n",
      "Luxury             91\n",
      "Name: vehicle_class, dtype: int64\n"
     ]
    }
   ],
   "source": [
    "# Step 5: Clean Vehicle Class Column\n",
    "vehicle_class_mapping = {\n",
    "    'Sports Car': 'Luxury',\n",
    "    'Luxury SUV': 'Luxury',\n",
    "    'Luxury Car': 'Luxury'\n",
    "}\n",
    "\n",
    "data['vehicle_class'] = data['vehicle_class'].replace(vehicle_class_mapping)\n",
    "'vehicle_class'\n",
    "\n",
    "#data['vehicle_class']\n",
    "print(data['vehicle_class'].value_counts(dropna=False))"
   ]
  },
  {
   "cell_type": "code",
   "execution_count": 11,
   "id": "d6b324bd",
   "metadata": {},
   "outputs": [
    {
     "data": {
      "text/html": [
       "<div>\n",
       "<style scoped>\n",
       "    .dataframe tbody tr th:only-of-type {\n",
       "        vertical-align: middle;\n",
       "    }\n",
       "\n",
       "    .dataframe tbody tr th {\n",
       "        vertical-align: top;\n",
       "    }\n",
       "\n",
       "    .dataframe thead th {\n",
       "        text-align: right;\n",
       "    }\n",
       "</style>\n",
       "<table border=\"1\" class=\"dataframe\">\n",
       "  <thead>\n",
       "    <tr style=\"text-align: right;\">\n",
       "      <th></th>\n",
       "      <th>custateomer</th>\n",
       "      <th>state</th>\n",
       "      <th>gender</th>\n",
       "      <th>education</th>\n",
       "      <th>custateomer_lifetime_value</th>\n",
       "      <th>income</th>\n",
       "      <th>monthly_premium_auto</th>\n",
       "      <th>number_of_open_complaints</th>\n",
       "      <th>policy_type</th>\n",
       "      <th>vehicle_class</th>\n",
       "      <th>total_claim_amount</th>\n",
       "    </tr>\n",
       "  </thead>\n",
       "  <tbody>\n",
       "    <tr>\n",
       "      <th>0</th>\n",
       "      <td>RB50392</td>\n",
       "      <td>Washington</td>\n",
       "      <td>NaN</td>\n",
       "      <td>Master</td>\n",
       "      <td>NaN</td>\n",
       "      <td>0.0</td>\n",
       "      <td>1000.0</td>\n",
       "      <td>1/0/00</td>\n",
       "      <td>Personal Auto</td>\n",
       "      <td>Four-Door Car</td>\n",
       "      <td>2.704934</td>\n",
       "    </tr>\n",
       "    <tr>\n",
       "      <th>1</th>\n",
       "      <td>QZ44356</td>\n",
       "      <td>Arizona</td>\n",
       "      <td>F</td>\n",
       "      <td>Bachelor</td>\n",
       "      <td>697953.59</td>\n",
       "      <td>0.0</td>\n",
       "      <td>94.0</td>\n",
       "      <td>1/0/00</td>\n",
       "      <td>Personal Auto</td>\n",
       "      <td>Four-Door Car</td>\n",
       "      <td>1131.464935</td>\n",
       "    </tr>\n",
       "    <tr>\n",
       "      <th>2</th>\n",
       "      <td>AI49188</td>\n",
       "      <td>Nevada</td>\n",
       "      <td>F</td>\n",
       "      <td>Bachelor</td>\n",
       "      <td>1288743.17</td>\n",
       "      <td>48767.0</td>\n",
       "      <td>108.0</td>\n",
       "      <td>1/0/00</td>\n",
       "      <td>Personal Auto</td>\n",
       "      <td>Two-Door Car</td>\n",
       "      <td>566.472247</td>\n",
       "    </tr>\n",
       "    <tr>\n",
       "      <th>3</th>\n",
       "      <td>WW63253</td>\n",
       "      <td>California</td>\n",
       "      <td>M</td>\n",
       "      <td>Bachelor</td>\n",
       "      <td>764586.18</td>\n",
       "      <td>0.0</td>\n",
       "      <td>106.0</td>\n",
       "      <td>1/0/00</td>\n",
       "      <td>Corporate Auto</td>\n",
       "      <td>SUV</td>\n",
       "      <td>529.881344</td>\n",
       "    </tr>\n",
       "    <tr>\n",
       "      <th>4</th>\n",
       "      <td>GA49547</td>\n",
       "      <td>Washington</td>\n",
       "      <td>M</td>\n",
       "      <td>High School or Below</td>\n",
       "      <td>536307.65</td>\n",
       "      <td>36357.0</td>\n",
       "      <td>68.0</td>\n",
       "      <td>1/0/00</td>\n",
       "      <td>Personal Auto</td>\n",
       "      <td>Four-Door Car</td>\n",
       "      <td>17.269323</td>\n",
       "    </tr>\n",
       "  </tbody>\n",
       "</table>\n",
       "</div>"
      ],
      "text/plain": [
       "  custateomer       state gender             education  \\\n",
       "0     RB50392  Washington    NaN                Master   \n",
       "1     QZ44356     Arizona      F              Bachelor   \n",
       "2     AI49188      Nevada      F              Bachelor   \n",
       "3     WW63253  California      M              Bachelor   \n",
       "4     GA49547  Washington      M  High School or Below   \n",
       "\n",
       "   custateomer_lifetime_value   income  monthly_premium_auto  \\\n",
       "0                         NaN      0.0                1000.0   \n",
       "1                   697953.59      0.0                  94.0   \n",
       "2                  1288743.17  48767.0                 108.0   \n",
       "3                   764586.18      0.0                 106.0   \n",
       "4                   536307.65  36357.0                  68.0   \n",
       "\n",
       "  number_of_open_complaints     policy_type  vehicle_class  total_claim_amount  \n",
       "0                    1/0/00   Personal Auto  Four-Door Car            2.704934  \n",
       "1                    1/0/00   Personal Auto  Four-Door Car         1131.464935  \n",
       "2                    1/0/00   Personal Auto   Two-Door Car          566.472247  \n",
       "3                    1/0/00  Corporate Auto            SUV          529.881344  \n",
       "4                    1/0/00   Personal Auto  Four-Door Car           17.269323  "
      ]
     },
     "execution_count": 11,
     "metadata": {},
     "output_type": "execute_result"
    }
   ],
   "source": [
    "# Display the cleaned dataframe\n",
    "data.head()"
   ]
  },
  {
   "cell_type": "markdown",
   "id": "85ff78ce-0174-4890-9db3-8048b7d7d2d0",
   "metadata": {
    "id": "85ff78ce-0174-4890-9db3-8048b7d7d2d0"
   },
   "source": [
    "## Exercise 3: Formatting data types"
   ]
  },
  {
   "cell_type": "markdown",
   "id": "b91c2cf8-79a2-4baf-9f65-ff2fb22270bd",
   "metadata": {
    "id": "b91c2cf8-79a2-4baf-9f65-ff2fb22270bd"
   },
   "source": [
    "The data types of many columns in the dataset appear to be incorrect. This could impact the accuracy of our analysis. To ensure accurate analysis, we need to correct the data types of these columns. Please update the data types of the columns as appropriate."
   ]
  },
  {
   "cell_type": "markdown",
   "id": "43e5d853-ff9e-43b2-9d92-aef2f78764f3",
   "metadata": {
    "id": "43e5d853-ff9e-43b2-9d92-aef2f78764f3"
   },
   "source": [
    "It is important to note that this exercise does not involve handling null values (NaN or None)."
   ]
  },
  {
   "cell_type": "markdown",
   "id": "329ca691-9196-4419-8969-3596746237a1",
   "metadata": {
    "id": "329ca691-9196-4419-8969-3596746237a1"
   },
   "source": [
    "*Hint*:\n",
    "- *Customer lifetime value should be numeric*\n",
    "- *Number of open complaints has an incorrect format. Look at the different values it takes with `unique()` and take the middle value. As an example, 1/5/00 should be 5. Number of open complaints is a string - remember you can use `split()` to deal with it and take the number you need. Finally, since it should be numeric, cast the column to be in its proper type.*"
   ]
  },
  {
   "cell_type": "code",
   "execution_count": 12,
   "id": "eb8f5991-73e9-405f-bf1c-6b7c589379a9",
   "metadata": {
    "id": "eb8f5991-73e9-405f-bf1c-6b7c589379a9"
   },
   "outputs": [],
   "source": [
    "# Your code here\n",
    "# Correct the column name to 'Customer Lifetime Value' (assuming this is the actual column name)\n",
    "data['custateomer_lifetime_value'] = pd.to_numeric(data['custateomer_lifetime_value'], errors='coerce')"
   ]
  },
  {
   "cell_type": "code",
   "execution_count": 13,
   "id": "2fcf82f3",
   "metadata": {},
   "outputs": [
    {
     "data": {
      "text/plain": [
       "dtype('float64')"
      ]
     },
     "execution_count": 13,
     "metadata": {},
     "output_type": "execute_result"
    }
   ],
   "source": [
    "data['custateomer_lifetime_value'].dtypes"
   ]
  },
  {
   "cell_type": "code",
   "execution_count": 14,
   "id": "1991dac0",
   "metadata": {},
   "outputs": [
    {
     "data": {
      "text/plain": [
       "array(['1/0/00', '1/2/00', '1/1/00', '1/3/00', '1/5/00', '1/4/00', nan],\n",
       "      dtype=object)"
      ]
     },
     "execution_count": 14,
     "metadata": {},
     "output_type": "execute_result"
    }
   ],
   "source": [
    "#step 2 Number of open complaints has an incorrect format. \n",
    "# Look at the different values it takes with unique() and take the middle value.\n",
    "data['number_of_open_complaints'].unique()"
   ]
  },
  {
   "cell_type": "code",
   "execution_count": 15,
   "id": "c681f5fa",
   "metadata": {},
   "outputs": [
    {
     "data": {
      "text/plain": [
       "['1', '5', '00']"
      ]
     },
     "execution_count": 15,
     "metadata": {},
     "output_type": "execute_result"
    }
   ],
   "source": [
    "# As an example, 1/5/00 should be 5.\n",
    "string = '1/5/00'\n",
    "string.split('/')"
   ]
  },
  {
   "cell_type": "code",
   "execution_count": 16,
   "id": "d4baba40",
   "metadata": {},
   "outputs": [],
   "source": [
    "# Number of open complaints is a string - remember you can use split() to deal with it and take the number you need.\n",
    "# Finally, since it should be numeric, cast the column to be in its proper type\n",
    "# Split the 'number_of_open_complaints' column by '/'\n",
    "data['number_of_open_complaints'] = data['number_of_open_complaints'].str.split('/').str[1]\n",
    "\n",
    "# Convert the extracted portion to numeric (assuming it contains numeric values)\n",
    "data['number_of_open_complaints'] = pd.to_numeric(data['number_of_open_complaints'], errors='coerce')"
   ]
  },
  {
   "cell_type": "code",
   "execution_count": 17,
   "id": "2e80fc2c",
   "metadata": {},
   "outputs": [
    {
     "data": {
      "text/plain": [
       "array([ 0.,  2.,  1.,  3.,  5.,  4., nan])"
      ]
     },
     "execution_count": 17,
     "metadata": {},
     "output_type": "execute_result"
    }
   ],
   "source": [
    "data['number_of_open_complaints'].unique()"
   ]
  },
  {
   "cell_type": "code",
   "execution_count": 18,
   "id": "ed47ff3d",
   "metadata": {},
   "outputs": [],
   "source": [
    "# Convert 'number_of_open_complaints' column to float\n",
    "data['number_of_open_complaints'] = data['number_of_open_complaints'].astype(float)"
   ]
  },
  {
   "cell_type": "code",
   "execution_count": 19,
   "id": "787e2072",
   "metadata": {},
   "outputs": [
    {
     "data": {
      "text/plain": [
       "NaN    2937\n",
       "0.0     830\n",
       "1.0     138\n",
       "2.0      50\n",
       "3.0      34\n",
       "4.0      13\n",
       "5.0       6\n",
       "Name: number_of_open_complaints, dtype: int64"
      ]
     },
     "execution_count": 19,
     "metadata": {},
     "output_type": "execute_result"
    }
   ],
   "source": [
    "data['number_of_open_complaints'].value_counts(dropna=False)"
   ]
  },
  {
   "cell_type": "code",
   "execution_count": 20,
   "id": "c10bed9e",
   "metadata": {},
   "outputs": [
    {
     "data": {
      "text/html": [
       "<div>\n",
       "<style scoped>\n",
       "    .dataframe tbody tr th:only-of-type {\n",
       "        vertical-align: middle;\n",
       "    }\n",
       "\n",
       "    .dataframe tbody tr th {\n",
       "        vertical-align: top;\n",
       "    }\n",
       "\n",
       "    .dataframe thead th {\n",
       "        text-align: right;\n",
       "    }\n",
       "</style>\n",
       "<table border=\"1\" class=\"dataframe\">\n",
       "  <thead>\n",
       "    <tr style=\"text-align: right;\">\n",
       "      <th></th>\n",
       "      <th>custateomer</th>\n",
       "      <th>state</th>\n",
       "      <th>gender</th>\n",
       "      <th>education</th>\n",
       "      <th>custateomer_lifetime_value</th>\n",
       "      <th>income</th>\n",
       "      <th>monthly_premium_auto</th>\n",
       "      <th>number_of_open_complaints</th>\n",
       "      <th>policy_type</th>\n",
       "      <th>vehicle_class</th>\n",
       "      <th>total_claim_amount</th>\n",
       "    </tr>\n",
       "  </thead>\n",
       "  <tbody>\n",
       "    <tr>\n",
       "      <th>0</th>\n",
       "      <td>RB50392</td>\n",
       "      <td>Washington</td>\n",
       "      <td>NaN</td>\n",
       "      <td>Master</td>\n",
       "      <td>NaN</td>\n",
       "      <td>0.0</td>\n",
       "      <td>1000.0</td>\n",
       "      <td>0.0</td>\n",
       "      <td>Personal Auto</td>\n",
       "      <td>Four-Door Car</td>\n",
       "      <td>2.704934</td>\n",
       "    </tr>\n",
       "    <tr>\n",
       "      <th>1</th>\n",
       "      <td>QZ44356</td>\n",
       "      <td>Arizona</td>\n",
       "      <td>F</td>\n",
       "      <td>Bachelor</td>\n",
       "      <td>697953.59</td>\n",
       "      <td>0.0</td>\n",
       "      <td>94.0</td>\n",
       "      <td>0.0</td>\n",
       "      <td>Personal Auto</td>\n",
       "      <td>Four-Door Car</td>\n",
       "      <td>1131.464935</td>\n",
       "    </tr>\n",
       "    <tr>\n",
       "      <th>2</th>\n",
       "      <td>AI49188</td>\n",
       "      <td>Nevada</td>\n",
       "      <td>F</td>\n",
       "      <td>Bachelor</td>\n",
       "      <td>1288743.17</td>\n",
       "      <td>48767.0</td>\n",
       "      <td>108.0</td>\n",
       "      <td>0.0</td>\n",
       "      <td>Personal Auto</td>\n",
       "      <td>Two-Door Car</td>\n",
       "      <td>566.472247</td>\n",
       "    </tr>\n",
       "    <tr>\n",
       "      <th>3</th>\n",
       "      <td>WW63253</td>\n",
       "      <td>California</td>\n",
       "      <td>M</td>\n",
       "      <td>Bachelor</td>\n",
       "      <td>764586.18</td>\n",
       "      <td>0.0</td>\n",
       "      <td>106.0</td>\n",
       "      <td>0.0</td>\n",
       "      <td>Corporate Auto</td>\n",
       "      <td>SUV</td>\n",
       "      <td>529.881344</td>\n",
       "    </tr>\n",
       "    <tr>\n",
       "      <th>4</th>\n",
       "      <td>GA49547</td>\n",
       "      <td>Washington</td>\n",
       "      <td>M</td>\n",
       "      <td>High School or Below</td>\n",
       "      <td>536307.65</td>\n",
       "      <td>36357.0</td>\n",
       "      <td>68.0</td>\n",
       "      <td>0.0</td>\n",
       "      <td>Personal Auto</td>\n",
       "      <td>Four-Door Car</td>\n",
       "      <td>17.269323</td>\n",
       "    </tr>\n",
       "  </tbody>\n",
       "</table>\n",
       "</div>"
      ],
      "text/plain": [
       "  custateomer       state gender             education  \\\n",
       "0     RB50392  Washington    NaN                Master   \n",
       "1     QZ44356     Arizona      F              Bachelor   \n",
       "2     AI49188      Nevada      F              Bachelor   \n",
       "3     WW63253  California      M              Bachelor   \n",
       "4     GA49547  Washington      M  High School or Below   \n",
       "\n",
       "   custateomer_lifetime_value   income  monthly_premium_auto  \\\n",
       "0                         NaN      0.0                1000.0   \n",
       "1                   697953.59      0.0                  94.0   \n",
       "2                  1288743.17  48767.0                 108.0   \n",
       "3                   764586.18      0.0                 106.0   \n",
       "4                   536307.65  36357.0                  68.0   \n",
       "\n",
       "   number_of_open_complaints     policy_type  vehicle_class  \\\n",
       "0                        0.0   Personal Auto  Four-Door Car   \n",
       "1                        0.0   Personal Auto  Four-Door Car   \n",
       "2                        0.0   Personal Auto   Two-Door Car   \n",
       "3                        0.0  Corporate Auto            SUV   \n",
       "4                        0.0   Personal Auto  Four-Door Car   \n",
       "\n",
       "   total_claim_amount  \n",
       "0            2.704934  \n",
       "1         1131.464935  \n",
       "2          566.472247  \n",
       "3          529.881344  \n",
       "4           17.269323  "
      ]
     },
     "execution_count": 20,
     "metadata": {},
     "output_type": "execute_result"
    }
   ],
   "source": [
    "data.head()"
   ]
  },
  {
   "cell_type": "markdown",
   "id": "14c52e28-2d0c-4dd2-8bd5-3476e34fadc1",
   "metadata": {
    "id": "14c52e28-2d0c-4dd2-8bd5-3476e34fadc1"
   },
   "source": [
    "## Exercise 4: Dealing with Null values"
   ]
  },
  {
   "cell_type": "markdown",
   "id": "34b9a20f-7d32-4417-975e-1b4dfb0e16cd",
   "metadata": {
    "id": "34b9a20f-7d32-4417-975e-1b4dfb0e16cd"
   },
   "source": [
    "Identify any columns with null or missing values. Identify how many null values each column has. You can use the `isnull()` function in pandas to find columns with null values.\n",
    "\n",
    "Decide on a strategy for handling the null values. There are several options, including:\n",
    "\n",
    "- Drop the rows or columns with null values\n",
    "- Fill the null values with a specific value (such as the column mean or median for numerical variables, and mode for categorical variables)\n",
    "- Fill the null values with the previous or next value in the column\n",
    "- Fill the null values based on a more complex algorithm or model (note: we haven't covered this yet)\n",
    "\n",
    "Implement your chosen strategy to handle the null values. You can use the `fillna()` function in pandas to fill null values or `dropna()` function to drop null values.\n",
    "\n",
    "Verify that your strategy has successfully handled the null values. You can use the `isnull()` function again to check if there are still null values in the dataset.\n",
    "\n",
    "Remember to document your process and explain your reasoning for choosing a particular strategy for handling null values.\n",
    "\n",
    "After formatting data types, as a last step, convert all the numeric variables to integers using `applymap()`."
   ]
  },
  {
   "cell_type": "code",
   "execution_count": 21,
   "id": "f49da79d",
   "metadata": {},
   "outputs": [
    {
     "name": "stdout",
     "output_type": "stream",
     "text": [
      "Columns with null values:\n",
      "['custateomer', 'state', 'gender', 'education', 'custateomer_lifetime_value', 'income', 'monthly_premium_auto', 'number_of_open_complaints', 'policy_type', 'vehicle_class', 'total_claim_amount']\n"
     ]
    }
   ],
   "source": [
    "# Identify any columns with null or missing values.\n",
    "# Identify how many null values each column has.\n",
    "# You can use the isnull() function in pandas to find columns with null values.\n",
    "\n",
    "columns_with_null_values = data.columns[data.isna().any()].tolist()\n",
    "print(\"Columns with null values:\")\n",
    "print(columns_with_null_values)"
   ]
  },
  {
   "cell_type": "code",
   "execution_count": 22,
   "id": "14289fb1",
   "metadata": {},
   "outputs": [
    {
     "data": {
      "text/plain": [
       "NaN           2940\n",
       "445811.34        4\n",
       "251459.20        4\n",
       "2412750.40       3\n",
       "684615.03        3\n",
       "              ... \n",
       "1210120.88       1\n",
       "245357.08        1\n",
       "507566.27        1\n",
       "321497.94        1\n",
       "899704.02        1\n",
       "Name: custateomer_lifetime_value, Length: 1028, dtype: int64"
      ]
     },
     "execution_count": 22,
     "metadata": {},
     "output_type": "execute_result"
    }
   ],
   "source": [
    "# custateomer_lifetime_value\n",
    "data['custateomer_lifetime_value'].value_counts(dropna=False)"
   ]
  },
  {
   "cell_type": "code",
   "execution_count": 23,
   "id": "d4b72671",
   "metadata": {},
   "outputs": [
    {
     "data": {
      "text/plain": [
       "793690.2593445694"
      ]
     },
     "execution_count": 23,
     "metadata": {},
     "output_type": "execute_result"
    }
   ],
   "source": [
    "data['custateomer_lifetime_value'].mean()"
   ]
  },
  {
   "cell_type": "code",
   "execution_count": 24,
   "id": "cbf61251",
   "metadata": {},
   "outputs": [],
   "source": [
    "mean_value = data['custateomer_lifetime_value'].mean()\n",
    "data['custateomer_lifetime_value'].fillna(mean_value, inplace=True)"
   ]
  },
  {
   "cell_type": "code",
   "execution_count": 25,
   "id": "97480e2b",
   "metadata": {},
   "outputs": [
    {
     "data": {
      "text/plain": [
       "NaN        2937\n",
       "0.0         252\n",
       "43860.0       4\n",
       "17622.0       4\n",
       "14072.0       3\n",
       "           ... \n",
       "58557.0       1\n",
       "25632.0       1\n",
       "18768.0       1\n",
       "47945.0       1\n",
       "55873.0       1\n",
       "Name: income, Length: 775, dtype: int64"
      ]
     },
     "execution_count": 25,
     "metadata": {},
     "output_type": "execute_result"
    }
   ],
   "source": [
    "# income\n",
    "data['income'].value_counts(dropna=False)"
   ]
  },
  {
   "cell_type": "code",
   "execution_count": 26,
   "id": "b0853b1e",
   "metadata": {},
   "outputs": [
    {
     "data": {
      "text/plain": [
       "39295.70121381886"
      ]
     },
     "execution_count": 26,
     "metadata": {},
     "output_type": "execute_result"
    }
   ],
   "source": [
    "data['income'].mean()"
   ]
  },
  {
   "cell_type": "code",
   "execution_count": 27,
   "id": "a2a77ab1",
   "metadata": {},
   "outputs": [],
   "source": [
    "\n",
    "mean_value = data['income'].mean()\n",
    "data['income'].fillna(mean_value, inplace=True)"
   ]
  },
  {
   "cell_type": "code",
   "execution_count": 28,
   "id": "939876e8",
   "metadata": {},
   "outputs": [],
   "source": [
    "# monthly_premium_auto\n",
    "mean_value = data['monthly_premium_auto'].mean()\n",
    "data['monthly_premium_auto'].fillna(mean_value, inplace=True)"
   ]
  },
  {
   "cell_type": "code",
   "execution_count": 29,
   "id": "66981ae1",
   "metadata": {},
   "outputs": [],
   "source": [
    "# number_of_open_complaints\n",
    "mean_value = data['number_of_open_complaints'].mean()\n",
    "data['number_of_open_complaints'].fillna(mean_value, inplace=True)"
   ]
  },
  {
   "cell_type": "code",
   "execution_count": 30,
   "id": "0c1eceba",
   "metadata": {},
   "outputs": [],
   "source": [
    "# total_claim_amount\n",
    "mean_value = data['total_claim_amount'].mean()\n",
    "data['total_claim_amount'].fillna(mean_value, inplace=True)"
   ]
  },
  {
   "cell_type": "code",
   "execution_count": 31,
   "id": "d0cb5f16",
   "metadata": {},
   "outputs": [
    {
     "name": "stdout",
     "output_type": "stream",
     "text": [
      "custateomer                   2937\n",
      "state                         2937\n",
      "gender                        3054\n",
      "education                     2937\n",
      "custateomer_lifetime_value       0\n",
      "income                           0\n",
      "monthly_premium_auto             0\n",
      "number_of_open_complaints        0\n",
      "policy_type                   2937\n",
      "vehicle_class                 2937\n",
      "total_claim_amount               0\n",
      "dtype: int64\n"
     ]
    }
   ],
   "source": [
    "null_mask = data.isna()  # Creates a DataFrame of boolean values\n",
    "null_count = null_mask.sum()  # Counts null values in each column\n",
    "print(null_count)"
   ]
  },
  {
   "cell_type": "code",
   "execution_count": 32,
   "id": "c6d21832",
   "metadata": {},
   "outputs": [
    {
     "data": {
      "text/plain": [
       "custateomer                             NaN\n",
       "state                                   NaN\n",
       "gender                                  NaN\n",
       "education                               NaN\n",
       "custateomer_lifetime_value    793690.259345\n",
       "income                         39295.701214\n",
       "monthly_premium_auto              193.23436\n",
       "number_of_open_complaints          0.394024\n",
       "policy_type                             NaN\n",
       "vehicle_class                           NaN\n",
       "total_claim_amount               404.986909\n",
       "Name: 1071, dtype: object"
      ]
     },
     "execution_count": 32,
     "metadata": {},
     "output_type": "execute_result"
    }
   ],
   "source": [
    "# VER COMO RESOLVER ESTE REGISTRO\n",
    "data.iloc[1071]"
   ]
  },
  {
   "cell_type": "code",
   "execution_count": 33,
   "id": "ceb2688e",
   "metadata": {},
   "outputs": [
    {
     "data": {
      "text/plain": [
       "custateomer                   object\n",
       "state                         object\n",
       "gender                        object\n",
       "education                     object\n",
       "custateomer_lifetime_value     int64\n",
       "income                         int64\n",
       "monthly_premium_auto           int64\n",
       "number_of_open_complaints      int64\n",
       "policy_type                   object\n",
       "vehicle_class                 object\n",
       "total_claim_amount             int64\n",
       "dtype: object"
      ]
     },
     "execution_count": 33,
     "metadata": {},
     "output_type": "execute_result"
    }
   ],
   "source": [
    "# After formatting data types, as a last step, convert all the numeric variables to integers using applymap()\n",
    "def convert_to_integer(x):\n",
    "    try:\n",
    "        return int(x)\n",
    "    except (ValueError, TypeError):\n",
    "        return x\n",
    "data = data.applymap(convert_to_integer)\n",
    "data.dtypes"
   ]
  },
  {
   "cell_type": "markdown",
   "id": "98416351-e999-4156-9834-9b00a311adfa",
   "metadata": {
    "id": "98416351-e999-4156-9834-9b00a311adfa"
   },
   "source": [
    "## Exercise 5: Dealing with duplicates"
   ]
  },
  {
   "cell_type": "markdown",
   "id": "ea0816a7-a18e-4d4c-b667-a8452a800bd1",
   "metadata": {
    "id": "ea0816a7-a18e-4d4c-b667-a8452a800bd1"
   },
   "source": [
    "Use the `.duplicated()` method to identify any duplicate rows in the dataframe.\n",
    "\n",
    "Decide on a strategy for handling the duplicates. Options include:\n",
    "- Dropping all duplicate rows\n",
    "- Keeping only the first occurrence of each duplicated row\n",
    "- Keeping only the last occurrence of each duplicated row\n",
    "- Dropping duplicates based on a subset of columns\n",
    "- Dropping duplicates based on a specific column\n",
    "\n",
    "Implement your chosen strategy using the `drop_duplicates()` function.\n",
    "\n",
    "Verify that your strategy has successfully handled the duplicates by checking for duplicates again using `.duplicated()`.\n",
    "\n",
    "Remember to document your process and explain your reasoning for choosing a particular strategy for handling duplicates.\n",
    "\n",
    "Save the cleaned dataset to a new CSV file.\n",
    "\n",
    "*Hint*: *after dropping duplicates, reset the index to ensure consistency*."
   ]
  },
  {
   "cell_type": "code",
   "execution_count": 34,
   "id": "1929362c-47ed-47cb-baca-358b78d401a0",
   "metadata": {
    "id": "1929362c-47ed-47cb-baca-358b78d401a0"
   },
   "outputs": [
    {
     "name": "stdout",
     "output_type": "stream",
     "text": [
      "0       False\n",
      "1       False\n",
      "2       False\n",
      "3       False\n",
      "4       False\n",
      "        ...  \n",
      "4003     True\n",
      "4004     True\n",
      "4005     True\n",
      "4006     True\n",
      "4007     True\n",
      "Length: 4008, dtype: bool\n"
     ]
    }
   ],
   "source": [
    "# Your code here\n",
    "duplicate_rows = data.duplicated()\n",
    "print(duplicate_rows)"
   ]
  },
  {
   "cell_type": "code",
   "execution_count": 35,
   "id": "aa822754",
   "metadata": {},
   "outputs": [
    {
     "name": "stdout",
     "output_type": "stream",
     "text": [
      "(1072, 11)\n"
     ]
    }
   ],
   "source": [
    "# Drop all duplicate rows and keep the first occurrence\n",
    "data = data.drop_duplicates()\n",
    "print(data.shape)"
   ]
  },
  {
   "cell_type": "code",
   "execution_count": 36,
   "id": "39a674ae",
   "metadata": {},
   "outputs": [
    {
     "name": "stdout",
     "output_type": "stream",
     "text": [
      "<bound method NDFrame.to_csv of      custateomer       state gender             education  \\\n",
      "0        RB50392  Washington    NaN                Master   \n",
      "1        QZ44356     Arizona      F              Bachelor   \n",
      "2        AI49188      Nevada      F              Bachelor   \n",
      "3        WW63253  California      M              Bachelor   \n",
      "4        GA49547  Washington      M  High School or Below   \n",
      "...          ...         ...    ...                   ...   \n",
      "1067     VJ51327  California      F  High School or Below   \n",
      "1068     GS98873     Arizona      F              Bachelor   \n",
      "1069     CW49887  California      F                Master   \n",
      "1070     MY31220  California      F               College   \n",
      "1071         NaN         NaN    NaN                   NaN   \n",
      "\n",
      "      custateomer_lifetime_value  income  monthly_premium_auto  \\\n",
      "0                         793690       0                  1000   \n",
      "1                         697953       0                    94   \n",
      "2                        1288743   48767                   108   \n",
      "3                         764586       0                   106   \n",
      "4                         536307   36357                    68   \n",
      "...                          ...     ...                   ...   \n",
      "1067                     2031499   63209                   102   \n",
      "1068                      323912   16061                    88   \n",
      "1069                      462680   79487                   114   \n",
      "1070                      899704   54230                   112   \n",
      "1071                      793690   39295                   193   \n",
      "\n",
      "      number_of_open_complaints     policy_type  vehicle_class  \\\n",
      "0                             0   Personal Auto  Four-Door Car   \n",
      "1                             0   Personal Auto  Four-Door Car   \n",
      "2                             0   Personal Auto   Two-Door Car   \n",
      "3                             0  Corporate Auto            SUV   \n",
      "4                             0   Personal Auto  Four-Door Car   \n",
      "...                         ...             ...            ...   \n",
      "1067                          2   Personal Auto            SUV   \n",
      "1068                          0   Personal Auto  Four-Door Car   \n",
      "1069                          0    Special Auto            SUV   \n",
      "1070                          0   Personal Auto   Two-Door Car   \n",
      "1071                          0             NaN            NaN   \n",
      "\n",
      "      total_claim_amount  \n",
      "0                      2  \n",
      "1                   1131  \n",
      "2                    566  \n",
      "3                    529  \n",
      "4                     17  \n",
      "...                  ...  \n",
      "1067                 207  \n",
      "1068                 633  \n",
      "1069                 547  \n",
      "1070                 537  \n",
      "1071                 404  \n",
      "\n",
      "[1072 rows x 11 columns]>\n"
     ]
    }
   ],
   "source": [
    "data.to_csv('cleaned_data.csv', index=False)\n",
    "print(data.to_csv)"
   ]
  },
  {
   "cell_type": "markdown",
   "id": "6600ab61",
   "metadata": {},
   "source": [
    "# lab | customer-analysis-round-3"
   ]
  },
  {
   "cell_type": "markdown",
   "id": "b6d9b044",
   "metadata": {},
   "source": [
    "Show DataFrame info.\n",
    "Describe DataFrame.\n",
    "Show a plot of the Gender breakdown.\n",
    "Show a plot of Income by State.\n",
    "Show a plot of the Policy Type by the Total Claim Amount.\n",
    "Show a plot of the Education by Vehicle Class.\n",
    "What insights can you establish from these plots?\n",
    "What other plots do you feel would be beneficial?"
   ]
  },
  {
   "cell_type": "code",
   "execution_count": 37,
   "id": "f4042c4c",
   "metadata": {},
   "outputs": [
    {
     "name": "stdout",
     "output_type": "stream",
     "text": [
      "<class 'pandas.core.frame.DataFrame'>\n",
      "Int64Index: 1072 entries, 0 to 1071\n",
      "Data columns (total 11 columns):\n",
      " #   Column                      Non-Null Count  Dtype \n",
      "---  ------                      --------------  ----- \n",
      " 0   custateomer                 1071 non-null   object\n",
      " 1   state                       1071 non-null   object\n",
      " 2   gender                      954 non-null    object\n",
      " 3   education                   1071 non-null   object\n",
      " 4   custateomer_lifetime_value  1072 non-null   int64 \n",
      " 5   income                      1072 non-null   int64 \n",
      " 6   monthly_premium_auto        1072 non-null   int64 \n",
      " 7   number_of_open_complaints   1072 non-null   int64 \n",
      " 8   policy_type                 1071 non-null   object\n",
      " 9   vehicle_class               1071 non-null   object\n",
      " 10  total_claim_amount          1072 non-null   int64 \n",
      "dtypes: int64(5), object(6)\n",
      "memory usage: 100.5+ KB\n"
     ]
    }
   ],
   "source": [
    "# Show DataFrame info.\n",
    "data.info()"
   ]
  },
  {
   "cell_type": "code",
   "execution_count": 38,
   "id": "82db4e96",
   "metadata": {},
   "outputs": [
    {
     "data": {
      "text/html": [
       "<div>\n",
       "<style scoped>\n",
       "    .dataframe tbody tr th:only-of-type {\n",
       "        vertical-align: middle;\n",
       "    }\n",
       "\n",
       "    .dataframe tbody tr th {\n",
       "        vertical-align: top;\n",
       "    }\n",
       "\n",
       "    .dataframe thead th {\n",
       "        text-align: right;\n",
       "    }\n",
       "</style>\n",
       "<table border=\"1\" class=\"dataframe\">\n",
       "  <thead>\n",
       "    <tr style=\"text-align: right;\">\n",
       "      <th></th>\n",
       "      <th>custateomer_lifetime_value</th>\n",
       "      <th>income</th>\n",
       "      <th>monthly_premium_auto</th>\n",
       "      <th>number_of_open_complaints</th>\n",
       "      <th>total_claim_amount</th>\n",
       "    </tr>\n",
       "  </thead>\n",
       "  <tbody>\n",
       "    <tr>\n",
       "      <th>count</th>\n",
       "      <td>1.072000e+03</td>\n",
       "      <td>1072.000000</td>\n",
       "      <td>1072.000000</td>\n",
       "      <td>1072.000000</td>\n",
       "      <td>1072.000000</td>\n",
       "    </tr>\n",
       "    <tr>\n",
       "      <th>mean</th>\n",
       "      <td>7.936898e+05</td>\n",
       "      <td>39295.700560</td>\n",
       "      <td>193.234142</td>\n",
       "      <td>0.393657</td>\n",
       "      <td>404.527985</td>\n",
       "    </tr>\n",
       "    <tr>\n",
       "      <th>std</th>\n",
       "      <td>6.422756e+05</td>\n",
       "      <td>30455.198983</td>\n",
       "      <td>1600.442673</td>\n",
       "      <td>0.883439</td>\n",
       "      <td>292.905011</td>\n",
       "    </tr>\n",
       "    <tr>\n",
       "      <th>min</th>\n",
       "      <td>2.004350e+05</td>\n",
       "      <td>0.000000</td>\n",
       "      <td>61.000000</td>\n",
       "      <td>0.000000</td>\n",
       "      <td>0.000000</td>\n",
       "    </tr>\n",
       "    <tr>\n",
       "      <th>25%</th>\n",
       "      <td>4.054045e+05</td>\n",
       "      <td>14072.000000</td>\n",
       "      <td>68.000000</td>\n",
       "      <td>0.000000</td>\n",
       "      <td>201.750000</td>\n",
       "    </tr>\n",
       "    <tr>\n",
       "      <th>50%</th>\n",
       "      <td>5.888340e+05</td>\n",
       "      <td>36295.500000</td>\n",
       "      <td>83.000000</td>\n",
       "      <td>0.000000</td>\n",
       "      <td>354.500000</td>\n",
       "    </tr>\n",
       "    <tr>\n",
       "      <th>75%</th>\n",
       "      <td>8.937668e+05</td>\n",
       "      <td>64625.500000</td>\n",
       "      <td>110.000000</td>\n",
       "      <td>0.000000</td>\n",
       "      <td>532.000000</td>\n",
       "    </tr>\n",
       "    <tr>\n",
       "      <th>max</th>\n",
       "      <td>5.816655e+06</td>\n",
       "      <td>99960.000000</td>\n",
       "      <td>35354.000000</td>\n",
       "      <td>5.000000</td>\n",
       "      <td>2893.000000</td>\n",
       "    </tr>\n",
       "  </tbody>\n",
       "</table>\n",
       "</div>"
      ],
      "text/plain": [
       "       custateomer_lifetime_value        income  monthly_premium_auto  \\\n",
       "count                1.072000e+03   1072.000000           1072.000000   \n",
       "mean                 7.936898e+05  39295.700560            193.234142   \n",
       "std                  6.422756e+05  30455.198983           1600.442673   \n",
       "min                  2.004350e+05      0.000000             61.000000   \n",
       "25%                  4.054045e+05  14072.000000             68.000000   \n",
       "50%                  5.888340e+05  36295.500000             83.000000   \n",
       "75%                  8.937668e+05  64625.500000            110.000000   \n",
       "max                  5.816655e+06  99960.000000          35354.000000   \n",
       "\n",
       "       number_of_open_complaints  total_claim_amount  \n",
       "count                1072.000000         1072.000000  \n",
       "mean                    0.393657          404.527985  \n",
       "std                     0.883439          292.905011  \n",
       "min                     0.000000            0.000000  \n",
       "25%                     0.000000          201.750000  \n",
       "50%                     0.000000          354.500000  \n",
       "75%                     0.000000          532.000000  \n",
       "max                     5.000000         2893.000000  "
      ]
     },
     "execution_count": 38,
     "metadata": {},
     "output_type": "execute_result"
    }
   ],
   "source": [
    "# Describe DataFrame.\n",
    "data.describe()"
   ]
  },
  {
   "cell_type": "code",
   "execution_count": 39,
   "id": "5c050a90",
   "metadata": {},
   "outputs": [],
   "source": [
    "# Show a plot of the Gender breakdown.\n",
    "import matplotlib.pyplot as plt\n",
    "import seaborn as sns\n",
    "from scipy import stats"
   ]
  },
  {
   "cell_type": "code",
   "execution_count": 40,
   "id": "82a7d365",
   "metadata": {},
   "outputs": [
    {
     "name": "stdout",
     "output_type": "stream",
     "text": [
      "Index(['custateomer', 'state', 'gender', 'education',\n",
      "       'custateomer_lifetime_value', 'income', 'monthly_premium_auto',\n",
      "       'number_of_open_complaints', 'policy_type', 'vehicle_class',\n",
      "       'total_claim_amount'],\n",
      "      dtype='object')\n"
     ]
    }
   ],
   "source": [
    "print(data.columns)"
   ]
  },
  {
   "cell_type": "code",
   "execution_count": 41,
   "id": "ea760725",
   "metadata": {},
   "outputs": [
    {
     "data": {
      "image/png": "[encoded data removed]",
      "text/plain": [
       "<Figure size 432x288 with 1 Axes>"
      ]
     },
     "metadata": {
      "needs_background": "light"
     },
     "output_type": "display_data"
    }
   ],
   "source": [
    "gender_counts = data['gender'].value_counts()\n",
    "gender_counts.plot(kind='bar')\n",
    "plt.title('gender Distribution')\n",
    "plt.xlabel('gender')\n",
    "plt.ylabel('Count')\n",
    "plt.show()"
   ]
  },
  {
   "cell_type": "code",
   "execution_count": 42,
   "id": "6300413e",
   "metadata": {},
   "outputs": [
    {
     "name": "stdout",
     "output_type": "stream",
     "text": [
      "F    502\n",
      "M    452\n",
      "Name: gender, dtype: int64\n"
     ]
    }
   ],
   "source": [
    "gender_counts = data['gender'].value_counts()\n",
    "print(gender_counts)"
   ]
  },
  {
   "cell_type": "code",
   "execution_count": 43,
   "id": "fa311e39",
   "metadata": {},
   "outputs": [
    {
     "data": {
      "image/png": "[encoded data removed]",
      "text/plain": [
       "<Figure size 432x288 with 1 Axes>"
      ]
     },
     "metadata": {
      "needs_background": "light"
     },
     "output_type": "display_data"
    }
   ],
   "source": [
    "# Show a plot of Income by State.\n",
    "sns.barplot(x=\"state\", y=\"income\", data=data)\n",
    "plt.show()"
   ]
  },
  {
   "cell_type": "code",
   "execution_count": 44,
   "id": "0e1ed016",
   "metadata": {},
   "outputs": [
    {
     "data": {
      "image/png": "[encoded data removed]",
      "text/plain": [
       "<Figure size 432x288 with 1 Axes>"
      ]
     },
     "metadata": {
      "needs_background": "light"
     },
     "output_type": "display_data"
    }
   ],
   "source": [
    "# Show a plot of the Policy Type by the Total Claim Amount.\n",
    "sns.barplot(x=\"policy_type\", y=\"total_claim_amount\", data=data)\n",
    "plt.show()"
   ]
  },
  {
   "cell_type": "code",
   "execution_count": 45,
   "id": "6f1906ed",
   "metadata": {},
   "outputs": [
    {
     "name": "stdout",
     "output_type": "stream",
     "text": [
      "Index(['custateomer', 'state', 'gender', 'education',\n",
      "       'custateomer_lifetime_value', 'income', 'monthly_premium_auto',\n",
      "       'number_of_open_complaints', 'policy_type', 'vehicle_class',\n",
      "       'total_claim_amount'],\n",
      "      dtype='object')\n"
     ]
    }
   ],
   "source": [
    "print(data.columns)"
   ]
  },
  {
   "cell_type": "code",
   "execution_count": 46,
   "id": "0e805d48",
   "metadata": {},
   "outputs": [
    {
     "data": {
      "text/plain": [
       "array(['Master', 'Bachelor', 'High School or Below', 'College', 'Doctor',\n",
       "       nan], dtype=object)"
      ]
     },
     "execution_count": 46,
     "metadata": {},
     "output_type": "execute_result"
    }
   ],
   "source": [
    "data['education'].unique()"
   ]
  },
  {
   "cell_type": "code",
   "execution_count": 47,
   "id": "994cd884",
   "metadata": {},
   "outputs": [
    {
     "data": {
      "text/plain": [
       "array(['Four-Door Car', 'Two-Door Car', 'SUV', 'Luxury', nan],\n",
       "      dtype=object)"
      ]
     },
     "execution_count": 47,
     "metadata": {},
     "output_type": "execute_result"
    }
   ],
   "source": [
    "data['vehicle_class'].unique()"
   ]
  },
  {
   "cell_type": "code",
   "execution_count": 48,
   "id": "168a82fc",
   "metadata": {},
   "outputs": [
    {
     "data": {
      "image/png": "[encoded data removed]",
      "text/plain": [
       "<Figure size 432x288 with 1 Axes>"
      ]
     },
     "metadata": {
      "needs_background": "light"
     },
     "output_type": "display_data"
    }
   ],
   "source": [
    "# Show a plot of the Education by Vehicle Class. \n",
    "sns.countplot(x='education', hue='vehicle_class', data=data)\n",
    "\n",
    "# Set labels and title\n",
    "plt.xlabel(\"Education\")\n",
    "plt.ylabel(\"Count\")\n",
    "plt.title(\"Education by Vehicle Class\")\n",
    "\n",
    "# Rotate x-axis labels for better readability (optional)\n",
    "plt.xticks(rotation=45)\n",
    "\n",
    "# Show the plot\n",
    "plt.show()"
   ]
  },
  {
   "cell_type": "markdown",
   "id": "c2f67836",
   "metadata": {},
   "source": [
    "### What insights can you establish from these plots? What other plots do you feel would be beneficial?\n",
    "* Clients are more female than male\n",
    "* Washington customers have the highest incomes \n",
    "* Personal and corporate auto policies have more claims than specialty auto policies.\n",
    "* Education does not seem to affect the vehicle class of customers."
   ]
  },
  {
   "cell_type": "markdown",
   "id": "60840701-4783-40e2-b4d8-55303f9100c9",
   "metadata": {
    "id": "60840701-4783-40e2-b4d8-55303f9100c9"
   },
   "source": [
    "# Bonus: Challenge 2: creating functions on a separate `py` file"
   ]
  },
  {
   "cell_type": "markdown",
   "id": "9d1adb3a-17cf-4899-8041-da21a4337fb4",
   "metadata": {
    "id": "9d1adb3a-17cf-4899-8041-da21a4337fb4"
   },
   "source": [
    "Put all the data cleaning and formatting steps into functions, and create a main function that performs all the cleaning and formatting.\n",
    "\n",
    "Write these functions in separate .py file(s). By putting these steps into functions, we can make the code more modular and easier to maintain."
   ]
  },
  {
   "cell_type": "markdown",
   "id": "0e170dc2-b62c-417a-8248-e63ed18a70c4",
   "metadata": {
    "id": "0e170dc2-b62c-417a-8248-e63ed18a70c4"
   },
   "source": [
    "*Hint: autoreload module is a utility module in Python that allows you to automatically reload modules in the current session when changes are made to the source code. This can be useful in situations where you are actively developing code and want to see the effects of changes you make without having to constantly restart the Python interpreter or Jupyter Notebook kernel.*"
   ]
  },
  {
   "cell_type": "code",
   "execution_count": 49,
   "id": "a52c6dfc-cd11-4d01-bda4-f719fa33e9a4",
   "metadata": {
    "id": "a52c6dfc-cd11-4d01-bda4-f719fa33e9a4"
   },
   "outputs": [],
   "source": [
    "# Your code here"
   ]
  },
  {
   "cell_type": "markdown",
   "id": "80f846bb-3f5e-4ca2-96c0-900728daca5a",
   "metadata": {
    "id": "80f846bb-3f5e-4ca2-96c0-900728daca5a",
    "tags": []
   },
   "source": [
    "# Bonus: Challenge 3: Analyzing Clean and Formated Data"
   ]
  },
  {
   "cell_type": "markdown",
   "id": "9021630e-cc90-446c-b5bd-264d6c864207",
   "metadata": {
    "id": "9021630e-cc90-446c-b5bd-264d6c864207"
   },
   "source": [
    "You have been tasked with analyzing the data to identify potential areas for improving customer retention and profitability. Your goal is to identify customers with a high policy claim amount and a low customer lifetime value.\n",
    "\n",
    "In the Pandas Lab, we only looked at high policy claim amounts because we couldn't look into low customer lifetime values. If we had tried to work with that column, we wouldn't have been able to because customer lifetime value wasn't clean and in its proper format. So after cleaning and formatting the data, let's get some more interesting insights!\n",
    "\n",
    "Instructions:\n",
    "\n",
    "- Review the statistics again for total claim amount and customer lifetime value to gain an understanding of the data.\n",
    "- To identify potential areas for improving customer retention and profitability, we want to focus on customers with a high policy claim amount and a low customer lifetime value. Consider customers with a high policy claim amount to be those in the top 25% of the total claim amount, and clients with a low customer lifetime value to be those in the bottom 25% of the customer lifetime value. Create a pandas DataFrame object that contains information about customers with a policy claim amount greater than the 75th percentile and a customer lifetime value in the bottom 25th percentile.\n",
    "- Use DataFrame methods to calculate summary statistics about the high policy claim amount and low customer lifetime value data. To do so, select both columns of the dataframe simultaneously and pass it to the `.describe()` method. This will give you descriptive statistics, such as mean, median, standard deviation, minimum and maximum values for both columns at the same time, allowing you to compare and analyze their characteristics."
   ]
  },
  {
   "cell_type": "markdown",
   "id": "865f6dd0",
   "metadata": {},
   "source": [
    "# lab | customer-analysis-round-4"
   ]
  },
  {
   "cell_type": "markdown",
   "id": "62f02cd5",
   "metadata": {},
   "source": [
    "* Check the data types of the columns. Get the numeric data into a dataframe called numerical and categorical columns in a dataframe called categorical. (You can use np.number and object to select the numerical data types and categorical data types respectively)\n",
    "\n",
    "* Now we will try to check the normality of the numerical variables visually\n",
    "    * Use seaborn library to construct distribution plots for the numerical variables\n",
    "    * Use Matplotlib to construct histograms\n",
    "    * Do the distributions for different numerical variables look like a normal distribution?\n",
    "* For the numerical variables, check the multicollinearity between the features. Please note that we will use the column total_claim_amount later as the target variable.\n",
    "* Drop one of the two features that show a high correlation between them (greater than 0.9). Write code for both the correlation matrix and for seaborn heatmap. If there is no pair of features that have a high correlation, then do not drop any features"
   ]
  },
  {
   "cell_type": "code",
   "execution_count": 50,
   "id": "bc205b62",
   "metadata": {},
   "outputs": [
    {
     "data": {
      "text/plain": [
       "Index(['custateomer', 'state', 'gender', 'education',\n",
       "       'custateomer_lifetime_value', 'income', 'monthly_premium_auto',\n",
       "       'number_of_open_complaints', 'policy_type', 'vehicle_class',\n",
       "       'total_claim_amount'],\n",
       "      dtype='object')"
      ]
     },
     "execution_count": 50,
     "metadata": {},
     "output_type": "execute_result"
    }
   ],
   "source": [
    "# Your code here\n",
    "from scipy.stats import shapiro\n",
    "from sklearn.preprocessing import MinMaxScaler # do not use the function Normalise() - it does something entirely different\n",
    "from sklearn.preprocessing import StandardScaler\n",
    "\n",
    "# Check the data types of the columns. \n",
    "# Get the numeric data into a dataframe called numerical and categorical columns in a dataframe called categorical.\n",
    "# (You can use np.number and object to select the numerical data types and categorical data types respectively)\n",
    "data.columns"
   ]
  },
  {
   "cell_type": "code",
   "execution_count": 51,
   "id": "5d80dfc2",
   "metadata": {},
   "outputs": [
    {
     "data": {
      "text/plain": [
       "Index(['custateomer_lifetime_value', 'income', 'monthly_premium_auto',\n",
       "       'number_of_open_complaints', 'total_claim_amount'],\n",
       "      dtype='object')"
      ]
     },
     "execution_count": 51,
     "metadata": {},
     "output_type": "execute_result"
    }
   ],
   "source": [
    "numerical=data.select_dtypes('number')#.columns\n",
    "numerical.columns"
   ]
  },
  {
   "cell_type": "code",
   "execution_count": 52,
   "id": "107ad249",
   "metadata": {},
   "outputs": [
    {
     "data": {
      "text/plain": [
       "custateomer_lifetime_value    int64\n",
       "income                        int64\n",
       "monthly_premium_auto          int64\n",
       "number_of_open_complaints     int64\n",
       "total_claim_amount            int64\n",
       "dtype: object"
      ]
     },
     "execution_count": 52,
     "metadata": {},
     "output_type": "execute_result"
    }
   ],
   "source": [
    "numerical.dtypes"
   ]
  },
  {
   "cell_type": "code",
   "execution_count": 53,
   "id": "19288dac",
   "metadata": {
    "scrolled": false
   },
   "outputs": [],
   "source": [
    "# Now we will try to check the normality of the numerical variables visually\n",
    "# Use seaborn library to construct distribution plots for the numerical variables\n",
    "# Use Matplotlib to construct histograms"
   ]
  },
  {
   "cell_type": "code",
   "execution_count": 54,
   "id": "f53edcdb",
   "metadata": {},
   "outputs": [
    {
     "data": {
      "image/png": "[encoded data removed]",
      "text/plain": [
       "<Figure size 432x288 with 1 Axes>"
      ]
     },
     "metadata": {
      "needs_background": "light"
     },
     "output_type": "display_data"
    }
   ],
   "source": [
    "sns.histplot(data['custateomer_lifetime_value'], kde=True)\n",
    "plt.show()"
   ]
  },
  {
   "cell_type": "code",
   "execution_count": 55,
   "id": "d97e1bfc",
   "metadata": {},
   "outputs": [
    {
     "name": "stdout",
     "output_type": "stream",
     "text": [
      "The data does not appear to be normally distributed (p=0.0000)\n",
      "shapiro p_value = 4.709467063321273e-38\n"
     ]
    }
   ],
   "source": [
    "column_data = data['custateomer_lifetime_value']\n",
    "stat, p = shapiro(column_data)\n",
    "\n",
    "alpha = 0.05  # significance level\n",
    "if p > alpha:\n",
    "    print(f\"The data appears to be normally distributed (p={p:.4f})\")\n",
    "else:\n",
    "    print(f\"The data does not appear to be normally distributed (p={p:.4f})\")\n",
    "print(\"shapiro p_value =\",p)"
   ]
  },
  {
   "cell_type": "code",
   "execution_count": 56,
   "id": "5838b526",
   "metadata": {},
   "outputs": [
    {
     "data": {
      "image/png": "[encoded data removed]",
      "text/plain": [
       "<Figure size 432x288 with 1 Axes>"
      ]
     },
     "metadata": {
      "needs_background": "light"
     },
     "output_type": "display_data"
    }
   ],
   "source": [
    "sns.histplot(data['income'], kde=True)\n",
    "plt.show()"
   ]
  },
  {
   "cell_type": "code",
   "execution_count": 57,
   "id": "ef2709a1",
   "metadata": {},
   "outputs": [
    {
     "name": "stdout",
     "output_type": "stream",
     "text": [
      "The data does not appear to be normally distributed (p=0.0000)\n",
      "shapiro p_value = 2.489192147609044e-22\n"
     ]
    }
   ],
   "source": [
    "column_data = data['income']\n",
    "stat, p = shapiro(column_data)\n",
    "\n",
    "alpha = 0.05  # significance level\n",
    "if p > alpha:\n",
    "    print(f\"The data appears to be normally distributed (p={p:.4f})\")\n",
    "else:\n",
    "    print(f\"The data does not appear to be normally distributed (p={p:.4f})\")\n",
    "print(\"shapiro p_value =\",p)"
   ]
  },
  {
   "cell_type": "code",
   "execution_count": 58,
   "id": "af72d61a",
   "metadata": {},
   "outputs": [
    {
     "data": {
      "image/png": "[encoded data removed]",
      "text/plain": [
       "<Figure size 432x288 with 1 Axes>"
      ]
     },
     "metadata": {
      "needs_background": "light"
     },
     "output_type": "display_data"
    }
   ],
   "source": [
    "sns.histplot(data['monthly_premium_auto'], kde=True)\n",
    "plt.show()"
   ]
  },
  {
   "cell_type": "code",
   "execution_count": 85,
   "id": "e03d002b",
   "metadata": {},
   "outputs": [
    {
     "name": "stdout",
     "output_type": "stream",
     "text": [
      "count     1072.000000\n",
      "mean       193.234142\n",
      "std       1600.442673\n",
      "min         61.000000\n",
      "25%         68.000000\n",
      "50%         83.000000\n",
      "75%        110.000000\n",
      "max      35354.000000\n",
      "Name: monthly_premium_auto, dtype: float64\n"
     ]
    }
   ],
   "source": [
    "values_series = data['monthly_premium_auto'].describe()\n",
    "print(values_series)"
   ]
  },
  {
   "cell_type": "code",
   "execution_count": 86,
   "id": "5069e70d",
   "metadata": {},
   "outputs": [
    {
     "data": {
      "text/plain": [
       "pandas.core.series.Series"
      ]
     },
     "execution_count": 86,
     "metadata": {},
     "output_type": "execute_result"
    }
   ],
   "source": [
    "type(values_series)"
   ]
  },
  {
   "cell_type": "code",
   "execution_count": 87,
   "id": "aa9275d1",
   "metadata": {},
   "outputs": [
    {
     "data": {
      "text/plain": [
       "array([   61,    62,    63,    64,    65,    66,    67,    68,    69,\n",
       "          70,    71,    72,    73,    74,    76,    77,    78,    79,\n",
       "          80,    81,    82,    83,    84,    85,    86,    87,    88,\n",
       "          89,    90,    91,    92,    93,    94,    95,    96,    97,\n",
       "          98,    99,   100,   101,   102,   103,   104,   105,   106,\n",
       "         107,   108,   109,   110,   111,   112,   113,   114,   115,\n",
       "         116,   117,   118,   119,   121,   123,   124,   125,   126,\n",
       "         127,   128,   129,   130,   131,   132,   133,   134,   135,\n",
       "         136,   137,   138,   139,   140,   141,   142,   147,   148,\n",
       "         150,   152,   153,   154,   156,   159,   160,   161,   165,\n",
       "         171,   172,   173,   176,   177,   180,   181,   182,   183,\n",
       "         186,   188,   189,   190,   192,   193,   196,   197,   198,\n",
       "         199,   203,   206,   210,   217,   225,   230,   237,   239,\n",
       "         244,   245,   253,   255,   256,   271,   276,   285,   295,\n",
       "        1000,  1005,  6464, 10202, 35353, 35354], dtype=int64)"
      ]
     },
     "execution_count": 87,
     "metadata": {},
     "output_type": "execute_result"
    }
   ],
   "source": [
    "data1 = data.sort_values(by='monthly_premium_auto', ascending=True)\n",
    "data1['monthly_premium_auto'].unique()"
   ]
  },
  {
   "cell_type": "code",
   "execution_count": 88,
   "id": "dd34df0d",
   "metadata": {},
   "outputs": [
    {
     "name": "stdout",
     "output_type": "stream",
     "text": [
      "65       47\n",
      "63       39\n",
      "67       37\n",
      "71       37\n",
      "73       37\n",
      "         ..\n",
      "180       1\n",
      "181       1\n",
      "186       1\n",
      "190       1\n",
      "35354     1\n",
      "Name: monthly_premium_auto, Length: 132, dtype: int64\n"
     ]
    }
   ],
   "source": [
    "print(data1['monthly_premium_auto'].value_counts(dropna=False))"
   ]
  },
  {
   "cell_type": "code",
   "execution_count": 89,
   "id": "693443fc",
   "metadata": {},
   "outputs": [
    {
     "name": "stdout",
     "output_type": "stream",
     "text": [
      "The data does not appear to be normally distributed (p=0.0000)\n",
      "shapiro p_value = 0.0\n"
     ]
    }
   ],
   "source": [
    "column_data = data['monthly_premium_auto']\n",
    "stat, p = shapiro(column_data)\n",
    "\n",
    "alpha = 0.05  # significance level\n",
    "if p > alpha:\n",
    "    print(f\"The data appears to be normally distributed (p={p:.4f})\")\n",
    "else:\n",
    "    print(f\"The data does not appear to be normally distributed (p={p:.4f})\")\n",
    "print(\"shapiro p_value =\",p)"
   ]
  },
  {
   "cell_type": "code",
   "execution_count": 90,
   "id": "8fb6261d",
   "metadata": {},
   "outputs": [
    {
     "data": {
      "image/png": "[encoded data removed]",
      "text/plain": [
       "<Figure size 432x288 with 1 Axes>"
      ]
     },
     "metadata": {
      "needs_background": "light"
     },
     "output_type": "display_data"
    }
   ],
   "source": [
    "sns.histplot(data['number_of_open_complaints'], kde=True)\n",
    "plt.show()"
   ]
  },
  {
   "cell_type": "code",
   "execution_count": 91,
   "id": "0b4eac22",
   "metadata": {},
   "outputs": [
    {
     "name": "stdout",
     "output_type": "stream",
     "text": [
      "The data does not appear to be normally distributed (p=0.0000)\n",
      "shapiro p_value = 0.0\n"
     ]
    }
   ],
   "source": [
    "column_data = data['number_of_open_complaints']\n",
    "stat, p = shapiro(column_data)\n",
    "\n",
    "alpha = 0.05  # significance level\n",
    "if p > alpha:\n",
    "    print(f\"The data appears to be normally distributed (p={p:.4f})\")\n",
    "else:\n",
    "    print(f\"The data does not appear to be normally distributed (p={p:.4f})\")\n",
    "print(\"shapiro p_value =\",p)"
   ]
  },
  {
   "cell_type": "code",
   "execution_count": 60,
   "id": "04e85ef2",
   "metadata": {},
   "outputs": [
    {
     "data": {
      "image/png": "[encoded data removed]",
      "text/plain": [
       "<Figure size 432x288 with 1 Axes>"
      ]
     },
     "metadata": {
      "needs_background": "light"
     },
     "output_type": "display_data"
    }
   ],
   "source": [
    "sns.histplot(data['total_claim_amount'], kde=True)\n",
    "plt.show()"
   ]
  },
  {
   "cell_type": "code",
   "execution_count": 61,
   "id": "3c18e9ad",
   "metadata": {},
   "outputs": [
    {
     "name": "stdout",
     "output_type": "stream",
     "text": [
      "The data does not appear to be normally distributed (p=0.0000)\n",
      "shapiro p_value = 1.0594002326654728e-27\n"
     ]
    }
   ],
   "source": [
    "column_data = data['total_claim_amount']\n",
    "stat, p = shapiro(column_data)\n",
    "\n",
    "alpha = 0.05  # significance level\n",
    "if p > alpha:\n",
    "    print(f\"The data appears to be normally distributed (p={p:.4f})\")\n",
    "else:\n",
    "    print(f\"The data does not appear to be normally distributed (p={p:.4f})\")\n",
    "print(\"shapiro p_value =\",p)"
   ]
  },
  {
   "cell_type": "code",
   "execution_count": 62,
   "id": "10ffb37a",
   "metadata": {},
   "outputs": [
    {
     "data": {
      "text/plain": [
       "404.5279850746269"
      ]
     },
     "execution_count": 62,
     "metadata": {},
     "output_type": "execute_result"
    }
   ],
   "source": [
    "mea=data['total_claim_amount'].mean()\n",
    "mea"
   ]
  },
  {
   "cell_type": "code",
   "execution_count": 63,
   "id": "48da1872",
   "metadata": {},
   "outputs": [],
   "source": [
    "# Do the distributions for different numerical variables look like a normal distribution?\n",
    "# No, for all of the columns the data does not appear to be normally distributed (p=0.0000)"
   ]
  },
  {
   "cell_type": "code",
   "execution_count": 64,
   "id": "3864d8a0",
   "metadata": {},
   "outputs": [
    {
     "data": {
      "image/png": "[encoded data removed]",
      "text/plain": [
       "<Figure size 432x288 with 2 Axes>"
      ]
     },
     "metadata": {
      "needs_background": "light"
     },
     "output_type": "display_data"
    }
   ],
   "source": [
    "# For the numerical variables, check the multicollinearity between the features. \n",
    "# Please note that we will use the column total_claim_amount later as the target variable.\n",
    "\n",
    "# Drop one of the two features that show a high correlation between them (greater than 0.9). \n",
    "# Write code for both the correlation matrix and for seaborn heatmap. \n",
    "# If there is no pair of features that have a high correlation, then do not drop any features\n",
    "\n",
    "correlations_matrix = numerical.corr()\n",
    "sns.heatmap(correlations_matrix, annot=True)\n",
    "plt.show()\n",
    "\n",
    "# We can see that there is a very weak positive/negative correlation"
   ]
  },
  {
   "cell_type": "markdown",
   "id": "a21de9a8",
   "metadata": {},
   "source": [
    "# lab | customer-analysis-round-5"
   ]
  },
  {
   "cell_type": "markdown",
   "id": "9ebac519",
   "metadata": {},
   "source": [
    "#### Dealing with the data\n",
    "Already done in the round 2.\n",
    "\n",
    "#### Explore the data\n",
    "Done in the round 3.\n",
    "\n",
    "#### Processing Data\n",
    "(Further processing...)\n",
    "\n",
    "* X-y split.\n",
    "* Scaling (numerical)."
   ]
  },
  {
   "cell_type": "markdown",
   "id": "d37795cb",
   "metadata": {},
   "source": [
    "# X-y split."
   ]
  },
  {
   "cell_type": "code",
   "execution_count": 65,
   "id": "11807c86",
   "metadata": {},
   "outputs": [
    {
     "data": {
      "text/plain": [
       "Index(['custateomer_lifetime_value', 'income', 'monthly_premium_auto',\n",
       "       'number_of_open_complaints', 'total_claim_amount'],\n",
       "      dtype='object')"
      ]
     },
     "execution_count": 65,
     "metadata": {},
     "output_type": "execute_result"
    }
   ],
   "source": [
    "from sklearn import linear_model\n",
    "import time\n",
    "from sklearn.metrics import mean_squared_error, r2_score\n",
    "\n",
    "numerical=data.select_dtypes('number')#.columns\n",
    "numerical.columns"
   ]
  },
  {
   "cell_type": "code",
   "execution_count": 66,
   "id": "45f76b59",
   "metadata": {},
   "outputs": [
    {
     "data": {
      "image/png": "[encoded data removed]",
      "text/plain": [
       "<Figure size 432x288 with 1 Axes>"
      ]
     },
     "metadata": {
      "needs_background": "light"
     },
     "output_type": "display_data"
    }
   ],
   "source": [
    "#let's pick the AVGGIFT variable as the one we think is the most explanatory\n",
    "sns.scatterplot(x='income',y='total_claim_amount',data=numerical)\n",
    "plt.show()"
   ]
  },
  {
   "cell_type": "code",
   "execution_count": 67,
   "id": "b21eb24c",
   "metadata": {},
   "outputs": [
    {
     "data": {
      "text/plain": [
       "-0.36129351038340196"
      ]
     },
     "execution_count": 67,
     "metadata": {},
     "output_type": "execute_result"
    }
   ],
   "source": [
    "numerical['income'].corr(numerical['total_claim_amount'])"
   ]
  },
  {
   "cell_type": "code",
   "execution_count": 68,
   "id": "31458e9a",
   "metadata": {},
   "outputs": [],
   "source": [
    "y = numerical['total_claim_amount'] #lower case bc it is what we want to predict"
   ]
  },
  {
   "cell_type": "code",
   "execution_count": 69,
   "id": "5a52a664",
   "metadata": {},
   "outputs": [],
   "source": [
    "X = numerical[['income']]"
   ]
  },
  {
   "cell_type": "code",
   "execution_count": 70,
   "id": "c2b91282",
   "metadata": {},
   "outputs": [
    {
     "name": "stdout",
     "output_type": "stream",
     "text": [
      "b0 =  541.0713361380565\n",
      "b1 =  [-0.00347477]\n"
     ]
    }
   ],
   "source": [
    "# %%time\n",
    "lm = linear_model.LinearRegression()\n",
    "start_time = time.time()\n",
    "lm.fit(X,y) #trainning the model\n",
    "end_time = time.time()\n",
    "print(\"b0 = \" , lm.intercept_) #intersect of the function (donde se cruzan las lineas)\n",
    "print(\"b1 = \" , lm.coef_)"
   ]
  },
  {
   "cell_type": "code",
   "execution_count": 71,
   "id": "b21be739",
   "metadata": {},
   "outputs": [
    {
     "data": {
      "image/png": "[encoded data removed]",
      "text/plain": [
       "<Figure size 432x288 with 1 Axes>"
      ]
     },
     "metadata": {
      "needs_background": "light"
     },
     "output_type": "display_data"
    }
   ],
   "source": [
    "regression_line = lm.intercept_ + lm.coef_[0]*numerical['income']\n",
    "plt.plot(numerical['income'], regression_line, c = 'orange')\n",
    "sns.scatterplot(x='income',y='total_claim_amount',data=numerical)\n",
    "plt.show()"
   ]
  },
  {
   "cell_type": "markdown",
   "id": "f54acbcd",
   "metadata": {},
   "source": [
    "### Scaling (numerical)"
   ]
  },
  {
   "cell_type": "code",
   "execution_count": 93,
   "id": "207bc4c5",
   "metadata": {},
   "outputs": [
    {
     "name": "stdout",
     "output_type": "stream",
     "text": [
      "(1072, 5)\n"
     ]
    },
    {
     "data": {
      "text/html": [
       "<div>\n",
       "<style scoped>\n",
       "    .dataframe tbody tr th:only-of-type {\n",
       "        vertical-align: middle;\n",
       "    }\n",
       "\n",
       "    .dataframe tbody tr th {\n",
       "        vertical-align: top;\n",
       "    }\n",
       "\n",
       "    .dataframe thead th {\n",
       "        text-align: right;\n",
       "    }\n",
       "</style>\n",
       "<table border=\"1\" class=\"dataframe\">\n",
       "  <thead>\n",
       "    <tr style=\"text-align: right;\">\n",
       "      <th></th>\n",
       "      <th>custateomer_lifetime_value</th>\n",
       "      <th>income</th>\n",
       "      <th>monthly_premium_auto</th>\n",
       "      <th>number_of_open_complaints</th>\n",
       "      <th>total_claim_amount</th>\n",
       "    </tr>\n",
       "  </thead>\n",
       "  <tbody>\n",
       "    <tr>\n",
       "      <th>0</th>\n",
       "      <td>3.603613e-07</td>\n",
       "      <td>-1.290881</td>\n",
       "      <td>0.504324</td>\n",
       "      <td>-0.445804</td>\n",
       "      <td>-1.374903</td>\n",
       "    </tr>\n",
       "    <tr>\n",
       "      <th>1</th>\n",
       "      <td>-1.491283e-01</td>\n",
       "      <td>-1.290881</td>\n",
       "      <td>-0.062033</td>\n",
       "      <td>-0.445804</td>\n",
       "      <td>2.481388</td>\n",
       "    </tr>\n",
       "    <tr>\n",
       "      <th>2</th>\n",
       "      <td>7.711398e-01</td>\n",
       "      <td>0.311136</td>\n",
       "      <td>-0.053281</td>\n",
       "      <td>-0.445804</td>\n",
       "      <td>0.551535</td>\n",
       "    </tr>\n",
       "    <tr>\n",
       "      <th>3</th>\n",
       "      <td>-4.533467e-02</td>\n",
       "      <td>-1.290881</td>\n",
       "      <td>-0.054532</td>\n",
       "      <td>-0.445804</td>\n",
       "      <td>0.425155</td>\n",
       "    </tr>\n",
       "    <tr>\n",
       "      <th>4</th>\n",
       "      <td>-4.009227e-01</td>\n",
       "      <td>-0.096538</td>\n",
       "      <td>-0.078286</td>\n",
       "      <td>-0.445804</td>\n",
       "      <td>-1.323668</td>\n",
       "    </tr>\n",
       "    <tr>\n",
       "      <th>...</th>\n",
       "      <td>...</td>\n",
       "      <td>...</td>\n",
       "      <td>...</td>\n",
       "      <td>...</td>\n",
       "      <td>...</td>\n",
       "    </tr>\n",
       "    <tr>\n",
       "      <th>1067</th>\n",
       "      <td>1.928124e+00</td>\n",
       "      <td>0.785562</td>\n",
       "      <td>-0.057032</td>\n",
       "      <td>1.819134</td>\n",
       "      <td>-0.674690</td>\n",
       "    </tr>\n",
       "    <tr>\n",
       "      <th>1068</th>\n",
       "      <td>-7.317684e-01</td>\n",
       "      <td>-0.763270</td>\n",
       "      <td>-0.065784</td>\n",
       "      <td>-0.445804</td>\n",
       "      <td>0.780385</td>\n",
       "    </tr>\n",
       "    <tr>\n",
       "      <th>1069</th>\n",
       "      <td>-5.156108e-01</td>\n",
       "      <td>1.320302</td>\n",
       "      <td>-0.049531</td>\n",
       "      <td>-0.445804</td>\n",
       "      <td>0.486637</td>\n",
       "    </tr>\n",
       "    <tr>\n",
       "      <th>1070</th>\n",
       "      <td>1.651374e-01</td>\n",
       "      <td>0.490598</td>\n",
       "      <td>-0.050781</td>\n",
       "      <td>-0.445804</td>\n",
       "      <td>0.452481</td>\n",
       "    </tr>\n",
       "    <tr>\n",
       "      <th>1071</th>\n",
       "      <td>3.603613e-07</td>\n",
       "      <td>-0.000023</td>\n",
       "      <td>-0.000146</td>\n",
       "      <td>-0.445804</td>\n",
       "      <td>-0.001803</td>\n",
       "    </tr>\n",
       "  </tbody>\n",
       "</table>\n",
       "<p>1072 rows × 5 columns</p>\n",
       "</div>"
      ],
      "text/plain": [
       "      custateomer_lifetime_value    income  monthly_premium_auto  \\\n",
       "0                   3.603613e-07 -1.290881              0.504324   \n",
       "1                  -1.491283e-01 -1.290881             -0.062033   \n",
       "2                   7.711398e-01  0.311136             -0.053281   \n",
       "3                  -4.533467e-02 -1.290881             -0.054532   \n",
       "4                  -4.009227e-01 -0.096538             -0.078286   \n",
       "...                          ...       ...                   ...   \n",
       "1067                1.928124e+00  0.785562             -0.057032   \n",
       "1068               -7.317684e-01 -0.763270             -0.065784   \n",
       "1069               -5.156108e-01  1.320302             -0.049531   \n",
       "1070                1.651374e-01  0.490598             -0.050781   \n",
       "1071                3.603613e-07 -0.000023             -0.000146   \n",
       "\n",
       "      number_of_open_complaints  total_claim_amount  \n",
       "0                     -0.445804           -1.374903  \n",
       "1                     -0.445804            2.481388  \n",
       "2                     -0.445804            0.551535  \n",
       "3                     -0.445804            0.425155  \n",
       "4                     -0.445804           -1.323668  \n",
       "...                         ...                 ...  \n",
       "1067                   1.819134           -0.674690  \n",
       "1068                  -0.445804            0.780385  \n",
       "1069                  -0.445804            0.486637  \n",
       "1070                  -0.445804            0.452481  \n",
       "1071                  -0.445804           -0.001803  \n",
       "\n",
       "[1072 rows x 5 columns]"
      ]
     },
     "execution_count": 93,
     "metadata": {},
     "output_type": "execute_result"
    }
   ],
   "source": [
    "transformer = StandardScaler().fit(numerical)\n",
    "x_standardized = transformer.transform(numerical)\n",
    "print(x_standardized.shape)\n",
    "pd.DataFrame(x_standardized, columns=numerical.columns)"
   ]
  },
  {
   "cell_type": "code",
   "execution_count": 94,
   "id": "33668fe3",
   "metadata": {},
   "outputs": [
    {
     "data": {
      "text/plain": [
       "Index(['custateomer_lifetime_value', 'income', 'monthly_premium_auto',\n",
       "       'number_of_open_complaints', 'total_claim_amount'],\n",
       "      dtype='object')"
      ]
     },
     "execution_count": 94,
     "metadata": {},
     "output_type": "execute_result"
    }
   ],
   "source": [
    "x_standardized=data.select_dtypes('number')#.columns\n",
    "x_standardized.columns"
   ]
  },
  {
   "cell_type": "code",
   "execution_count": 95,
   "id": "19ecac09",
   "metadata": {},
   "outputs": [
    {
     "data": {
      "image/png": "[encoded data removed]",
      "text/plain": [
       "<Figure size 432x288 with 1 Axes>"
      ]
     },
     "metadata": {
      "needs_background": "light"
     },
     "output_type": "display_data"
    }
   ],
   "source": [
    "sns.scatterplot(x='income',y='total_claim_amount',data=x_standardized)\n",
    "plt.show()"
   ]
  },
  {
   "cell_type": "code",
   "execution_count": 96,
   "id": "3117d6dc",
   "metadata": {},
   "outputs": [
    {
     "data": {
      "text/plain": [
       "-0.36129351038340196"
      ]
     },
     "execution_count": 96,
     "metadata": {},
     "output_type": "execute_result"
    }
   ],
   "source": [
    "x_standardized['income'].corr(x_standardized['total_claim_amount'])"
   ]
  }
 ],
 "metadata": {
  "colab": {
   "provenance": []
  },
  "kernelspec": {
   "display_name": "Python 3 (ipykernel)",
   "language": "python",
   "name": "python3"
  },
  "language_info": {
   "codemirror_mode": {
    "name": "ipython",
    "version": 3
   },
   "file_extension": ".py",
   "mimetype": "text/x-python",
   "name": "python",
   "nbconvert_exporter": "python",
   "pygments_lexer": "ipython3",
   "version": "3.9.12"
  }
 },
 "nbformat": 4,
 "nbformat_minor": 5
}
